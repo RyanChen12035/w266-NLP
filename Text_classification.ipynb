{
  "cells": [
    {
      "cell_type": "markdown",
      "metadata": {
        "id": "view-in-github",
        "colab_type": "text"
      },
      "source": [
        "<a href=\"https://colab.research.google.com/github/RyanChen12035/w266-NLP/blob/main/Text_classification.ipynb\" target=\"_parent\"><img src=\"https://colab.research.google.com/assets/colab-badge.svg\" alt=\"Open In Colab\"/></a>"
      ]
    },
    {
      "cell_type": "markdown",
      "metadata": {
        "id": "n7BzBd-N9mS1"
      },
      "source": [
        "# Assignment 2: Text Classification with Various Neural Networks\n",
        "\n",
        "**Description:** This assignment covers various neural network architectures and components, largely used in the context of classification. You will compare Deep Averaging Networks, Deep Weighted Averaging Networks using Attention, and BERT-based models. You should also be able to develop an intuition for:\n",
        "\n",
        "\n",
        "*   The effects of fine-tuning word vectors or starting with random word vectors\n",
        "*   How various networks behave when the training set size changes\n",
        "*   The effect of shuffling your training data\n",
        "*   The benefits of Attention calculations\n",
        "*   Working with BERT\n",
        "\n",
        "\n",
        "The assignment notebook closely follows the lesson notebooks. We will use the IMDB dataset and will leverage some of the models, or part of the code, for our current investigation.\n",
        "\n",
        "The initial part of the notebook is purely setup. We will then evaluate how Attention can make Deep Averaging networks better.\n",
        "\n",
        "Do not try to run this entire notebook on your GCP instance as the training of models requires a GPU to work in a timely fashion. This notebook should be run on a Google Colab leveraging a GPU. By default, when you open the notebook in Colab it will try to use a GPU. Total runtime of the entire notebook (with solutions and a Colab GPU) should be about 1h.\n",
        "\n",
        "\n",
        "[![Open In Colab](https://colab.research.google.com/assets/colab-badge.svg)](https://colab.research.google.com/github/datasci-w266/2023-fall-main/blob/master/assignment/a2/Text_classification.ipynb)\n",
        "\n",
        "The overall assignment structure is as follows:\n",
        "\n",
        "\n",
        "1. Setup\n",
        "  \n",
        "  1.1 Libraries, Embeddings,  & Helper Functions\n",
        "\n",
        "  1.2 Data Acquisition\n",
        "\n",
        "  1.3. Data Preparation\n",
        "\n",
        "      1.3.1 Training/Test Sets using Word2Vec\n",
        "\n",
        "      1.3.2 Training/Test Sets for BERT-based models\n",
        "\n",
        "\n",
        "2. Classification with various Word2Vec-based Models\n",
        "\n",
        "  2.1 The Role of Shuffling of the Training Set\n",
        "\n",
        "  2.2 DAN vs Weighted Averaging Models using Attention\n",
        "\n",
        "    2.2.1 Warm-Up\n",
        "    \n",
        "    2.2.2 The WAN Model\n",
        "    \n",
        "  2.3 Approaches for Training of Embeddings\n",
        "\n",
        "\n",
        "3. Classification with BERT\n",
        "\n",
        "  3.1. BERT Basics\n",
        "\n",
        "  3.2 CLS-Token-based Classification\n",
        "\n",
        "  3.3 Averaging of BERT Outputs\n",
        "\n",
        "  3.4. Adding a CNN on top of BERT\n",
        "\n",
        "\n",
        "\n",
        "**INSTRUCTIONS:**:\n",
        "\n",
        "* Questions are always indicated as **QUESTION**, so you can search for this string to make sure you answered all of the questions. You are expected to fill out, run, and submit this notebook, as well as to answer the questions in the **answers** file as you did in a1.  Please do **not** remove the output from your notebooks when you submit them as we'll look at the output as well as your code for grading purposes.\n",
        "\n",
        "* **### YOUR CODE HERE** indicates that you are supposed to write code.\n",
        "\n",
        "* If you want to, you can run all of the cells in section 1 in bulk. This is setup work and no questions are in there. At the end of section 1 we will state all of the relevant variables that were defined and created in section 1.\n",
        "\n",
        "* Finally, unless otherwise indicated your validation accuracy will be 0.65 or higher if you have correctly implemented the model.\n",
        "\n"
      ]
    },
    {
      "cell_type": "markdown",
      "metadata": {
        "id": "so-yur1S9mS4"
      },
      "source": [
        "## 1. Setup\n",
        "\n",
        "### 1.1. Libraries and Helper Functions\n",
        "\n",
        "This notebook requires the TensorFlow dataset and other prerequisites that you must download."
      ]
    },
    {
      "cell_type": "code",
      "execution_count": 1,
      "metadata": {
        "colab": {
          "base_uri": "https://localhost:8080/"
        },
        "id": "8uQnMctL9mS5",
        "outputId": "b280af53-b2c3-4d05-dc47-9fe34bc1c898"
      },
      "outputs": [
        {
          "output_type": "stream",
          "name": "stdout",
          "text": [
            "\u001b[2K     \u001b[90m━━━━━━━━━━━━━━━━━━━━━━━━━━━━━━━━━━━━━━━━\u001b[0m \u001b[32m6.5/6.5 MB\u001b[0m \u001b[31m35.5 MB/s\u001b[0m eta \u001b[36m0:00:00\u001b[0m\n",
            "\u001b[2K     \u001b[90m━━━━━━━━━━━━━━━━━━━━━━━━━━━━━━━━━━━━━━━━\u001b[0m \u001b[32m7.6/7.6 MB\u001b[0m \u001b[31m12.6 MB/s\u001b[0m eta \u001b[36m0:00:00\u001b[0m\n",
            "\u001b[2K     \u001b[90m━━━━━━━━━━━━━━━━━━━━━━━━━━━━━━━━━━━━━━\u001b[0m \u001b[32m295.0/295.0 kB\u001b[0m \u001b[31m15.4 MB/s\u001b[0m eta \u001b[36m0:00:00\u001b[0m\n",
            "\u001b[2K     \u001b[90m━━━━━━━━━━━━━━━━━━━━━━━━━━━━━━━━━━━━━━━━\u001b[0m \u001b[32m7.8/7.8 MB\u001b[0m \u001b[31m41.0 MB/s\u001b[0m eta \u001b[36m0:00:00\u001b[0m\n",
            "\u001b[2K     \u001b[90m━━━━━━━━━━━━━━━━━━━━━━━━━━━━━━━━━━━━━━━━\u001b[0m \u001b[32m1.3/1.3 MB\u001b[0m \u001b[31m41.7 MB/s\u001b[0m eta \u001b[36m0:00:00\u001b[0m\n",
            "\u001b[?25h"
          ]
        }
      ],
      "source": [
        "#@title Installs\n",
        "\n",
        "!pip install pydot --quiet\n",
        "!pip install gensim --quiet\n",
        "!pip install tensorflow-datasets --quiet\n",
        "!pip install -U tensorflow-text --quiet\n",
        "!pip install transformers --quiet"
      ]
    },
    {
      "cell_type": "markdown",
      "metadata": {
        "id": "ZFFBvPMR9mS8"
      },
      "source": [
        "Now we are ready to do the imports."
      ]
    },
    {
      "cell_type": "code",
      "execution_count": 2,
      "metadata": {
        "id": "Q8b9aykE9mS8"
      },
      "outputs": [],
      "source": [
        "#@title Imports\n",
        "\n",
        "import numpy as np\n",
        "import tensorflow as tf\n",
        "from tensorflow import keras\n",
        "\n",
        "from tensorflow.keras.layers import Embedding, Input, Dense, Lambda, Dropout, Conv1D, GlobalMaxPooling1D, Concatenate\n",
        "from tensorflow.keras.models import Model\n",
        "import tensorflow.keras.backend as K\n",
        "import tensorflow_datasets as tfds\n",
        "import tensorflow_text as tf_text\n",
        "\n",
        "from transformers import BertTokenizer, TFBertModel\n",
        "from transformers import logging\n",
        "logging.set_verbosity_error()\n",
        "\n",
        "import sklearn as sk\n",
        "import os\n",
        "import nltk\n",
        "from nltk.data import find\n",
        "\n",
        "import matplotlib.pyplot as plt\n",
        "\n",
        "import re\n",
        "\n",
        "import gensim\n",
        "from gensim.models import Word2Vec\n",
        "from gensim.models import KeyedVectors\n",
        "from gensim.test.utils import datapath"
      ]
    },
    {
      "cell_type": "markdown",
      "metadata": {
        "id": "ESElm33U9mS9"
      },
      "source": [
        "Below is a helper function to plot histories."
      ]
    },
    {
      "cell_type": "code",
      "execution_count": 3,
      "metadata": {
        "id": "YKWj6pPM9mS-"
      },
      "outputs": [],
      "source": [
        "#@title Plotting Function\n",
        "\n",
        "# 4-window plot. Small modification from matplotlib examples.\n",
        "\n",
        "def make_plot(axs,\n",
        "              model_history1,\n",
        "              model_history2,\n",
        "              model_1_name='model 1',\n",
        "              model_2_name='model 2',\n",
        "              ):\n",
        "    box = dict(facecolor='yellow', pad=5, alpha=0.2)\n",
        "\n",
        "    for i, metric in enumerate(['loss', 'accuracy']):\n",
        "        # small adjustment to account for the 2 accuracy measures in the Weighted Averging Model with Attention\n",
        "        if 'classification_%s' % metric in model_history2.history:\n",
        "            metric2 = 'classification_%s' % metric\n",
        "        else:\n",
        "            metric2 = metric\n",
        "\n",
        "        y_lim_lower1 = np.min(model_history1.history[metric])\n",
        "        y_lim_lower2 = np.min(model_history2.history[metric2])\n",
        "        y_lim_lower = min(y_lim_lower1, y_lim_lower2) * 0.9\n",
        "\n",
        "        y_lim_upper1 = np.max(model_history1.history[metric])\n",
        "        y_lim_upper2 = np.max(model_history2.history[metric2])\n",
        "        y_lim_upper = max(y_lim_upper1, y_lim_upper2) * 1.1\n",
        "\n",
        "        for j, model_history in enumerate([model_history1, model_history2]):\n",
        "            model_name = [model_1_name, model_2_name][j]\n",
        "            model_metric = [metric, metric2][j]\n",
        "            ax1 = axs[i, j]\n",
        "            ax1.plot(model_history.history[model_metric])\n",
        "            ax1.plot(model_history.history['val_%s' % model_metric])\n",
        "            ax1.set_title('%s - %s' % (metric, model_name))\n",
        "            ax1.set_ylabel(metric, bbox=box)\n",
        "            ax1.set_ylim(y_lim_lower, y_lim_upper)"
      ]
    },
    {
      "cell_type": "markdown",
      "metadata": {
        "id": "1QDi-Kg49mS-"
      },
      "source": [
        "Next, we get the word2vec model from nltk."
      ]
    },
    {
      "cell_type": "code",
      "execution_count": 4,
      "metadata": {
        "colab": {
          "base_uri": "https://localhost:8080/"
        },
        "id": "49X1T6an9mS_",
        "outputId": "603ad761-78ad-4282-f60e-c8c8fd454bec"
      },
      "outputs": [
        {
          "output_type": "stream",
          "name": "stderr",
          "text": [
            "[nltk_data] Downloading package word2vec_sample to /root/nltk_data...\n",
            "[nltk_data]   Unzipping models/word2vec_sample.zip.\n"
          ]
        }
      ],
      "source": [
        "#@title NLTK & Word2Vec\n",
        "\n",
        "nltk.download('word2vec_sample')\n",
        "\n",
        "word2vec_sample = str(find('models/word2vec_sample/pruned.word2vec.txt'))\n",
        "\n",
        "model = KeyedVectors.load_word2vec_format(datapath(word2vec_sample), binary=False)"
      ]
    },
    {
      "cell_type": "markdown",
      "metadata": {
        "id": "Y_rdVE3z9mTA"
      },
      "source": [
        "Now here we have the embedding **model** defined, let's see how many words are in the vocabulary:"
      ]
    },
    {
      "cell_type": "code",
      "execution_count": 5,
      "metadata": {
        "colab": {
          "base_uri": "https://localhost:8080/"
        },
        "id": "uoL6l_q89mTA",
        "outputId": "ffc3dce1-2543-48e2-9547-843cffcb82dd"
      },
      "outputs": [
        {
          "output_type": "execute_result",
          "data": {
            "text/plain": [
              "43981"
            ]
          },
          "metadata": {},
          "execution_count": 5
        }
      ],
      "source": [
        "len(model)"
      ]
    },
    {
      "cell_type": "markdown",
      "metadata": {
        "id": "r3Q0zOkJ9mTB"
      },
      "source": [
        "What do the word vectors look like? As expected:"
      ]
    },
    {
      "cell_type": "code",
      "execution_count": 6,
      "metadata": {
        "colab": {
          "base_uri": "https://localhost:8080/"
        },
        "id": "ZyAGMYGK9mTB",
        "outputId": "95a9b085-8ec5-4a08-fd38-9590f16798d1"
      },
      "outputs": [
        {
          "output_type": "execute_result",
          "data": {
            "text/plain": [
              "array([ 0.0306035 ,  0.0886877 , -0.0121269 ,  0.0761965 ,  0.0566269 ,\n",
              "       -0.0424702 ,  0.0410129 , -0.0497567 , -0.00364328,  0.0632889 ,\n",
              "       -0.0142608 , -0.0791111 ,  0.0174877 , -0.0383064 ,  0.00926433,\n",
              "        0.0295626 ,  0.0770293 ,  0.0949334 , -0.0428866 , -0.0295626 ],\n",
              "      dtype=float32)"
            ]
          },
          "metadata": {},
          "execution_count": 6
        }
      ],
      "source": [
        "model['great'][:20]"
      ]
    },
    {
      "cell_type": "markdown",
      "metadata": {
        "id": "2BMraFZS9mTB"
      },
      "source": [
        "We can now build the embedding matrix and a vocabulary dictionary:"
      ]
    },
    {
      "cell_type": "code",
      "execution_count": 7,
      "metadata": {
        "id": "lOTIN3G39mTB"
      },
      "outputs": [],
      "source": [
        "EMBEDDING_DIM = len(model['university'])      # we know... it's 300\n",
        "\n",
        "# initialize embedding matrix and word-to-id map:\n",
        "embedding_matrix = np.zeros((len(model) + 1, EMBEDDING_DIM))\n",
        "vocab_dict = {}\n",
        "\n",
        "# build the embedding matrix and the word-to-id map:\n",
        "for i, word in enumerate(model.index_to_key):\n",
        "    embedding_vector = model[word]\n",
        "\n",
        "    if embedding_vector is not None:\n",
        "        # words not found in embedding index will be all-zeros.\n",
        "        embedding_matrix[i] = embedding_vector\n",
        "        vocab_dict[word] = i\n",
        "\n",
        "# we can use the last index at the end of the vocab for unknown tokens\n",
        "vocab_dict['[UNK]'] = len(vocab_dict)"
      ]
    },
    {
      "cell_type": "code",
      "execution_count": 8,
      "metadata": {
        "colab": {
          "base_uri": "https://localhost:8080/"
        },
        "id": "5KlSpLnP6VqA",
        "outputId": "f404033c-a961-47c6-ea89-3c33c40d4a44"
      },
      "outputs": [
        {
          "output_type": "execute_result",
          "data": {
            "text/plain": [
              "(43982, 300)"
            ]
          },
          "metadata": {},
          "execution_count": 8
        }
      ],
      "source": [
        "embedding_matrix.shape"
      ]
    },
    {
      "cell_type": "code",
      "execution_count": 9,
      "metadata": {
        "colab": {
          "base_uri": "https://localhost:8080/"
        },
        "id": "LGYcZu0N9mTC",
        "outputId": "69f3ac8e-b32b-44e8-8b48-08187d4a9fba"
      },
      "outputs": [
        {
          "output_type": "execute_result",
          "data": {
            "text/plain": [
              "array([[ 0.0891758 ,  0.121832  , -0.0671959 ,  0.0477279 , -0.013659  ],\n",
              "       [ 0.0526281 ,  0.013157  , -0.010104  ,  0.0540819 ,  0.0386715 ],\n",
              "       [ 0.0786419 ,  0.0373911 , -0.0131472 ,  0.0347375 ,  0.0288273 ],\n",
              "       [-0.00157585, -0.0564239 ,  0.00320281,  0.0422498 ,  0.15264399],\n",
              "       [ 0.0356899 , -0.00367283, -0.065534  ,  0.0213832 ,  0.00788408]])"
            ]
          },
          "metadata": {},
          "execution_count": 9
        }
      ],
      "source": [
        "embedding_matrix[:5, :5]"
      ]
    },
    {
      "cell_type": "code",
      "source": [
        "#token:[UNK]\n",
        "embedding_matrix[-1, :]"
      ],
      "metadata": {
        "colab": {
          "base_uri": "https://localhost:8080/"
        },
        "id": "4VXQpp5J5Cfv",
        "outputId": "ceb4a8eb-1314-4c7c-caa5-3aea11d7ec39"
      },
      "execution_count": 10,
      "outputs": [
        {
          "output_type": "execute_result",
          "data": {
            "text/plain": [
              "array([0., 0., 0., 0., 0., 0., 0., 0., 0., 0., 0., 0., 0., 0., 0., 0., 0.,\n",
              "       0., 0., 0., 0., 0., 0., 0., 0., 0., 0., 0., 0., 0., 0., 0., 0., 0.,\n",
              "       0., 0., 0., 0., 0., 0., 0., 0., 0., 0., 0., 0., 0., 0., 0., 0., 0.,\n",
              "       0., 0., 0., 0., 0., 0., 0., 0., 0., 0., 0., 0., 0., 0., 0., 0., 0.,\n",
              "       0., 0., 0., 0., 0., 0., 0., 0., 0., 0., 0., 0., 0., 0., 0., 0., 0.,\n",
              "       0., 0., 0., 0., 0., 0., 0., 0., 0., 0., 0., 0., 0., 0., 0., 0., 0.,\n",
              "       0., 0., 0., 0., 0., 0., 0., 0., 0., 0., 0., 0., 0., 0., 0., 0., 0.,\n",
              "       0., 0., 0., 0., 0., 0., 0., 0., 0., 0., 0., 0., 0., 0., 0., 0., 0.,\n",
              "       0., 0., 0., 0., 0., 0., 0., 0., 0., 0., 0., 0., 0., 0., 0., 0., 0.,\n",
              "       0., 0., 0., 0., 0., 0., 0., 0., 0., 0., 0., 0., 0., 0., 0., 0., 0.,\n",
              "       0., 0., 0., 0., 0., 0., 0., 0., 0., 0., 0., 0., 0., 0., 0., 0., 0.,\n",
              "       0., 0., 0., 0., 0., 0., 0., 0., 0., 0., 0., 0., 0., 0., 0., 0., 0.,\n",
              "       0., 0., 0., 0., 0., 0., 0., 0., 0., 0., 0., 0., 0., 0., 0., 0., 0.,\n",
              "       0., 0., 0., 0., 0., 0., 0., 0., 0., 0., 0., 0., 0., 0., 0., 0., 0.,\n",
              "       0., 0., 0., 0., 0., 0., 0., 0., 0., 0., 0., 0., 0., 0., 0., 0., 0.,\n",
              "       0., 0., 0., 0., 0., 0., 0., 0., 0., 0., 0., 0., 0., 0., 0., 0., 0.,\n",
              "       0., 0., 0., 0., 0., 0., 0., 0., 0., 0., 0., 0., 0., 0., 0., 0., 0.,\n",
              "       0., 0., 0., 0., 0., 0., 0., 0., 0., 0., 0.])"
            ]
          },
          "metadata": {},
          "execution_count": 10
        }
      ]
    },
    {
      "cell_type": "code",
      "source": [
        "len(vocab_dict.keys())"
      ],
      "metadata": {
        "colab": {
          "base_uri": "https://localhost:8080/"
        },
        "id": "L5Gsir6kCIGP",
        "outputId": "b64ee9e5-57ff-415d-fa61-e05c564124e7"
      },
      "execution_count": 11,
      "outputs": [
        {
          "output_type": "execute_result",
          "data": {
            "text/plain": [
              "43982"
            ]
          },
          "metadata": {},
          "execution_count": 11
        }
      ]
    },
    {
      "cell_type": "code",
      "source": [
        "list(vocab_dict.items())[:10]"
      ],
      "metadata": {
        "colab": {
          "base_uri": "https://localhost:8080/"
        },
        "id": "shXWfRH0CQ-R",
        "outputId": "e7963013-ef71-4a77-a513-4de3ea549bee"
      },
      "execution_count": 12,
      "outputs": [
        {
          "output_type": "execute_result",
          "data": {
            "text/plain": [
              "[('fawn', 0),\n",
              " ('deferment', 1),\n",
              " ('Debts', 2),\n",
              " ('Poetry', 3),\n",
              " ('woods', 4),\n",
              " ('clotted', 5),\n",
              " ('hanging', 6),\n",
              " ('hastily', 7),\n",
              " ('comically', 8),\n",
              " ('localized', 9)]"
            ]
          },
          "metadata": {},
          "execution_count": 12
        }
      ]
    },
    {
      "cell_type": "markdown",
      "metadata": {
        "id": "YIL1eUtV9mTC"
      },
      "source": [
        "The last row consists of all zeros. We will use that for the UNK token, the placeholder token for unknown words.\n",
        "\n",
        "### 1.2 Data Acquisition\n",
        "\n",
        "\n",
        "We will use the IMDB dataset delivered as part of the TensorFlow-datasets library, and split into training and test sets. For expedience, we will limit ourselves in terms of train and test examples."
      ]
    },
    {
      "cell_type": "code",
      "execution_count": 13,
      "metadata": {
        "colab": {
          "base_uri": "https://localhost:8080/",
          "height": 136,
          "referenced_widgets": [
            "787dacec3b0a43bea0ad777009f892f1",
            "45c315905f80429bb7f7352d77e2892c",
            "eac6b9282f85485cb60cd580b47d7465",
            "a0c84e362ccf481bb4a0021c43e1baa2",
            "6a51e7e005c04181a9c26cd6a746d411",
            "bf6ebce3d551472a96da569ded9f78d1",
            "83587d29a38f40a3bdaaaaffc26ccfc4",
            "379044e11bee496aadc8aec003aa7253",
            "f76c44ae51374233ae77b893d821d380",
            "426e4c7eaeeb4342b3f1f483c9258906",
            "b98327d5743b4e45b8834ca4a5e7550d",
            "a9a83aaf3bc04043a41433ebeec145f9",
            "ded7012a48a541a4ba81a820012d43d2",
            "db2b07ef61fb4510bf60ae48a1b67cc7",
            "a41dad799bb24e468286596243c6410a",
            "5c10fcfc0a7243ca90e13f59a8836413",
            "f33069cc48484d409d5c55ef1cd0f3b2",
            "be9262c9ab6744c3bde9fdf3de17bac1",
            "e034cba6b473424ba5a5fed753211ea1",
            "0098ec8255ae45d695f12e0358149731",
            "4cd76e414c9645a994dedc0e2f05b8ef",
            "d83d8ea2ff0940bb9783b40873f8b775",
            "970721a1ae194e7283097f520f37026f",
            "51ed62fc3e19442faa104c958aa9921f",
            "88425215323946ebafc5fab9d540c82b",
            "1f94a6c55d08417f8a9134e73cff0b73",
            "66c27d4fda29436c90872643e440770f",
            "46b5052fdb594c4086a48a8db175b87e",
            "5f1abd5caf984c5c893c34222b11efd0",
            "39656e4a22404e3dabadd1c7482a8ab8",
            "e2d9b5137477468bbd28055399790d27",
            "cdd5b3db0e9541b8bc4d82f3163b0417",
            "90af79406f8e4e678cbc7c35e95cfd3a",
            "be864b2b568a4fbd83929cd25592756a",
            "751b3bdafab445d0bb09675ba869ded8",
            "82ec43b9e22940f383274a4d8dc14308",
            "6d7b484bcc114b44a69b3051db82563a",
            "359d2decedb24679a8dd3773a8954650",
            "8a3872f0359641bbb5f20c18304168a8",
            "91e7c2534cd14d3ba6a5a915fbe12a87",
            "a1169c51b7bb4f57a85045abd7eb2b46",
            "dfae3ed073664352a67cfcc3e37980ca",
            "6f08ae1363b542c4978145ba7ddcc8b6",
            "d6c748b5153b430ea5b2d4233999c6d2",
            "f73c3fb7e78247f881a8dcba56687e7b",
            "41a8c3e3e2e94e17aee0569064f29ea7",
            "65aaa97f4b4c469f9690f163d7a085f2",
            "424c0c75f3a744fabd6e54ba627f2160",
            "15c12248f6ae45b68973585a0fc0958c",
            "cbf62149867d426f9f73157f85f1bfc2",
            "c29def271ad94d2585cbd8f654a654c8",
            "4a094ef5ef3948d397250cdb72fa9c6e",
            "7d5f8a7f98404213a5e489ad2874e3c7",
            "7eb4abc994164703ac6609f1169fc24a",
            "fedc8741004340578bbeddb42b513e34",
            "488b4a1a6e9543f89056317293c46216",
            "ce8c7ccebc764307827d7fa568ebd9b6",
            "7488cd57dbcc44f9918dc952d1ef82ef",
            "eb0b86c9922e4b09b3cf5f5f0dd70747",
            "d122e497b3d7461fb1c42b12fc2ccf28",
            "222de92d3cc4455fb432320753c8baf3",
            "4ca6ea58a83d46dfb4140e43a9accdbf",
            "3a95bc2f5f124785b63144644445f61b",
            "814a45801691422dba433941ff5c11ef",
            "41aa69f5fcce4949a9cc47a51718fd2c",
            "5e5c019824194a67b12e867a1c9f336c",
            "db63864838a44d3eb08cbb65c4636375",
            "01a9b144ddda4c46beea1a011364fd11",
            "0496a7ce8be14bfd96a498f1c1654aae",
            "aa733dab2a994ab5989804cab12e10ae",
            "c307c50cf3814d398d8a0c89cab90450",
            "9b44ca52f5c249eea59943305d204b4f",
            "ede1765e694d43a794fdc8a7415b9a00",
            "17914b842f3647c69d84b161ad0a8592",
            "c0f421c34cf44604a51b001e87e30ce0",
            "1d77b40548ea4d8aac08558158a9f6fc",
            "96ad0cbe7a3e469c82775a647d228a75",
            "54860522051148fe97e2b265423ff6b3",
            "1d8854b5945045a8b975a388c194f6af",
            "1539e37d7b3447dc812e8be8a2f00151",
            "75f320db05874bc7a871d32ff85e4ff8",
            "5ac25f78316c4eaabdddb4333932517a",
            "f011d51a93f54e86ae538840c4a974a3",
            "fe71569b74b14eb98bdaa802dc60936a",
            "b6a2033e5ade467d93ce0a27b94ef540",
            "ce0b81f77f174c00aeacd3d6402db203",
            "cb0bbe29ef934d76be983707b364d2d9",
            "dc1fe77334fa48149ea39c9f13d34386",
            "d1e160dbadeb4b47b6e6deff671ee156",
            "adc2e833c53446c2ae130364b99970ae",
            "dabb569e0b324ceb894ff5be007b6546",
            "7093003b440049e0b0547de6579d2e2c",
            "28f85c503ae041c7a69110a19df75d40",
            "ccea817ddd774074929cace677d30864",
            "6651f5a1f5154002917e1b15e1a04fef",
            "78e4ed77f5e048ec86ef3ac475caea91",
            "1b5afb9016114e9eb5ab3641f537b5f5",
            "248656e59e06450fadcc44ad026af778",
            "e5aed1f13377404f9caf8b4232df77e7"
          ]
        },
        "id": "uwOF0qYb9mTC",
        "outputId": "5718ad3a-e342-4f8f-8e33-009694060dd7"
      },
      "outputs": [
        {
          "output_type": "stream",
          "name": "stdout",
          "text": [
            "Downloading and preparing dataset 80.23 MiB (download: 80.23 MiB, generated: Unknown size, total: 80.23 MiB) to /root/tensorflow_datasets/imdb_reviews/plain_text/1.0.0...\n"
          ]
        },
        {
          "output_type": "display_data",
          "data": {
            "text/plain": [
              "Dl Completed...: 0 url [00:00, ? url/s]"
            ],
            "application/vnd.jupyter.widget-view+json": {
              "version_major": 2,
              "version_minor": 0,
              "model_id": "787dacec3b0a43bea0ad777009f892f1"
            }
          },
          "metadata": {}
        },
        {
          "output_type": "display_data",
          "data": {
            "text/plain": [
              "Dl Size...: 0 MiB [00:00, ? MiB/s]"
            ],
            "application/vnd.jupyter.widget-view+json": {
              "version_major": 2,
              "version_minor": 0,
              "model_id": "a9a83aaf3bc04043a41433ebeec145f9"
            }
          },
          "metadata": {}
        },
        {
          "output_type": "display_data",
          "data": {
            "text/plain": [
              "Generating splits...:   0%|          | 0/3 [00:00<?, ? splits/s]"
            ],
            "application/vnd.jupyter.widget-view+json": {
              "version_major": 2,
              "version_minor": 0,
              "model_id": "970721a1ae194e7283097f520f37026f"
            }
          },
          "metadata": {}
        },
        {
          "output_type": "display_data",
          "data": {
            "text/plain": [
              "Generating train examples...:   0%|          | 0/25000 [00:00<?, ? examples/s]"
            ],
            "application/vnd.jupyter.widget-view+json": {
              "version_major": 2,
              "version_minor": 0,
              "model_id": "be864b2b568a4fbd83929cd25592756a"
            }
          },
          "metadata": {}
        },
        {
          "output_type": "display_data",
          "data": {
            "text/plain": [
              "Shuffling /root/tensorflow_datasets/imdb_reviews/plain_text/1.0.0.incompleteWQGYAM/imdb_reviews-train.tfrecord…"
            ],
            "application/vnd.jupyter.widget-view+json": {
              "version_major": 2,
              "version_minor": 0,
              "model_id": "f73c3fb7e78247f881a8dcba56687e7b"
            }
          },
          "metadata": {}
        },
        {
          "output_type": "display_data",
          "data": {
            "text/plain": [
              "Generating test examples...:   0%|          | 0/25000 [00:00<?, ? examples/s]"
            ],
            "application/vnd.jupyter.widget-view+json": {
              "version_major": 2,
              "version_minor": 0,
              "model_id": "488b4a1a6e9543f89056317293c46216"
            }
          },
          "metadata": {}
        },
        {
          "output_type": "display_data",
          "data": {
            "text/plain": [
              "Shuffling /root/tensorflow_datasets/imdb_reviews/plain_text/1.0.0.incompleteWQGYAM/imdb_reviews-test.tfrecord*…"
            ],
            "application/vnd.jupyter.widget-view+json": {
              "version_major": 2,
              "version_minor": 0,
              "model_id": "db63864838a44d3eb08cbb65c4636375"
            }
          },
          "metadata": {}
        },
        {
          "output_type": "display_data",
          "data": {
            "text/plain": [
              "Generating unsupervised examples...:   0%|          | 0/50000 [00:00<?, ? examples/s]"
            ],
            "application/vnd.jupyter.widget-view+json": {
              "version_major": 2,
              "version_minor": 0,
              "model_id": "54860522051148fe97e2b265423ff6b3"
            }
          },
          "metadata": {}
        },
        {
          "output_type": "display_data",
          "data": {
            "text/plain": [
              "Shuffling /root/tensorflow_datasets/imdb_reviews/plain_text/1.0.0.incompleteWQGYAM/imdb_reviews-unsupervised.t…"
            ],
            "application/vnd.jupyter.widget-view+json": {
              "version_major": 2,
              "version_minor": 0,
              "model_id": "d1e160dbadeb4b47b6e6deff671ee156"
            }
          },
          "metadata": {}
        },
        {
          "output_type": "stream",
          "name": "stdout",
          "text": [
            "Dataset imdb_reviews downloaded and prepared to /root/tensorflow_datasets/imdb_reviews/plain_text/1.0.0. Subsequent calls will reuse this data.\n"
          ]
        }
      ],
      "source": [
        "train_data, test_data = tfds.load(\n",
        "    name=\"imdb_reviews\",\n",
        "    split=('train[:80%]', 'test[80%:]'),\n",
        "    as_supervised=True)\n",
        "\n",
        "train_examples, train_labels = next(iter(train_data.batch(20000)))\n",
        "test_examples, test_labels = next(iter(test_data.batch(5000)))"
      ]
    },
    {
      "cell_type": "markdown",
      "metadata": {
        "id": "mPHFtgGkHNOQ"
      },
      "source": [
        "It is always highly recommended to look at the data. What do the records look like? Are they clean or do they contain a lot of cruft (potential noise)?"
      ]
    },
    {
      "cell_type": "code",
      "execution_count": 14,
      "metadata": {
        "colab": {
          "base_uri": "https://localhost:8080/"
        },
        "id": "wvmWKdVQ9mTC",
        "outputId": "1574a4b6-8707-455b-bcf9-8f2180f983bd"
      },
      "outputs": [
        {
          "output_type": "execute_result",
          "data": {
            "text/plain": [
              "<tf.Tensor: shape=(4,), dtype=string, numpy=\n",
              "array([b\"This was an absolutely terrible movie. Don't be lured in by Christopher Walken or Michael Ironside. Both are great actors, but this must simply be their worst role in history. Even their great acting could not redeem this movie's ridiculous storyline. This movie is an early nineties US propaganda piece. The most pathetic scenes were those when the Columbian rebels were making their cases for revolutions. Maria Conchita Alonso appeared phony, and her pseudo-love affair with Walken was nothing but a pathetic emotional plug in a movie that was devoid of any real meaning. I am disappointed that there are movies like this, ruining actor's like Christopher Walken's good name. I could barely sit through it.\",\n",
              "       b'I have been known to fall asleep during films, but this is usually due to a combination of things including, really tired, being warm and comfortable on the sette and having just eaten a lot. However on this occasion I fell asleep because the film was rubbish. The plot development was constant. Constantly slow and boring. Things seemed to happen, but with no explanation of what was causing them or why. I admit, I may have missed part of the film, but i watched the majority of it and everything just seemed to happen of its own accord without any real concern for anything else. I cant recommend this film at all.',\n",
              "       b'Mann photographs the Alberta Rocky Mountains in a superb fashion, and Jimmy Stewart and Walter Brennan give enjoyable performances as they always seem to do. <br /><br />But come on Hollywood - a Mountie telling the people of Dawson City, Yukon to elect themselves a marshal (yes a marshal!) and to enforce the law themselves, then gunfighters battling it out on the streets for control of the town? <br /><br />Nothing even remotely resembling that happened on the Canadian side of the border during the Klondike gold rush. Mr. Mann and company appear to have mistaken Dawson City for Deadwood, the Canadian North for the American Wild West.<br /><br />Canadian viewers be prepared for a Reefer Madness type of enjoyable howl with this ludicrous plot, or, to shake your head in disgust.',\n",
              "       b'This is the kind of film for a snowy Sunday afternoon when the rest of the world can go ahead with its own business as you descend into a big arm-chair and mellow for a couple of hours. Wonderful performances from Cher and Nicolas Cage (as always) gently row the plot along. There are no rapids to cross, no dangerous waters, just a warm and witty paddle through New York life at its best. A family film in every sense and one that deserves the praise it received.'],\n",
              "      dtype=object)>"
            ]
          },
          "metadata": {},
          "execution_count": 14
        }
      ],
      "source": [
        "train_examples[:4]"
      ]
    },
    {
      "cell_type": "code",
      "execution_count": 15,
      "metadata": {
        "colab": {
          "base_uri": "https://localhost:8080/"
        },
        "id": "BzEnCspD9mTD",
        "outputId": "fb2b6019-3ab0-4c53-ce17-3fac7f773d3e"
      },
      "outputs": [
        {
          "output_type": "execute_result",
          "data": {
            "text/plain": [
              "<tf.Tensor: shape=(4,), dtype=int64, numpy=array([0, 0, 0, 1])>"
            ]
          },
          "metadata": {},
          "execution_count": 15
        }
      ],
      "source": [
        "train_labels[:4]"
      ]
    },
    {
      "cell_type": "markdown",
      "metadata": {
        "id": "CplHsqSDMKCa"
      },
      "source": [
        "For convenience, in this assignment we will define a sequence length and truncate all records at that length. For records that are shorter than our defined sequence length we will add padding characters to insure that our input shapes are consistent across all records."
      ]
    },
    {
      "cell_type": "code",
      "execution_count": 16,
      "metadata": {
        "id": "Zxu9U3qXMKTW"
      },
      "outputs": [],
      "source": [
        "MAX_SEQUENCE_LENGTH = 100"
      ]
    },
    {
      "cell_type": "markdown",
      "metadata": {
        "id": "1bHwj4vu9mTD"
      },
      "source": [
        "## 1.3. Data Preparation\n",
        "\n",
        "### 1.3.1. Training/Test Sets for Word2Vec-based Models\n",
        "\n",
        "First, we tokenize the data:"
      ]
    },
    {
      "cell_type": "code",
      "execution_count": 17,
      "metadata": {
        "id": "ToVTmC8V9mTD"
      },
      "outputs": [],
      "source": [
        "tokenizer = tf_text.WhitespaceTokenizer()\n",
        "train_tokens = tokenizer.tokenize(train_examples)\n",
        "test_tokens = tokenizer.tokenize(test_examples)"
      ]
    },
    {
      "cell_type": "markdown",
      "metadata": {
        "id": "qXauPwil9mTD"
      },
      "source": [
        "Let's look at some tokens.  Does they look acceptable?"
      ]
    },
    {
      "cell_type": "code",
      "execution_count": 18,
      "metadata": {
        "colab": {
          "base_uri": "https://localhost:8080/"
        },
        "id": "QZ22GGb-9mTD",
        "outputId": "5aae4925-bca3-458a-8d10-6a6fe2c50b18"
      },
      "outputs": [
        {
          "output_type": "execute_result",
          "data": {
            "text/plain": [
              "<tf.Tensor: shape=(116,), dtype=string, numpy=\n",
              "array([b'This', b'was', b'an', b'absolutely', b'terrible', b'movie.',\n",
              "       b\"Don't\", b'be', b'lured', b'in', b'by', b'Christopher', b'Walken',\n",
              "       b'or', b'Michael', b'Ironside.', b'Both', b'are', b'great',\n",
              "       b'actors,', b'but', b'this', b'must', b'simply', b'be', b'their',\n",
              "       b'worst', b'role', b'in', b'history.', b'Even', b'their', b'great',\n",
              "       b'acting', b'could', b'not', b'redeem', b'this', b\"movie's\",\n",
              "       b'ridiculous', b'storyline.', b'This', b'movie', b'is', b'an',\n",
              "       b'early', b'nineties', b'US', b'propaganda', b'piece.', b'The',\n",
              "       b'most', b'pathetic', b'scenes', b'were', b'those', b'when',\n",
              "       b'the', b'Columbian', b'rebels', b'were', b'making', b'their',\n",
              "       b'cases', b'for', b'revolutions.', b'Maria', b'Conchita',\n",
              "       b'Alonso', b'appeared', b'phony,', b'and', b'her', b'pseudo-love',\n",
              "       b'affair', b'with', b'Walken', b'was', b'nothing', b'but', b'a',\n",
              "       b'pathetic', b'emotional', b'plug', b'in', b'a', b'movie', b'that',\n",
              "       b'was', b'devoid', b'of', b'any', b'real', b'meaning.', b'I',\n",
              "       b'am', b'disappointed', b'that', b'there', b'are', b'movies',\n",
              "       b'like', b'this,', b'ruining', b\"actor's\", b'like', b'Christopher',\n",
              "       b\"Walken's\", b'good', b'name.', b'I', b'could', b'barely', b'sit',\n",
              "       b'through', b'it.'], dtype=object)>"
            ]
          },
          "metadata": {},
          "execution_count": 18
        }
      ],
      "source": [
        "train_tokens[0]"
      ]
    },
    {
      "cell_type": "markdown",
      "metadata": {
        "id": "K9D9nqdg9mTE"
      },
      "source": [
        "Yup... looks right. Of course we will need to take care of the encoding later."
      ]
    },
    {
      "cell_type": "markdown",
      "metadata": {
        "id": "XiqFULXx9mTE"
      },
      "source": [
        "Next, we define a simple function that converts the tokens above into the appropriate word2vec index values.   "
      ]
    },
    {
      "cell_type": "code",
      "execution_count": 19,
      "metadata": {
        "id": "ytUsu3kmuM3n"
      },
      "outputs": [],
      "source": [
        "def docs_to_vocab_ids(tokenized_texts_list):\n",
        "    \"\"\"\n",
        "    converting a list of strings to a list of lists of word ids\n",
        "    \"\"\"\n",
        "    texts_vocab_ids = []\n",
        "    text_labels = []\n",
        "    valid_example_list = []\n",
        "    for i, token_list in enumerate(tokenized_texts_list):\n",
        "\n",
        "        # Get the vocab id for each token in this doc ([UNK] if not in vocab)\n",
        "        vocab_ids = []\n",
        "        for token in list(token_list.numpy()):\n",
        "            decoded = token.decode('utf-8', errors='ignore')\n",
        "            if decoded in vocab_dict:\n",
        "                vocab_ids.append(vocab_dict[decoded])\n",
        "            else:\n",
        "                vocab_ids.append(vocab_dict['[UNK]'])\n",
        "\n",
        "        # Truncate text to max length, add padding up to max length\n",
        "        vocab_ids = vocab_ids[:MAX_SEQUENCE_LENGTH]\n",
        "        n_padding = (MAX_SEQUENCE_LENGTH - len(vocab_ids))\n",
        "        # For simplicity in this model, we'll just pad with unknown tokens\n",
        "        vocab_ids += [vocab_dict['[UNK]']] * n_padding\n",
        "        # Add this example to the list of converted docs\n",
        "        texts_vocab_ids.append(vocab_ids)\n",
        "\n",
        "        if i % 5000 == 0:\n",
        "            print('Examples processed: ', i)\n",
        "\n",
        "    print('Total examples: ', i)\n",
        "    return np.array(texts_vocab_ids)"
      ]
    },
    {
      "cell_type": "markdown",
      "metadata": {
        "id": "gv_elC2m9mTE"
      },
      "source": [
        "Now we can create training and test data that can be fed into the models of interest.  We need to convert all of the tokens in to their respective input ids."
      ]
    },
    {
      "cell_type": "code",
      "execution_count": 20,
      "metadata": {
        "colab": {
          "base_uri": "https://localhost:8080/"
        },
        "id": "XpUJLBRkCbtE",
        "outputId": "e856a9d0-f23a-4c00-d3d7-5bb1602f6a0f"
      },
      "outputs": [
        {
          "output_type": "stream",
          "name": "stdout",
          "text": [
            "Examples processed:  0\n",
            "Examples processed:  5000\n",
            "Examples processed:  10000\n",
            "Examples processed:  15000\n",
            "Total examples:  19999\n",
            "Examples processed:  0\n",
            "Total examples:  4999\n"
          ]
        }
      ],
      "source": [
        "train_input_ids = docs_to_vocab_ids(train_tokens)\n",
        "test_input_ids = docs_to_vocab_ids(test_tokens)\n",
        "\n",
        "train_input_labels = np.array(train_labels)\n",
        "test_input_labels = np.array(test_labels)"
      ]
    },
    {
      "cell_type": "markdown",
      "metadata": {
        "id": "-dP2KY7U9mTF"
      },
      "source": [
        "Let's convince ourselves that the data looks correct:"
      ]
    },
    {
      "cell_type": "code",
      "execution_count": 21,
      "metadata": {
        "colab": {
          "base_uri": "https://localhost:8080/"
        },
        "id": "FtU56wVR9mTF",
        "outputId": "a71eb169-87fd-4302-dc40-a61a2c9762b3"
      },
      "outputs": [
        {
          "output_type": "execute_result",
          "data": {
            "text/plain": [
              "array([[21531, 25272, 12291,  7427, 37254, 43981,  6891, 12917, 38232,\n",
              "        16915, 12929, 16182, 43981, 20526, 23487, 43981, 23807, 42958,\n",
              "        35058, 43981, 19123, 35029, 41270, 29275, 12917, 32597, 20659,\n",
              "          638, 16915, 43981,   174, 32597, 35058, 39971,  2326,  3636,\n",
              "        22434, 35029, 43981, 33922, 43981, 21531, 34710, 16908, 12291,\n",
              "        36880, 28137,  5376, 28038, 43981, 15402, 29155, 18063, 24951,\n",
              "        17433, 17595,  8856, 14193, 43981, 43248, 17433,  6290, 32597,\n",
              "         9001, 11511, 43981, 21807, 39168, 43981, 16856, 43981, 43981,\n",
              "        23245, 43981,  8889,  1331, 43981, 25272, 31976, 19123, 43981,\n",
              "        18063, 36309, 24099, 16915, 43981, 34710, 36633, 25272, 20413,\n",
              "        43981, 33458, 14926, 43981, 12139, 12289, 39617, 36633,  9483,\n",
              "        42958],\n",
              "       [12139,  7841, 19666, 31757, 43981, 17853, 25745, 15445, 43981,\n",
              "        19123, 35029, 16908, 21113, 21068, 43981, 43981,  5668, 43981,\n",
              "        33456, 43981, 34554, 43981,  1200, 27498, 43981, 18802, 20514,\n",
              "        14193, 43981, 43981, 23955, 14042, 15400, 43981, 43981, 32334,\n",
              "        20514, 35029,  7870, 12139, 17108, 25745, 43830, 14193, 28743,\n",
              "        25272, 43981, 15402, 17006,   222, 25272, 43981, 43981, 33994,\n",
              "        43981, 43981, 42659, 12375, 43981, 43981, 19123,  1331, 19870,\n",
              "         7816, 43981, 31696, 25272, 23801, 13877, 20526, 43981, 12139,\n",
              "        43981, 12139, 37939,  7841, 24998, 29109, 43981, 14193, 43981,\n",
              "        19123, 16266,  8017, 14193, 43099, 43981, 16909, 43981, 30811,\n",
              "        14042, 12375, 43981, 25574, 43981, 34511, 21851, 14087,  9370,\n",
              "        33458]])"
            ]
          },
          "metadata": {},
          "execution_count": 21
        }
      ],
      "source": [
        "train_input_ids[:2]"
      ]
    },
    {
      "cell_type": "markdown",
      "metadata": {
        "id": "L5svfigoOgaE"
      },
      "source": [
        "### 1.3.2. Training/Test Sets for BERT-based models\n",
        "\n",
        "We already imported the BERT model and the Tokenizer libraries. Now, let's load the pretrained BERT model and tokenizer. Always make sure to load the tokenizer that goes with the model you're going to use."
      ]
    },
    {
      "cell_type": "code",
      "execution_count": 22,
      "metadata": {
        "colab": {
          "base_uri": "https://localhost:8080/",
          "height": 145,
          "referenced_widgets": [
            "b2643ae52ae7485daddff9c6d74635df",
            "51ef46607eb24b8084a8051f8b98a411",
            "1dfaa21ee1dc4bf299f104024e35c1f0",
            "b54343ebfa3a41d1966ac9c949e14f9b",
            "0979588caba947798996931ce2e04d99",
            "03e8cf55a0ac4272b7df5bf0053ef3f0",
            "6dd3a44c1c584bd8b4ae8054874d3ba4",
            "afc292eca04d4a5fac375701e89a1443",
            "5cd404a553bf467688aedc9b27272f07",
            "f9254b62b4144b1daed1ac3dc5751adf",
            "ca763d96bd0f431d97ebec3ca6008d57",
            "8182be0c57f84ea38aca652c31cdbb2a",
            "c4d5cf76bd7a417991b3e8a0ace621c3",
            "6040ee29e84243ceb9d14a9b0a741932",
            "e02a9f4ef67f4cfaa85e16b0df080d60",
            "838cc745b3e74db19c93c80ebec1a003",
            "699da5c98f3948c79fdc6b561694ca68",
            "731347d4365b4842878dfc59b3dfcefe",
            "03724cea54924062b2c1384be78610f4",
            "eead322676ff40a7be1b21d7151dd88f",
            "f3f4e2b7ff82489c9ee3a713d4bdaaec",
            "9f5642a81bb44d4d97d2860d8e917a91",
            "280c6edac4c141c8ba287f401b11dd94",
            "313a4d789e134a2388c5ea06721aeec4",
            "4f2a807035f7428ca51a32041701142d",
            "bb0e5ab51a4b47a8ae86c08e944408fd",
            "b52b08ad6ba14fc3b23f4f47ef7d5173",
            "a0987694d5ba4e89894554d4286194ef",
            "6fdb637f39694d8a828da13fab7ad7a6",
            "201fe0f63c584ff8bd83bc2ed970dfef",
            "33c396327a0b412a9bf5faa0a8059d46",
            "8c4858e268de4efe96cfd162571d03de",
            "454e007291e44b29a8c401c0f4cdc15a",
            "5260d673e2df446eaf2b35078eab9ca7",
            "e17c3c29c65d4393973b9dbc0488959a",
            "6e69450539a743a39aff63d00f9998b7",
            "255353e709064e12b8f6b115e6632eb6",
            "8bb469d5f3654233baa7a41a1814b308",
            "57de4def900743a3b42a49dc3f82a9ba",
            "5106b6cb896d4ed397f7bdb930a6c47f",
            "c40a99d2d7f64645a7634c46e7dd46b8",
            "2ff47edbee5741d1881cd40c145457a3",
            "2617dccaeec944d68c703fbc2f99468f",
            "068a85d8d56d45b8890437eb16c0968c"
          ]
        },
        "id": "LEyBUFlT53zk",
        "outputId": "f8e4bc51-402e-4ed2-9a8b-e5631e8d82e7"
      },
      "outputs": [
        {
          "output_type": "display_data",
          "data": {
            "text/plain": [
              "Downloading (…)solve/main/vocab.txt:   0%|          | 0.00/213k [00:00<?, ?B/s]"
            ],
            "application/vnd.jupyter.widget-view+json": {
              "version_major": 2,
              "version_minor": 0,
              "model_id": "b2643ae52ae7485daddff9c6d74635df"
            }
          },
          "metadata": {}
        },
        {
          "output_type": "display_data",
          "data": {
            "text/plain": [
              "Downloading (…)okenizer_config.json:   0%|          | 0.00/29.0 [00:00<?, ?B/s]"
            ],
            "application/vnd.jupyter.widget-view+json": {
              "version_major": 2,
              "version_minor": 0,
              "model_id": "8182be0c57f84ea38aca652c31cdbb2a"
            }
          },
          "metadata": {}
        },
        {
          "output_type": "display_data",
          "data": {
            "text/plain": [
              "Downloading (…)lve/main/config.json:   0%|          | 0.00/570 [00:00<?, ?B/s]"
            ],
            "application/vnd.jupyter.widget-view+json": {
              "version_major": 2,
              "version_minor": 0,
              "model_id": "280c6edac4c141c8ba287f401b11dd94"
            }
          },
          "metadata": {}
        },
        {
          "output_type": "display_data",
          "data": {
            "text/plain": [
              "Downloading model.safetensors:   0%|          | 0.00/436M [00:00<?, ?B/s]"
            ],
            "application/vnd.jupyter.widget-view+json": {
              "version_major": 2,
              "version_minor": 0,
              "model_id": "5260d673e2df446eaf2b35078eab9ca7"
            }
          },
          "metadata": {}
        }
      ],
      "source": [
        "bert_tokenizer = BertTokenizer.from_pretrained('bert-base-cased')\n",
        "bert_model = TFBertModel.from_pretrained('bert-base-cased')"
      ]
    },
    {
      "cell_type": "markdown",
      "metadata": {
        "id": "BuBp01dtAZ4e"
      },
      "source": [
        "Next, we will preprocess our train and test data for use in the BERT model. We need to convert our documents into vocab IDs, like we did above with the Word2Vec vocabulary. But this time we'll use the BERT tokenizer, which has a different vocabulary specific to the BERT model we're going to use."
      ]
    },
    {
      "cell_type": "code",
      "execution_count": 23,
      "metadata": {
        "id": "cpSk9zvw532w"
      },
      "outputs": [],
      "source": [
        "#@title BERT Tokenization of training and test data\n",
        "\n",
        "train_examples_str = [x.decode('utf-8') for x in train_examples.numpy()]\n",
        "test_examples_str = [x.decode('utf-8') for x in test_examples.numpy()]\n",
        "\n",
        "bert_train_tokenized = bert_tokenizer(train_examples_str,\n",
        "              max_length=MAX_SEQUENCE_LENGTH,\n",
        "              truncation=True,\n",
        "              padding='max_length',\n",
        "              return_tensors='tf')\n",
        "bert_train_inputs = [bert_train_tokenized.input_ids,\n",
        "                     bert_train_tokenized.token_type_ids,\n",
        "                     bert_train_tokenized.attention_mask]\n",
        "bert_train_labels = np.array(train_labels)\n",
        "\n",
        "bert_test_tokenized = bert_tokenizer(test_examples_str,\n",
        "              max_length=MAX_SEQUENCE_LENGTH,\n",
        "              truncation=True,\n",
        "              padding='max_length',\n",
        "              return_tensors='tf')\n",
        "bert_test_inputs = [bert_test_tokenized.input_ids,\n",
        "                     bert_test_tokenized.token_type_ids,\n",
        "                     bert_test_tokenized.attention_mask]\n",
        "bert_test_labels = np.array(test_labels)"
      ]
    },
    {
      "cell_type": "markdown",
      "metadata": {
        "id": "myNK4ZhQDQBL"
      },
      "source": [
        "Overall, here are the key variables and sets that we encoded for word2vec and BERT and that may be used moving forward. If the variable naming does not make it obvious, we also state the purpose:\n",
        "\n",
        "#### Parameters:\n",
        "\n",
        "* MAX_SEQUENCE_LENGTH (100)\n",
        "\n",
        "\n",
        "#### Word2vec-based models:\n",
        "\n",
        "* train(/test)_input_ids: input ids for the training(/test) sets for word2vec models\n",
        "* train(/test)_input_labels: the corresponding labels\n",
        "\n",
        "#### BERT:\n",
        "\n",
        "\n",
        "* bert_train(/test)_inputs: list of input_ids, token_type_ids and attention_mask for the training(/test) sets for BERT models\n",
        "* bert_train(/test)_labels: the corresponding labels for BERT\n",
        "\n",
        "**NOTE:** We recommend you inspect these variables if you have not gone through the code."
      ]
    },
    {
      "cell_type": "code",
      "source": [
        "#input_ids, a token formed sentence with 100 length\n",
        "bert_train_inputs[0][0,:]"
      ],
      "metadata": {
        "colab": {
          "base_uri": "https://localhost:8080/"
        },
        "id": "dLWi03cj8v0h",
        "outputId": "5004d23a-b03f-46b9-e1dc-4617f99cda3c"
      },
      "execution_count": 24,
      "outputs": [
        {
          "output_type": "execute_result",
          "data": {
            "text/plain": [
              "<tf.Tensor: shape=(100,), dtype=int32, numpy=\n",
              "array([  101,  1188,  1108,  1126,  7284,  6434,  2523,   119,  1790,\n",
              "         112,   189,  1129, 19615,  1181,  1107,  1118,  4978, 10065,\n",
              "        1424,  1137,  1847,  5621,  5570,   119,  2695,  1132,  1632,\n",
              "        5681,   117,  1133,  1142,  1538,  2566,  1129,  1147,  4997,\n",
              "        1648,  1107,  1607,   119,  2431,  1147,  1632,  3176,  1180,\n",
              "        1136,  1894,  3051,  1306,  1142,  2523,   112,   188,  9944,\n",
              "        9844,   119,  1188,  2523,  1110,  1126,  1346,  2551,  4338,\n",
              "        1646, 11516,  2727,   119,  1109,  1211, 18970,  4429,  1127,\n",
              "        1343,  1165,  1103,  3132,  1179,  9283,  1127,  1543,  1147,\n",
              "        2740,  1111,  8011,  1116,   119,  3406, 16752,  4313,  1777,\n",
              "       18918,  1691,   185,  8613,  1183,   117,  1105,  1123, 23563,\n",
              "         102], dtype=int32)>"
            ]
          },
          "metadata": {},
          "execution_count": 24
        }
      ]
    },
    {
      "cell_type": "code",
      "source": [
        "#token type, seems like it's all zero matrix\n",
        "bert_train_inputs[1][20,:]"
      ],
      "metadata": {
        "colab": {
          "base_uri": "https://localhost:8080/"
        },
        "id": "5gQmOfq69qOy",
        "outputId": "3900f0ed-e668-436b-bdfa-6b8fce452a82"
      },
      "execution_count": 25,
      "outputs": [
        {
          "output_type": "execute_result",
          "data": {
            "text/plain": [
              "<tf.Tensor: shape=(100,), dtype=int32, numpy=\n",
              "array([0, 0, 0, 0, 0, 0, 0, 0, 0, 0, 0, 0, 0, 0, 0, 0, 0, 0, 0, 0, 0, 0,\n",
              "       0, 0, 0, 0, 0, 0, 0, 0, 0, 0, 0, 0, 0, 0, 0, 0, 0, 0, 0, 0, 0, 0,\n",
              "       0, 0, 0, 0, 0, 0, 0, 0, 0, 0, 0, 0, 0, 0, 0, 0, 0, 0, 0, 0, 0, 0,\n",
              "       0, 0, 0, 0, 0, 0, 0, 0, 0, 0, 0, 0, 0, 0, 0, 0, 0, 0, 0, 0, 0, 0,\n",
              "       0, 0, 0, 0, 0, 0, 0, 0, 0, 0, 0, 0], dtype=int32)>"
            ]
          },
          "metadata": {},
          "execution_count": 25
        }
      ]
    },
    {
      "cell_type": "code",
      "source": [
        "#mask, seems like it's all one matrix\n",
        "bert_train_inputs[2][0,:]"
      ],
      "metadata": {
        "colab": {
          "base_uri": "https://localhost:8080/"
        },
        "id": "atffdbHq-cvL",
        "outputId": "b909f3bc-fd0b-4b64-a241-e308eb0223fc"
      },
      "execution_count": 26,
      "outputs": [
        {
          "output_type": "execute_result",
          "data": {
            "text/plain": [
              "<tf.Tensor: shape=(100,), dtype=int32, numpy=\n",
              "array([1, 1, 1, 1, 1, 1, 1, 1, 1, 1, 1, 1, 1, 1, 1, 1, 1, 1, 1, 1, 1, 1,\n",
              "       1, 1, 1, 1, 1, 1, 1, 1, 1, 1, 1, 1, 1, 1, 1, 1, 1, 1, 1, 1, 1, 1,\n",
              "       1, 1, 1, 1, 1, 1, 1, 1, 1, 1, 1, 1, 1, 1, 1, 1, 1, 1, 1, 1, 1, 1,\n",
              "       1, 1, 1, 1, 1, 1, 1, 1, 1, 1, 1, 1, 1, 1, 1, 1, 1, 1, 1, 1, 1, 1,\n",
              "       1, 1, 1, 1, 1, 1, 1, 1, 1, 1, 1, 1], dtype=int32)>"
            ]
          },
          "metadata": {},
          "execution_count": 26
        }
      ]
    },
    {
      "cell_type": "markdown",
      "metadata": {
        "id": "w20farC9Exg9"
      },
      "source": [
        "### 1.4  Keras Functional API warm up\n",
        "\n",
        "Shown below is the output of a call to model summary.  It shows a network with specific named layers.  You are to reproduce the model that generated this summary.\n",
        "\n",
        "**QUESTION:**\n",
        "\n",
        "1.a Create a model using the Keras functional API so that the model.summary() call of your model identicially reproduces the model summary shown here:"
      ]
    },
    {
      "cell_type": "markdown",
      "source": [
        "**Model Summary Output To Reproduce**\n",
        "```\n",
        "Model: \"a2_question1\"\n",
        "_________________________________________________________________\n",
        " Layer (type)                Output Shape              Param #   \n",
        "_________________________________________________________________\n",
        " input_words (InputLayer)    [(None, 100)]             0         \n",
        "                                                                 \n",
        " embedding (Embedding)       (None, 100, 300)          13194600  \n",
        "                                                                 \n",
        " lambda (Lambda)             (None, 300)               0         \n",
        "                                                                 \n",
        " hidden1 (Dense)             (None, 300)               90300     \n",
        "                                                                 \n",
        " hidden2 (Dense)             (None, 200)               60200     \n",
        "                                                                 \n",
        " output (Dense)              (None, 5)                 1005      \n",
        "                                                                 \n",
        "__________________________________________________________________\n",
        "Total params: 13346105 (50.91 MB)\n",
        "Trainable params: 151505 (591.82 KB)\n",
        "Non-trainable params: 13194600 (50.33 MB)\n",
        "_________________________________________________________________\n",
        "```"
      ],
      "metadata": {
        "id": "GYS7nyKLJD6F"
      }
    },
    {
      "cell_type": "code",
      "execution_count": 28,
      "metadata": {
        "id": "f7yra8DyExg9"
      },
      "outputs": [],
      "source": [
        "input_x = Input(shape = (MAX_SEQUENCE_LENGTH,), name=\"input_words\")\n",
        "\n",
        "### YOUR CODE HERE\n",
        "\n",
        "# Define the Embedding layer\n",
        "embedding_layer = Embedding(input_dim=len(vocab_dict.keys()), #size of vocabulary + [UNK]\n",
        "               output_dim=300, #dimension of embedding\n",
        "               input_length=100,\n",
        "               name='embedding')(input_x)\n",
        "\n",
        "#Define Lambda layer and assume that we are applying averaging network\n",
        "lambda_layer = Lambda(lambda x: tf.reduce_mean(x, axis=1))(embedding_layer)\n",
        "\n",
        "# Define the hidden Dense layers\n",
        "hidden1 = Dense(300, activation='relu', name='hidden1')(lambda_layer)\n",
        "hidden2 = Dense(200, activation='relu', name='hidden2')(hidden1)\n",
        "\n",
        "# Define the output layer\n",
        "output_layer = Dense(5, activation='softmax', name='output')(hidden2)\n",
        "\n",
        "model = Model(inputs=input_x, outputs=output_layer)\n",
        "### END YOUR CODE\n",
        "\n",
        "# Compile the model\n",
        "model.compile(optimizer='adam',\n",
        "              loss='sparse_categorical_crossentropy', #'categorical_crossentropy'? one-hot encoding type of labels\n",
        "              metrics = ['accuracy'])"
      ]
    },
    {
      "cell_type": "code",
      "execution_count": 29,
      "metadata": {
        "colab": {
          "base_uri": "https://localhost:8080/"
        },
        "id": "vzEM_W0sExg9",
        "outputId": "3ef1e54e-ccd9-4d9a-d66e-89c3001aa8f1"
      },
      "outputs": [
        {
          "output_type": "stream",
          "name": "stdout",
          "text": [
            "Model: \"model\"\n",
            "_________________________________________________________________\n",
            " Layer (type)                Output Shape              Param #   \n",
            "=================================================================\n",
            " input_words (InputLayer)    [(None, 100)]             0         \n",
            "                                                                 \n",
            " embedding (Embedding)       (None, 100, 300)          13194600  \n",
            "                                                                 \n",
            " lambda (Lambda)             (None, 300)               0         \n",
            "                                                                 \n",
            " hidden1 (Dense)             (None, 300)               90300     \n",
            "                                                                 \n",
            " hidden2 (Dense)             (None, 200)               60200     \n",
            "                                                                 \n",
            " output (Dense)              (None, 5)                 1005      \n",
            "                                                                 \n",
            "=================================================================\n",
            "Total params: 13346105 (50.91 MB)\n",
            "Trainable params: 13346105 (50.91 MB)\n",
            "Non-trainable params: 0 (0.00 Byte)\n",
            "_________________________________________________________________\n"
          ]
        }
      ],
      "source": [
        "#Run this cell to generate your summary to match the summary output dabove\n",
        "model.summary()"
      ]
    },
    {
      "cell_type": "markdown",
      "metadata": {
        "id": "vzbPHBf3GP2O"
      },
      "source": [
        "## 2. Classification with various Word2Vec-based Models"
      ]
    },
    {
      "cell_type": "markdown",
      "metadata": {
        "id": "H7yp2gI-AtCl"
      },
      "source": [
        "**QUESTION:**\n",
        "\n",
        "2.a. Revisit the dataset. Is it balanced? Find the percentage of positive examples in the training set. (Copy and paste the decimal value for your calculation, e.g. a number like 0.5678 or 0.8765)"
      ]
    },
    {
      "cell_type": "code",
      "execution_count": 32,
      "metadata": {
        "colab": {
          "base_uri": "https://localhost:8080/"
        },
        "id": "x6EAE6cjA9jM",
        "outputId": "321656bd-3e91-4339-dcea-d22e372ccae5"
      },
      "outputs": [
        {
          "output_type": "execute_result",
          "data": {
            "text/plain": [
              "0.49845"
            ]
          },
          "metadata": {},
          "execution_count": 32
        }
      ],
      "source": [
        "### YOUR CODE HERE\n",
        "np.sum(train_input_labels[:] == 1) / len(train_input_labels)\n",
        "### END YOUR CODE"
      ]
    },
    {
      "cell_type": "markdown",
      "metadata": {
        "id": "mGkEVpmu6Bs2"
      },
      "source": [
        "**QUESTION:**\n",
        "\n",
        "2.b. Now find the percentage of positive examples in the test set.  (Copy and paste the decimal value for your calculation, e.g. a number like 0.5678 or 0.8765)"
      ]
    },
    {
      "cell_type": "code",
      "execution_count": 33,
      "metadata": {
        "colab": {
          "base_uri": "https://localhost:8080/"
        },
        "id": "2K_8eBTHArme",
        "outputId": "9de6e297-ddf3-427e-da55-8f8015594882"
      },
      "outputs": [
        {
          "output_type": "execute_result",
          "data": {
            "text/plain": [
              "0.5026"
            ]
          },
          "metadata": {},
          "execution_count": 33
        }
      ],
      "source": [
        "### YOUR CODE HERE\n",
        "np.sum(test_input_labels[:] == 1) / len(test_input_labels)\n",
        "### END YOUR CODE"
      ]
    },
    {
      "cell_type": "markdown",
      "metadata": {
        "id": "JY6X0wL3BQKD"
      },
      "source": [
        "### 2.1 The Role of Shuffling of the Training Set\n",
        "\n",
        "\n",
        "We will first revisit the DAN model.\n",
        "\n",
        "2. Reuse the code from the class notebook to build a DAN network with one hidden layer of dimension 100. The optimizer should be Adam. Wrap the model creation in a function according to this API:"
      ]
    },
    {
      "cell_type": "code",
      "execution_count": 58,
      "metadata": {
        "id": "vk-4mCgyBO9S"
      },
      "outputs": [],
      "source": [
        "def create_dan_model(retrain_embeddings=False,\n",
        "                     max_sequence_length=MAX_SEQUENCE_LENGTH,\n",
        "                     hidden_dim=100,\n",
        "                     dropout=0.3,\n",
        "                     embedding_initializer='word2vec',\n",
        "                     learning_rate=0.001):\n",
        "  \"\"\"\n",
        "  Construct the DAN model including the compilation and return it. Parametrize it using the arguments.\n",
        "  :param retrain_embeddings: boolean, indicating whether  the word embeddings are trainable\n",
        "  :param hidden_dim: dimension of the hidden layer\n",
        "  :param dropout: dropout applied to the hidden layer\n",
        "\n",
        "  :returns: the compiled model\n",
        "  \"\"\"\n",
        "\n",
        "  if embedding_initializer == 'word2vec':\n",
        "    embeddings_initializer=tf.keras.initializers.Constant(embedding_matrix)\n",
        "  else:\n",
        "    embeddings_initializer='uniform'\n",
        "\n",
        "\n",
        "  ### YOUR CODE HERE\n",
        "\n",
        "  # start by creating the dan_embedding_layer. Use the embeddings_initializer. variable defined above.\n",
        "\n",
        "  # input layer\n",
        "  dan_input_layer = Input(shape=(MAX_SEQUENCE_LENGTH,), dtype='int64')\n",
        "  #embedding layer using shape of embedding_matrix (43982, 300) as input dimensions and embedding dimensions\n",
        "  dan_embedding_layer = Embedding(embedding_matrix.shape[0],\n",
        "                                  embedding_matrix.shape[1],\n",
        "                                  embeddings_initializer=embeddings_initializer,\n",
        "                                  input_length=MAX_SEQUENCE_LENGTH,\n",
        "                                  trainable=retrain_embeddings)(dan_input_layer)\n",
        "  #average layer\n",
        "  dan_avg_embeddings = Lambda(lambda x: tf.reduce_mean(x, axis=1),name='averaging')(dan_embedding_layer)\n",
        "  #hidden layers\n",
        "  hidden_output = Dense(hidden_dim, activation='relu')(dan_avg_embeddings)\n",
        "\n",
        "  dan_classification = Dense(1,activation='sigmoid',name='dan_classification')(hidden_output)\n",
        "\n",
        "  dan_model = Model(inputs=dan_input_layer, outputs=dan_classification)\n",
        "  dan_model.compile(loss='binary_crossentropy',optimizer=tf.keras.optimizers.Adam(learning_rate=0.001,\n",
        "                                          beta_1=0.9,\n",
        "                                          beta_2=0.999,\n",
        "                                          epsilon=1e-07,\n",
        "                                          amsgrad=False,\n",
        "                                          name='Adam'),\n",
        "                                          metrics='accuracy')\n",
        "  ### END YOUR CODE\n",
        "  return dan_model\n"
      ]
    },
    {
      "cell_type": "markdown",
      "metadata": {
        "id": "Hb4LOJkFlYwF"
      },
      "source": [
        "Let us create a sorted version of the training dataset to run our simulations:"
      ]
    },
    {
      "cell_type": "code",
      "execution_count": 36,
      "metadata": {
        "id": "ZX2hWslCflw1"
      },
      "outputs": [],
      "source": [
        "sorted_train_input_data = [(x, y) for (x, y) in zip(list(train_input_ids), list(train_input_labels))]\n",
        "sorted_train_input_data.sort(key = lambda x: x[1])\n",
        "sorted_training_input_ids = np.array([x[0] for x in sorted_train_input_data])\n",
        "sorted_training_labels = np.array([x[1] for x in sorted_train_input_data])"
      ]
    },
    {
      "cell_type": "markdown",
      "metadata": {
        "id": "riQ59wcQmtzs"
      },
      "source": [
        "Next, create your DAN model using the default parameters and train it by:\n",
        "\n",
        "1.  Using the sorted dataset\n",
        "2.  Using 'shuffle=False' as one of the model.fit parameters.\n",
        "3.  Train for 10 epochs with a batch size of 32\n",
        "\n",
        "Make sure you store the history (name it 'dan_sorted_history') as we did in the lesson notebooks.\n",
        "\n"
      ]
    },
    {
      "cell_type": "code",
      "execution_count": 37,
      "metadata": {
        "colab": {
          "base_uri": "https://localhost:8080/"
        },
        "id": "SIgwDUfpi7nu",
        "outputId": "1d9e93c9-8118-4a29-889e-122c5610f51d"
      },
      "outputs": [
        {
          "output_type": "stream",
          "name": "stdout",
          "text": [
            "Epoch 1/10\n",
            "625/625 [==============================] - 5s 5ms/step - loss: 0.3159 - accuracy: 0.9102 - val_loss: 2.1599 - val_accuracy: 0.5026\n",
            "Epoch 2/10\n",
            "625/625 [==============================] - 4s 6ms/step - loss: 0.6720 - accuracy: 0.7117 - val_loss: 1.8170 - val_accuracy: 0.5026\n",
            "Epoch 3/10\n",
            "625/625 [==============================] - 2s 4ms/step - loss: 0.5882 - accuracy: 0.7524 - val_loss: 1.3549 - val_accuracy: 0.5026\n",
            "Epoch 4/10\n",
            "625/625 [==============================] - 3s 4ms/step - loss: 0.5334 - accuracy: 0.7649 - val_loss: 1.3433 - val_accuracy: 0.5026\n",
            "Epoch 5/10\n",
            "625/625 [==============================] - 3s 4ms/step - loss: 0.5303 - accuracy: 0.7645 - val_loss: 1.3346 - val_accuracy: 0.5026\n",
            "Epoch 6/10\n",
            "625/625 [==============================] - 2s 4ms/step - loss: 0.5271 - accuracy: 0.7656 - val_loss: 1.3277 - val_accuracy: 0.5026\n",
            "Epoch 7/10\n",
            "625/625 [==============================] - 2s 3ms/step - loss: 0.5237 - accuracy: 0.7666 - val_loss: 1.3210 - val_accuracy: 0.5026\n",
            "Epoch 8/10\n",
            "625/625 [==============================] - 2s 3ms/step - loss: 0.5202 - accuracy: 0.7683 - val_loss: 1.3152 - val_accuracy: 0.5026\n",
            "Epoch 9/10\n",
            "625/625 [==============================] - 2s 4ms/step - loss: 0.5164 - accuracy: 0.7696 - val_loss: 1.3104 - val_accuracy: 0.5026\n",
            "Epoch 10/10\n",
            "625/625 [==============================] - 3s 4ms/step - loss: 0.5124 - accuracy: 0.7718 - val_loss: 1.3065 - val_accuracy: 0.5026\n"
          ]
        }
      ],
      "source": [
        "### YOUR CODE HERE\n",
        "\n",
        "dan_model_sorted = create_dan_model()\n",
        "\n",
        "#use dan_sorted_history = ... below\n",
        "dan_sorted_history = dan_model_sorted.fit(sorted_training_input_ids,\n",
        "                      sorted_training_labels,\n",
        "                      validation_data=(test_input_ids, test_input_labels),\n",
        "                      shuffle=False,\n",
        "                      batch_size=32,\n",
        "                      epochs=10)\n",
        "### END YOUR CODE"
      ]
    },
    {
      "cell_type": "markdown",
      "metadata": {
        "id": "a4zFifGHMS1S"
      },
      "source": [
        "**QUESTION:**\n",
        "\n",
        "2.1.a What is the highest validation accuracy that you observed after you completed the 10 epochs? (Copy and paste the decimal value for the highest validation accuracy, e.g. a number like 0.5678 or 0.8765)> 0.5026\n",
        "\n",
        "Hint: You should have an accuracy number above 0.30.\n",
        "\n"
      ]
    },
    {
      "cell_type": "markdown",
      "metadata": {
        "id": "RUNYdZ8rnaNX"
      },
      "source": [
        "Next, recreate the same model and train it with **'shuffle=True'**. (Note that this is also the default.). Use 'dan_shuffled_history' for the history."
      ]
    },
    {
      "cell_type": "code",
      "execution_count": 59,
      "metadata": {
        "colab": {
          "base_uri": "https://localhost:8080/"
        },
        "id": "fEsrjV2QkCo_",
        "outputId": "56a964bf-6282-4f0c-b070-4cf8abe53758"
      },
      "outputs": [
        {
          "output_type": "stream",
          "name": "stdout",
          "text": [
            "Epoch 1/10\n",
            "625/625 [==============================] - 3s 3ms/step - loss: 0.6362 - accuracy: 0.6548 - val_loss: 0.5865 - val_accuracy: 0.6960\n",
            "Epoch 2/10\n",
            "625/625 [==============================] - 3s 5ms/step - loss: 0.5387 - accuracy: 0.7351 - val_loss: 0.5340 - val_accuracy: 0.7346\n",
            "Epoch 3/10\n",
            "625/625 [==============================] - 2s 4ms/step - loss: 0.5103 - accuracy: 0.7522 - val_loss: 0.5246 - val_accuracy: 0.7434\n",
            "Epoch 4/10\n",
            "625/625 [==============================] - 2s 3ms/step - loss: 0.4987 - accuracy: 0.7581 - val_loss: 0.5275 - val_accuracy: 0.7334\n",
            "Epoch 5/10\n",
            "625/625 [==============================] - 2s 4ms/step - loss: 0.4924 - accuracy: 0.7622 - val_loss: 0.5092 - val_accuracy: 0.7554\n",
            "Epoch 6/10\n",
            "625/625 [==============================] - 3s 5ms/step - loss: 0.4856 - accuracy: 0.7677 - val_loss: 0.5070 - val_accuracy: 0.7556\n",
            "Epoch 7/10\n",
            "625/625 [==============================] - 2s 3ms/step - loss: 0.4825 - accuracy: 0.7659 - val_loss: 0.4983 - val_accuracy: 0.7582\n",
            "Epoch 8/10\n",
            "625/625 [==============================] - 3s 4ms/step - loss: 0.4800 - accuracy: 0.7689 - val_loss: 0.5006 - val_accuracy: 0.7614\n",
            "Epoch 9/10\n",
            "625/625 [==============================] - 2s 3ms/step - loss: 0.4769 - accuracy: 0.7707 - val_loss: 0.4959 - val_accuracy: 0.7562\n",
            "Epoch 10/10\n",
            "625/625 [==============================] - 2s 3ms/step - loss: 0.4754 - accuracy: 0.7709 - val_loss: 0.4922 - val_accuracy: 0.7614\n"
          ]
        }
      ],
      "source": [
        "### YOUR CODE HERE\n",
        "\n",
        "dan_model_shuffled = create_dan_model()\n",
        "\n",
        "#use dan_shuffled_history = ... below\n",
        "\n",
        "dan_shuffled_history = dan_model_shuffled.fit(sorted_training_input_ids,\n",
        "                                              sorted_training_labels,\n",
        "                                              validation_data=(test_input_ids, test_input_labels),\n",
        "                                              shuffle=True,\n",
        "                                              batch_size=32,\n",
        "                                              epochs=10)\n",
        "\n",
        "### END YOUR CODE"
      ]
    },
    {
      "cell_type": "markdown",
      "metadata": {
        "id": "sXs6UX44ko7P"
      },
      "source": [
        "**QUESTION:**\n",
        "\n",
        "2.1.b What is the highest validation accuracy that you observed for the shuffled run after completing 10 epochs? (Copy and paste the decimal value for the highest validation accuracy, e.g. a number like 0.5678 or 0.8765) > 0.7632\n"
      ]
    },
    {
      "cell_type": "markdown",
      "metadata": {
        "id": "BYCwHBzyoY0_"
      },
      "source": [
        "Compare the 2 histories in a plot."
      ]
    },
    {
      "cell_type": "code",
      "execution_count": null,
      "metadata": {
        "colab": {
          "base_uri": "https://localhost:8080/",
          "height": 891
        },
        "id": "ZAlGkoidkun-",
        "outputId": "1de78973-7ec6-4ff5-a93e-d3dc2b3160cc"
      },
      "outputs": [
        {
          "output_type": "display_data",
          "data": {
            "text/plain": [
              "<Figure size 1850x1050 with 4 Axes>"
            ],
            "image/png": "[encoded data removed]"
          },
          "metadata": {}
        }
      ],
      "source": [
        "fig, axs = plt.subplots(2, 2)\n",
        "fig.subplots_adjust(left=0.2, wspace=0.6)\n",
        "make_plot(axs,\n",
        "          dan_sorted_history,\n",
        "          dan_shuffled_history,\n",
        "          model_1_name='sorted',\n",
        "         model_2_name='shuffled')\n",
        "\n",
        "fig.align_ylabels(axs[:, 1])\n",
        "fig.set_size_inches(18.5, 10.5)\n",
        "plt.show()"
      ]
    },
    {
      "cell_type": "markdown",
      "metadata": {
        "id": "bRWLsg0WNdcE"
      },
      "source": [
        "### 2.2 DAN vs Weighted Averaging Models using Attention\n",
        "\n",
        "#### 2.2.1. Warm-Up: Manual Attention Calculation\n",
        "\n",
        "**QUESTION:**\n",
        "\n",
        "2.2.1.a Calculate the context vector for the following query and key/value vectors. You can do this manually, or you can use\n",
        "\n",
        "\n",
        "```\n",
        "tf.keras.layers.Attention()\n",
        "```\n",
        "\n",
        "2.2.1.b What are the weights for the key/value vectors?\n"
      ]
    },
    {
      "cell_type": "code",
      "execution_count": 52,
      "metadata": {
        "id": "fpLZyRImNdz5"
      },
      "outputs": [],
      "source": [
        "q = [1, 2., 1]\n",
        "\n",
        "k1 = v1 = [-1, -1, 3.]\n",
        "k2 = v2 = [1, 2, -5.]"
      ]
    },
    {
      "cell_type": "code",
      "source": [
        "np.stack([k1, k2], axis=0)"
      ],
      "metadata": {
        "id": "uEFYv81y8Jya",
        "outputId": "02e343d1-a665-4a8f-8fe3-5dcd2286fcc8",
        "colab": {
          "base_uri": "https://localhost:8080/"
        }
      },
      "execution_count": 39,
      "outputs": [
        {
          "output_type": "execute_result",
          "data": {
            "text/plain": [
              "array([[-1., -1.,  3.],\n",
              "       [ 1.,  2., -5.]])"
            ]
          },
          "metadata": {},
          "execution_count": 39
        }
      ]
    },
    {
      "cell_type": "code",
      "execution_count": 53,
      "metadata": {
        "colab": {
          "base_uri": "https://localhost:8080/"
        },
        "id": "DSbKYfjEOmlh",
        "outputId": "f8ccd8f1-c314-4484-8dd4-c97704ff11f1"
      },
      "outputs": [
        {
          "output_type": "stream",
          "name": "stdout",
          "text": [
            "tf.Tensor([0.5 0.5], shape=(2,), dtype=float64)\n",
            "tf.Tensor([[ 0.   0.5 -1. ]], shape=(1, 3), dtype=float32)\n",
            "tf.Tensor([ 0.   0.5 -1. ], shape=(3,), dtype=float64)\n"
          ]
        }
      ],
      "source": [
        "### YOUR CODE HERE\n",
        "#weight for key/value vector\n",
        "K = np.stack([k1, k2], axis=0)\n",
        "weights = tf.nn.softmax(np.dot(K, q))\n",
        "print(weights)\n",
        "\n",
        "#context vector\n",
        "q = np.array([[1., 2., 1.]]) #shape of (1,3)\n",
        "v = K #shape of (2,3)\n",
        "context_vector = tf.keras.layers.Attention()([q, K, v])\n",
        "print(context_vector)\n",
        "\n",
        "print(weights[0]*v1 + weights[1]*v2)\n",
        "\n",
        "### END YOUR CODE"
      ]
    },
    {
      "cell_type": "markdown",
      "metadata": {
        "id": "68YFNDesI0Cv"
      },
      "source": [
        "#### 2.2.2 The 'WAN' Model\n",
        "\n",
        "\n",
        "Next, we would like to improve our DAN by attempting to train a neural net that learns to put more weight on some words than others. How could we do that? **Attention** is the answer!\n",
        "\n",
        "Here, we will build a model that you can call \"Weighted Averaging Models using Attention\". You should construct a network that uses attention to weight the input tokens for a given example.\n",
        "\n",
        "The core structure is the same as for the DAN network, so remember to re-use the embedding matrix you initialized earlier with word2vec embedding weights.\n",
        "\n",
        "However, there are obviously some critical changes from the DAN:\n",
        "\n",
        "1) How do I create a learnable query vector for the attention calculation that is supposed to generate the suitable token probabilities? And what is its size?\n",
        "\n",
        "2) What are the key vectors for the attention calculation?\n",
        "\n",
        "3) How does the averaging change?\n",
        "\n",
        "\n",
        "First, the key vectors should be the incoming word vectors.\n",
        "\n",
        "The query vector needs to have the size of the word vectors, as it needs to attend to them. A good way to create the query vector is to generate an embedding like vector easily by getting a single row of trained weights from a Dense layer if we pass in a value of one to multiply by that weight matrix in the usual way:\n",
        "\n",
        "\n",
        "```\n",
        "wan_query_layer = tf.keras.layers.Dense(embedding_matrix.shape[1])\n",
        "```\n",
        "\n",
        "That sounds great... but how do I use this to have a vector available in my calculation? And... make this vector available to all examples in the batch?\n",
        "\n",
        "What you can use is a 'fake input-like layer' that creates for each incoming batch example a '1', that then the query layer can get applied to.\n",
        "Assuming that the input layer for your network is **wan_input_layer**, this could be done with\n",
        "\n",
        "```\n",
        "wan_one_vector = tf.Variable(tf.ones((1, 1, 1)))\n",
        "wan_batch_of_ones = tf.tile(wan_one_vector, (tf.shape(wan_input_layer)[0], 1, 1))\n",
        "```\n",
        "\n",
        "You could then have the query vector available for each example through:\n",
        "\n",
        "```\n",
        "wan_query_vector = wan_query_layer(wan_batch_of_ones)\n",
        "\n",
        "```\n",
        "\n",
        "You will see that this structure is essentially the same as what we did for word vectors, except that we had to replace the input layer with our fake layer, as there is no actual input. We will also have **2 outputs** (discussed in a bit.)\n",
        "\n",
        "How does the averaging change? You should use:\n",
        "\n",
        "```\n",
        "tf.keras.layers.Attention()\n",
        "```\n",
        "\n",
        "and make sure you consider the proper inputs and outputs for that calculation.\n",
        "\n",
        "So why 2 outputs, and how do we do that? First off, we need the output that makes the classification, as always. What is the second output? We also would like our model to provide us with the attention weights it calculated. This will tell us which words were considered how much for the context creation.\n",
        "\n",
        "Can we implement 2 outputs? You need to have a list of the two outputs. But note that you may also want to have a list of 2 cost function and 2 metrics. You can use 'None' both times to account for our new second output, and you can ignore the corresponding values that the model report. (In general, the total loss will be a sum of the individual losses. So one would rather construct a loss that always returns zero for the second loss, but as it is very small we can ignore this here.)\n",
        "\n",
        "Finally, you may want to reshape the output after the Attention layer, because the Attention layer will still give a sequence of vectors for each example. It will just be a sequence of one weighted average vector for each example. You may want to remove that middle dimension of size one so you just have a single vector for each example. You can do that with layers.Reshape():\n",
        "\n",
        "```\n",
        "wan_attention_output = tf.keras.layers.Reshape((wan_attention_output.shape[-1],))(wan_attention_output)\n",
        "```"
      ]
    },
    {
      "cell_type": "code",
      "execution_count": 54,
      "metadata": {
        "id": "_9F8zY4WG3Mg"
      },
      "outputs": [],
      "source": [
        "def create_wan_model(retrain_embeddings=False,\n",
        "                     max_sequence_length=MAX_SEQUENCE_LENGTH,\n",
        "                     hidden_dim=100,\n",
        "                     dropout=0.3,\n",
        "                     embedding_initializer='word2vec',\n",
        "                     learning_rate=0.001):\n",
        "  \"\"\"\n",
        "  Construct the WAN model including the compilation and return it. Parametrize it using the arguments.\n",
        "  :param retrain_embeddings: boolean, indicating whether the word embeddings are trainable\n",
        "  :param hidden_dim: dimension of the hidden layer\n",
        "  :param dropout: dropout applied to the hidden layer\n",
        "\n",
        "  :returns: the compiled model\n",
        "  \"\"\"\n",
        "\n",
        "  if embedding_initializer == 'word2vec':\n",
        "    embeddings_initializer=tf.keras.initializers.Constant(embedding_matrix)\n",
        "  else:\n",
        "    embeddings_initializer='uniform'\n",
        "\n",
        "  ### YOUR CODE HERE\n",
        "  # Input Layer, take sentences with max length 100 words. shape: (batch, max_length)\n",
        "  input_layer = Input(shape=(max_sequence_length,), dtype='int64', name='input_words')\n",
        "\n",
        "  # Embedding Layer, shape:(batch, max_length, embedding_matrix.shape[1]), embedding dimension 300 in this case.\n",
        "  embedding_layer = Embedding(input_dim=embedding_matrix.shape[0],\n",
        "                              output_dim=embedding_matrix.shape[1],\n",
        "                              embeddings_initializer=embeddings_initializer,\n",
        "                              input_length=max_sequence_length,\n",
        "                              trainable=retrain_embeddings)(input_layer)\n",
        "\n",
        "  #fake layer for query vector\n",
        "  #wan_batch_of_ones shape: (batch, 1, 1)\n",
        "  wan_one_vector = tf.Variable(tf.ones((1, 1, 1)))\n",
        "  wan_batch_of_ones = tf.tile(wan_one_vector, (tf.shape(input_layer)[0], 1, 1))\n",
        "\n",
        "  #embedding dimension = 300, shape of wan_query_vector: (batch, 1, 300)\n",
        "  wan_query_layer = Dense(embedding_matrix.shape[1])\n",
        "  wan_query_vector = wan_query_layer(wan_batch_of_ones)\n",
        "\n",
        "  # Attention Layer, (batch_size, 1, embedding_dim)\n",
        "  attention_output = tf.keras.layers.Attention()([wan_query_vector, embedding_layer])\n",
        "\n",
        "  # Attention for each word, shape (batch_size, 1, 100). Only output weights of q,k\n",
        "  attention_word = tf.nn.softmax(tf.matmul(wan_query_vector, embedding_layer, transpose_b=True), axis=-1)\n",
        "\n",
        "  # Reshape Layer, shape (batch_size, embedding_dim)\n",
        "  attention_output_reshaped = tf.keras.layers.Reshape((attention_output.shape[-1],))(attention_output)\n",
        "\n",
        "  # Hidden Layers and dropout\n",
        "  hidden_output = Dense(hidden_dim, activation='relu')(attention_output_reshaped)\n",
        "  hidden_output = Dropout(dropout)(hidden_output)\n",
        "\n",
        "  # Output Layers\n",
        "  classification = Dense(1, activation='sigmoid', name='classification')(hidden_output)\n",
        "\n",
        "  # Create and compile the model\n",
        "  wan_model = Model(inputs=input_layer, outputs=[classification, attention_word])\n",
        "  wan_model.compile(optimizer=tf.keras.optimizers.Adam(learning_rate),\n",
        "           loss=['binary_crossentropy', None],\n",
        "           metrics=['accuracy', None])\n",
        "  ### END YOUR CODE\n",
        "\n",
        "  return wan_model\n"
      ]
    },
    {
      "cell_type": "markdown",
      "metadata": {
        "id": "a5gnW7j8QHUo"
      },
      "source": [
        "Now train the model for the same dataset as we did for the DAN model (shuffled data) and save its history in a variable named 'wan_history'."
      ]
    },
    {
      "cell_type": "code",
      "execution_count": 56,
      "metadata": {
        "colab": {
          "base_uri": "https://localhost:8080/"
        },
        "id": "A3WYcv0CNMGC",
        "outputId": "89eb7209-3b14-4ec8-ff91-636b16e816f0"
      },
      "outputs": [
        {
          "output_type": "stream",
          "name": "stderr",
          "text": [
            "WARNING:tensorflow:The following Variables were used in a Lambda layer's call (tf.tile_1), but are not present in its tracked objects:   <tf.Variable 'Variable:0' shape=(1, 1, 1) dtype=float32>. This is a strong indication that the Lambda layer should be rewritten as a subclassed Layer.\n"
          ]
        },
        {
          "output_type": "stream",
          "name": "stdout",
          "text": [
            "Epoch 1/10\n",
            "625/625 [==============================] - 6s 6ms/step - loss: 0.5720 - classification_loss: 0.5720 - classification_accuracy: 0.7066 - tf.nn.softmax_1_accuracy: 0.0087 - val_loss: 0.4965 - val_classification_loss: 0.4965 - val_classification_accuracy: 0.7624 - val_tf.nn.softmax_1_accuracy: 0.0068\n",
            "Epoch 2/10\n",
            "625/625 [==============================] - 4s 6ms/step - loss: 0.4843 - classification_loss: 0.4843 - classification_accuracy: 0.7660 - tf.nn.softmax_1_accuracy: 0.0077 - val_loss: 0.4778 - val_classification_loss: 0.4778 - val_classification_accuracy: 0.7680 - val_tf.nn.softmax_1_accuracy: 0.0063\n",
            "Epoch 3/10\n",
            "625/625 [==============================] - 4s 7ms/step - loss: 0.4675 - classification_loss: 0.4675 - classification_accuracy: 0.7757 - tf.nn.softmax_1_accuracy: 0.0075 - val_loss: 0.4698 - val_classification_loss: 0.4698 - val_classification_accuracy: 0.7714 - val_tf.nn.softmax_1_accuracy: 0.0056\n",
            "Epoch 4/10\n",
            "625/625 [==============================] - 3s 4ms/step - loss: 0.4600 - classification_loss: 0.4600 - classification_accuracy: 0.7844 - tf.nn.softmax_1_accuracy: 0.0077 - val_loss: 0.4684 - val_classification_loss: 0.4684 - val_classification_accuracy: 0.7726 - val_tf.nn.softmax_1_accuracy: 0.0052\n",
            "Epoch 5/10\n",
            "625/625 [==============================] - 2s 4ms/step - loss: 0.4529 - classification_loss: 0.4529 - classification_accuracy: 0.7879 - tf.nn.softmax_1_accuracy: 0.0077 - val_loss: 0.4622 - val_classification_loss: 0.4622 - val_classification_accuracy: 0.7746 - val_tf.nn.softmax_1_accuracy: 0.0051\n",
            "Epoch 6/10\n",
            "625/625 [==============================] - 2s 4ms/step - loss: 0.4485 - classification_loss: 0.4485 - classification_accuracy: 0.7887 - tf.nn.softmax_1_accuracy: 0.0073 - val_loss: 0.4671 - val_classification_loss: 0.4671 - val_classification_accuracy: 0.7734 - val_tf.nn.softmax_1_accuracy: 0.0048\n",
            "Epoch 7/10\n",
            "625/625 [==============================] - 3s 5ms/step - loss: 0.4449 - classification_loss: 0.4449 - classification_accuracy: 0.7917 - tf.nn.softmax_1_accuracy: 0.0071 - val_loss: 0.4572 - val_classification_loss: 0.4572 - val_classification_accuracy: 0.7770 - val_tf.nn.softmax_1_accuracy: 0.0049\n",
            "Epoch 8/10\n",
            "625/625 [==============================] - 4s 6ms/step - loss: 0.4436 - classification_loss: 0.4436 - classification_accuracy: 0.7894 - tf.nn.softmax_1_accuracy: 0.0069 - val_loss: 0.4563 - val_classification_loss: 0.4563 - val_classification_accuracy: 0.7800 - val_tf.nn.softmax_1_accuracy: 0.0050\n",
            "Epoch 9/10\n",
            "625/625 [==============================] - 3s 4ms/step - loss: 0.4395 - classification_loss: 0.4395 - classification_accuracy: 0.7943 - tf.nn.softmax_1_accuracy: 0.0069 - val_loss: 0.4642 - val_classification_loss: 0.4642 - val_classification_accuracy: 0.7768 - val_tf.nn.softmax_1_accuracy: 0.0047\n",
            "Epoch 10/10\n",
            "625/625 [==============================] - 3s 4ms/step - loss: 0.4381 - classification_loss: 0.4381 - classification_accuracy: 0.7950 - tf.nn.softmax_1_accuracy: 0.0070 - val_loss: 0.4546 - val_classification_loss: 0.4546 - val_classification_accuracy: 0.7802 - val_tf.nn.softmax_1_accuracy: 0.0047\n"
          ]
        }
      ],
      "source": [
        "### YOUR CODE HERE\n",
        "\n",
        "wan_model = create_wan_model()\n",
        "\n",
        "# use wan_history = ... below\n",
        "wan_history = wan_model.fit(sorted_training_input_ids,\n",
        "                            sorted_training_labels,\n",
        "                            validation_data=(test_input_ids, test_input_labels),\n",
        "                            shuffle=True,\n",
        "                            batch_size=32,\n",
        "                            epochs=10)\n",
        "### END YOUR CODE"
      ]
    },
    {
      "cell_type": "markdown",
      "metadata": {
        "id": "8P0r4zH4k59o"
      },
      "source": [
        "**QUESTION:**\n",
        "\n",
        "2.2.2.a What is the highest validation accuracy that you observed for the wan training after 10 epochs? (Copy and paste the decimal value for the highest validation accuracy, e.g. a number like 0.5678 or 0.8765)  0.7802\n"
      ]
    },
    {
      "cell_type": "markdown",
      "metadata": {
        "id": "ZAgsZiy8Nx1U"
      },
      "source": [
        "Now compare the results of the initial dan_model training and the wan_model training:"
      ]
    },
    {
      "cell_type": "code",
      "execution_count": 60,
      "metadata": {
        "colab": {
          "base_uri": "https://localhost:8080/",
          "height": 809
        },
        "id": "O-MMBGCWLwe1",
        "outputId": "614af3ee-c6fe-4b00-9bd9-8d62c60f9e79"
      },
      "outputs": [
        {
          "output_type": "display_data",
          "data": {
            "text/plain": [
              "<Figure size 1850x1050 with 4 Axes>"
            ],
            "image/png": "[encoded data removed]"
          },
          "metadata": {}
        }
      ],
      "source": [
        "fig, axs = plt.subplots(2, 2)\n",
        "fig.subplots_adjust(left=0.2, wspace=0.6)\n",
        "make_plot(axs,\n",
        "          dan_shuffled_history,\n",
        "          wan_history,\n",
        "          model_1_name='dan',\n",
        "         model_2_name='wan')\n",
        "\n",
        "fig.align_ylabels(axs[:, 1])\n",
        "fig.set_size_inches(18.5, 10.5)\n",
        "plt.show()"
      ]
    },
    {
      "cell_type": "markdown",
      "metadata": {
        "id": "ILMLcnuZOWoT"
      },
      "source": [
        "Next, let us see for the wan_model which words matter most for the classification prediction and which ones did less so. How can we tell? We can look at the attention weights!\n",
        "\n",
        "Let's look at the first training example.  We'll need to convert the input_ids back into the associated strings."
      ]
    },
    {
      "cell_type": "code",
      "execution_count": 61,
      "metadata": {
        "colab": {
          "base_uri": "https://localhost:8080/",
          "height": 105
        },
        "id": "53pdy0pwU91Z",
        "outputId": "e783b0c6-a4e7-4339-c31d-4d5617505283"
      },
      "outputs": [
        {
          "output_type": "execute_result",
          "data": {
            "text/plain": [
              "\"This was an absolutely terrible movie. Don't be lured in by Christopher Walken or Michael Ironside. Both are great actors, but this must simply be their worst role in history. Even their great acting could not redeem this movie's ridiculous storyline. This movie is an early nineties US propaganda piece. The most pathetic scenes were those when the Columbian rebels were making their cases for revolutions. Maria Conchita Alonso appeared phony, and her pseudo-love affair with Walken was nothing but a pathetic emotional plug in a movie that was devoid of any real meaning. I am disappointed that there are movies like this, ruining actor's like Christopher Walken's good name. I could barely sit through it.\""
            ],
            "application/vnd.google.colaboratory.intrinsic+json": {
              "type": "string"
            }
          },
          "metadata": {},
          "execution_count": 61
        }
      ],
      "source": [
        "train_examples[0].numpy().decode('utf-8')"
      ]
    },
    {
      "cell_type": "markdown",
      "metadata": {
        "id": "B6CFujCuX37x"
      },
      "source": [
        "The corresponding list of input ids that are suitably formatted, i.e. with sequence length 100, are these:"
      ]
    },
    {
      "cell_type": "code",
      "execution_count": 63,
      "metadata": {
        "colab": {
          "base_uri": "https://localhost:8080/"
        },
        "id": "T5U6X-fcVD88",
        "outputId": "e177c61a-8d6c-4ff4-f147-560492cacdbf"
      },
      "outputs": [
        {
          "output_type": "execute_result",
          "data": {
            "text/plain": [
              "array([21531, 25272, 12291,  7427, 37254, 43981,  6891, 12917, 38232,\n",
              "       16915, 12929, 16182, 43981, 20526, 23487, 43981, 23807, 42958,\n",
              "       35058, 43981, 19123, 35029, 41270, 29275, 12917, 32597, 20659,\n",
              "         638, 16915, 43981,   174, 32597, 35058, 39971,  2326,  3636,\n",
              "       22434, 35029, 43981, 33922, 43981, 21531, 34710, 16908, 12291,\n",
              "       36880, 28137,  5376, 28038, 43981, 15402, 29155, 18063, 24951,\n",
              "       17433, 17595,  8856, 14193, 43981, 43248, 17433,  6290, 32597,\n",
              "        9001, 11511, 43981, 21807, 39168, 43981, 16856, 43981, 43981,\n",
              "       23245, 43981,  8889,  1331, 43981, 25272, 31976, 19123, 43981,\n",
              "       18063, 36309, 24099, 16915, 43981, 34710, 36633, 25272, 20413,\n",
              "       43981, 33458, 14926, 43981, 12139, 12289, 39617, 36633,  9483,\n",
              "       42958])"
            ]
          },
          "metadata": {},
          "execution_count": 63
        }
      ],
      "source": [
        "probe_input_ids = train_input_ids[0]\n",
        "probe_input_ids"
      ]
    },
    {
      "cell_type": "code",
      "source": [
        "train_input_ids.shape"
      ],
      "metadata": {
        "id": "x-tFXVsmTmsw",
        "outputId": "e759bd85-125e-4bc9-860b-ec7c87cec135",
        "colab": {
          "base_uri": "https://localhost:8080/"
        }
      },
      "execution_count": 62,
      "outputs": [
        {
          "output_type": "execute_result",
          "data": {
            "text/plain": [
              "(20000, 100)"
            ]
          },
          "metadata": {},
          "execution_count": 62
        }
      ]
    },
    {
      "cell_type": "markdown",
      "metadata": {
        "id": "jWNRYYmUYw-D"
      },
      "source": [
        "and the first 10 corresponding tokens are:"
      ]
    },
    {
      "cell_type": "code",
      "execution_count": 64,
      "metadata": {
        "colab": {
          "base_uri": "https://localhost:8080/"
        },
        "id": "x1h1vScxYxMw",
        "outputId": "0f6f5542-25a3-4711-b726-a3220248f79d"
      },
      "outputs": [
        {
          "output_type": "execute_result",
          "data": {
            "text/plain": [
              "['This',\n",
              " 'was',\n",
              " 'an',\n",
              " 'absolutely',\n",
              " 'terrible',\n",
              " 'movie.',\n",
              " \"Don't\",\n",
              " 'be',\n",
              " 'lured',\n",
              " 'in']"
            ]
          },
          "metadata": {},
          "execution_count": 64
        }
      ],
      "source": [
        "probe_tokens = [x.decode('utf-8') for x in train_tokens[0].numpy()][:100]\n",
        "probe_tokens[:10]"
      ]
    },
    {
      "cell_type": "markdown",
      "metadata": {
        "id": "y_9R85S7YOXF"
      },
      "source": [
        "Using only the first record in the training set, identify the **5 words** with the highest impact and the **5 words** with the lowest impact on the score, i.e., identify the 5 words with the largest and  smallest weights, respectively. (Note that multiple occurences of the same word count separately for the exercise).\n",
        "\n",
        "HINT: You should create a list of (word/weight) pairs, and then sort by the second argument. Python's '.sort()' function may come in handy.  And make sure you decode the integer ids."
      ]
    },
    {
      "cell_type": "code",
      "execution_count": 65,
      "metadata": {
        "colab": {
          "base_uri": "https://localhost:8080/"
        },
        "id": "0UBhi3G0S0v8",
        "outputId": "7851a3ba-f54d-4607-b666-6c5a585e632e"
      },
      "outputs": [
        {
          "output_type": "stream",
          "name": "stdout",
          "text": [
            "1/1 [==============================] - 0s 136ms/step\n",
            "most important tokens:\n",
            "\t [('worst', 0.12552041), ('terrible', 0.07818673), ('pathetic', 0.050645728), ('pathetic', 0.050645728), ('devoid', 0.036962938), ('ridiculous', 0.032503698), ('nothing', 0.02901954), ('simply', 0.02081687), ('must', 0.020700261), ('emotional', 0.020430129)]\n",
            "\n",
            "least important tokens:\n",
            "\t [('their', 0.0019935993), ('their', 0.0019935993), ('their', 0.0019935993), ('this', 0.0018254587), ('this', 0.0018254587), ('I', 0.0017335853), ('her', 0.0017187163), ('The', 0.0016382176), ('am', 0.0015758056), ('the', 0.0014371173)]\n"
          ]
        }
      ],
      "source": [
        "### YOUR CODE HERE\n",
        "\n",
        "# 'pairs' should be the variable that holds the  token/weight pairs.\n",
        "\n",
        "#extract attention from model with train_input_ids[0] as input. Need to expand shape from (100,) to (1,100)\n",
        "#shape of attention_output: (batch,1,100).\n",
        "predictions, attention_output = wan_model.predict(np.expand_dims(train_input_ids[0], axis=0))\n",
        "\n",
        "#both with shape (100,)\n",
        "keys = [x.decode('utf-8') for x in train_tokens[0].numpy()][:100]\n",
        "values = attention_output[0][0]\n",
        "pairs_unsorted = list(zip(keys, values))\n",
        "\n",
        "#sort by second element\n",
        "pairs = sorted(pairs_unsorted, key=lambda x: x[1], reverse=True)\n",
        "### END YOUR CODE\n",
        "\n",
        "print('most important tokens:')\n",
        "print('\\t', pairs[:10])\n",
        "print('\\nleast important tokens:')\n",
        "print('\\t', pairs[-10:])\n"
      ]
    },
    {
      "cell_type": "markdown",
      "metadata": {
        "id": "UURhPvLWRBNd"
      },
      "source": [
        " **QUESTION:**\n",
        "\n",
        " 2.2.2.b List the 5 most important words, with the most important first. (Again, if a word appears twice, you can include it twice.)\n",
        "\n",
        "[('worst', 0.12552041), ('terrible', 0.07818673), ('pathetic', 0.050645728), ('pathetic', 0.050645728), ('devoid', 0.036962938)]\n",
        "\n",
        "\n",
        "\n",
        " 2.2.2.c List the 5 least important words in descending order. (Again, if a word appears twice, note it twice in the answers file.)\n",
        "\n",
        "[('their', 0.0019935993), ('their', 0.0019935993), ('their', 0.0019935993), ('this', 0.0018254587), ('this', 0.0018254587)]"
      ]
    },
    {
      "cell_type": "markdown",
      "metadata": {
        "id": "5IYOH-QfSj22"
      },
      "source": [
        "### 2.3 Approaches for Training of Embeddings\n",
        "\n",
        "Rerun the DAN Model in 3 separate configurations:\n",
        "\n",
        "\n",
        "1.   embedding_initializer = 'word2vec' and retrain_embeddings=False\n",
        "2.   embedding_initializer = 'word2vec' and retrain_embeddings=True\n",
        "3.   embedding_initializer = 'uniform' and retrain_embeddings=True\n",
        "\n",
        "\n",
        "**NOTE:** Train the model with static embeddings for 10 epochs and the ones with trainable embeddings for 3 epochs each.\n",
        "\n",
        "What do you observe about the effects of initializing and retraining the embedding matrix?\n",
        "\n"
      ]
    },
    {
      "cell_type": "code",
      "execution_count": 70,
      "metadata": {
        "colab": {
          "base_uri": "https://localhost:8080/"
        },
        "id": "h6Pxm-2xU1aw",
        "outputId": "7ebbada6-b7d1-48d7-d366-3478af272dc3"
      },
      "outputs": [
        {
          "output_type": "stream",
          "name": "stdout",
          "text": [
            "Epoch 1/10\n",
            "625/625 [==============================] - 3s 5ms/step - loss: 0.4574 - accuracy: 0.7814 - val_loss: 0.4908 - val_accuracy: 0.7668\n",
            "Epoch 2/10\n",
            "625/625 [==============================] - 5s 9ms/step - loss: 0.4571 - accuracy: 0.7836 - val_loss: 0.4835 - val_accuracy: 0.7716\n",
            "Epoch 3/10\n",
            "625/625 [==============================] - 4s 7ms/step - loss: 0.4564 - accuracy: 0.7831 - val_loss: 0.4814 - val_accuracy: 0.7710\n",
            "Epoch 4/10\n",
            "625/625 [==============================] - 4s 6ms/step - loss: 0.4550 - accuracy: 0.7833 - val_loss: 0.4815 - val_accuracy: 0.7740\n",
            "Epoch 5/10\n",
            "625/625 [==============================] - 4s 7ms/step - loss: 0.4566 - accuracy: 0.7815 - val_loss: 0.5000 - val_accuracy: 0.7614\n",
            "Epoch 6/10\n",
            "625/625 [==============================] - 4s 7ms/step - loss: 0.4546 - accuracy: 0.7834 - val_loss: 0.4905 - val_accuracy: 0.7654\n",
            "Epoch 7/10\n",
            "625/625 [==============================] - 3s 5ms/step - loss: 0.4536 - accuracy: 0.7842 - val_loss: 0.4799 - val_accuracy: 0.7732\n",
            "Epoch 8/10\n",
            "625/625 [==============================] - 3s 4ms/step - loss: 0.4542 - accuracy: 0.7842 - val_loss: 0.4815 - val_accuracy: 0.7722\n",
            "Epoch 9/10\n",
            "625/625 [==============================] - 2s 4ms/step - loss: 0.4541 - accuracy: 0.7826 - val_loss: 0.4852 - val_accuracy: 0.7664\n",
            "Epoch 10/10\n",
            "625/625 [==============================] - 3s 5ms/step - loss: 0.4519 - accuracy: 0.7857 - val_loss: 0.4794 - val_accuracy: 0.7738\n"
          ]
        }
      ],
      "source": [
        "### YOUR CODE HERE\n",
        "## check again, what's the meaning of doing this?\n",
        "dan_model_1 = create_dan_model(retrain_embeddings=False, embedding_initializer='word2vec')\n",
        "dan_1_history = dan_model_shuffled.fit(train_input_ids,\n",
        "                                      train_input_labels,\n",
        "                                      validation_data=(test_input_ids, test_input_labels),\n",
        "                                      shuffle=True,\n",
        "                                      batch_size=32,\n",
        "                                      epochs=10)\n",
        "\n",
        "### END YOUR CODE"
      ]
    },
    {
      "cell_type": "markdown",
      "metadata": {
        "id": "a0jwQ6ailUm4"
      },
      "source": [
        "**QUESTION:**\n",
        "\n",
        "2.3.a First, what is the highest validation accuracy that you just observed for the static model initialized with the word2vec after 10 epochs?  (Copy and paste the decimal value for the highest validation accuracy, e.g. a number like 0.5678 or 0.8765) > 0.7738"
      ]
    },
    {
      "cell_type": "code",
      "execution_count": 71,
      "metadata": {
        "colab": {
          "base_uri": "https://localhost:8080/"
        },
        "id": "qwlDqMTxVwbQ",
        "outputId": "20fac213-0d91-450f-d59e-39a4dcb876a8"
      },
      "outputs": [
        {
          "output_type": "stream",
          "name": "stdout",
          "text": [
            "Epoch 1/3\n",
            "625/625 [==============================] - 3s 4ms/step - loss: 0.4516 - accuracy: 0.7854 - val_loss: 0.4884 - val_accuracy: 0.7686\n",
            "Epoch 2/3\n",
            "625/625 [==============================] - 2s 4ms/step - loss: 0.4520 - accuracy: 0.7840 - val_loss: 0.4855 - val_accuracy: 0.7672\n",
            "Epoch 3/3\n",
            "625/625 [==============================] - 2s 4ms/step - loss: 0.4506 - accuracy: 0.7843 - val_loss: 0.4838 - val_accuracy: 0.7728\n"
          ]
        }
      ],
      "source": [
        "### YOUR CODE HERE\n",
        "dan_model_2 = create_dan_model(retrain_embeddings=True, embedding_initializer='word2vec')\n",
        "dan_2_history = dan_model_shuffled.fit(train_input_ids,\n",
        "                                      train_input_labels,\n",
        "                                      validation_data=(test_input_ids, test_input_labels),\n",
        "                                      shuffle=True,\n",
        "                                      batch_size=32,\n",
        "                                      epochs=3)\n",
        "\n",
        "### END YOUR CODE"
      ]
    },
    {
      "cell_type": "markdown",
      "metadata": {
        "id": "sZXr9UY7lfHE"
      },
      "source": [
        "**QUESTION:**\n",
        "\n",
        "\n",
        "2.3.b What is the highest validation accuracy that you observed for the model where you initialized with word2vec vectors but allow them to retrain for 3 epochs? (Copy and paste the decimal value for the highest validation accuracy, e.g. a number like 0.5678 or 0.8765) > 0.7728\n",
        "\n"
      ]
    },
    {
      "cell_type": "code",
      "execution_count": 72,
      "metadata": {
        "colab": {
          "base_uri": "https://localhost:8080/"
        },
        "id": "H0rMPTAOVw70",
        "outputId": "4330780e-93f4-43ec-9c2e-92fc177884e0"
      },
      "outputs": [
        {
          "output_type": "stream",
          "name": "stdout",
          "text": [
            "Epoch 1/3\n",
            "625/625 [==============================] - 4s 7ms/step - loss: 0.4488 - accuracy: 0.7867 - val_loss: 0.4881 - val_accuracy: 0.7678\n",
            "Epoch 2/3\n",
            "625/625 [==============================] - 3s 5ms/step - loss: 0.4486 - accuracy: 0.7875 - val_loss: 0.4820 - val_accuracy: 0.7716\n",
            "Epoch 3/3\n",
            "625/625 [==============================] - 3s 5ms/step - loss: 0.4494 - accuracy: 0.7873 - val_loss: 0.4804 - val_accuracy: 0.7738\n"
          ]
        }
      ],
      "source": [
        "### YOUR CODE HERE\n",
        "dan_model_3 = create_dan_model(retrain_embeddings=True, embedding_initializer='uniform')\n",
        "dan_3_history = dan_model_shuffled.fit(train_input_ids,\n",
        "                                        train_input_labels,\n",
        "                                        validation_data=(test_input_ids, test_input_labels),\n",
        "                                        shuffle=True,\n",
        "                                        batch_size=32,\n",
        "                                        epochs=3)\n",
        "\n",
        "### END YOUR CODE"
      ]
    },
    {
      "cell_type": "markdown",
      "metadata": {
        "id": "hO791d-oYOgg"
      },
      "source": [
        "**QUESTION:**\n",
        "\n",
        "2.3.c What is the highest validation accuracy that you observed for the model where you initialized randomly and then trained?  (Copy and paste the decimal value for the highest validation accuracy, e.g. a number like 0.5678 or 0.8765)> 0.7738\n"
      ]
    },
    {
      "cell_type": "markdown",
      "metadata": {
        "id": "4BGRT1g6a0T6"
      },
      "source": [
        "\n",
        "## 3. BERT-based Classification Models\n",
        "\n",
        "Now we turn to classification with BERT. We will perform classifications with various models that are based on pre-trained BERT models.\n",
        "\n",
        "\n",
        "### 3.1. Basics\n",
        "\n",
        "Let us first explore some basics of BERT.\n",
        "\n",
        "We've already loaded the pretrained BERT model and tokenizer that we'll use (\n",
        "'bert-base-cased').\n",
        "\n",
        "Now, consider this input:"
      ]
    },
    {
      "cell_type": "code",
      "execution_count": 73,
      "metadata": {
        "id": "aM3UggLagPn4"
      },
      "outputs": [],
      "source": [
        "test_input = ['this bank is closed on Sunday', 'the steepest bank of the river is dangerous']"
      ]
    },
    {
      "cell_type": "markdown",
      "metadata": {
        "id": "YWaNDy5UbmGU"
      },
      "source": [
        "Now apply the BERT tokenizer to tokenize it:"
      ]
    },
    {
      "cell_type": "code",
      "execution_count": 74,
      "metadata": {
        "id": "nmoptRz0bq1o",
        "colab": {
          "base_uri": "https://localhost:8080/"
        },
        "outputId": "5b4a92ad-0a18-4a45-b513-ac09b35cd143"
      },
      "outputs": [
        {
          "output_type": "execute_result",
          "data": {
            "text/plain": [
              "{'input_ids': <tf.Tensor: shape=(2, 12), dtype=int32, numpy=\n",
              "array([[ 101, 1142, 3085, 1110, 1804, 1113, 3625,  102,    0,    0,    0,\n",
              "           0],\n",
              "       [ 101, 1103, 9458, 2556, 3085, 1104, 1103, 2186, 1110, 4249,  102,\n",
              "           0]], dtype=int32)>, 'token_type_ids': <tf.Tensor: shape=(2, 12), dtype=int32, numpy=\n",
              "array([[0, 0, 0, 0, 0, 0, 0, 0, 0, 0, 0, 0],\n",
              "       [0, 0, 0, 0, 0, 0, 0, 0, 0, 0, 0, 0]], dtype=int32)>, 'attention_mask': <tf.Tensor: shape=(2, 12), dtype=int32, numpy=\n",
              "array([[1, 1, 1, 1, 1, 1, 1, 1, 0, 0, 0, 0],\n",
              "       [1, 1, 1, 1, 1, 1, 1, 1, 1, 1, 1, 0]], dtype=int32)>}"
            ]
          },
          "metadata": {},
          "execution_count": 74
        }
      ],
      "source": [
        "tokenized_input = bert_tokenizer(test_input,\n",
        "                                 max_length=12,\n",
        "                                 truncation=True,\n",
        "                                 padding='max_length',\n",
        "                                 return_tensors='tf')\n",
        "\n",
        "tokenized_input"
      ]
    },
    {
      "cell_type": "markdown",
      "metadata": {
        "id": "q8WYd810dQwh"
      },
      "source": [
        " **QUESTION:**\n",
        "\n",
        " 3.1.a  Why do the attention_masks have 4 and 1 zeros, respectively?  Choose the correct one and enter it in the answers file.\n",
        "\n",
        "  *  For the first example the last four tokens belong to a different segment. For the second one it is only the last token.\n",
        "\n",
        "  *  For the first example 4 positions are padded while for the second one it is only one. V\n",
        "\n",
        "------\n",
        "\n",
        "\n",
        "Next, let us look at the BERT outputs for these 2 sentences:"
      ]
    },
    {
      "cell_type": "code",
      "execution_count": 75,
      "metadata": {
        "id": "4hpNQPvBehMc",
        "colab": {
          "base_uri": "https://localhost:8080/"
        },
        "outputId": "c260f4b8-4b39-49b3-f9e5-feb172a86917"
      },
      "outputs": [
        {
          "output_type": "stream",
          "name": "stdout",
          "text": [
            "TFBaseModelOutputWithPoolingAndCrossAttentions(last_hidden_state=<tf.Tensor: shape=(2, 12, 768), dtype=float32, numpy=\n",
            "array([[[ 0.39452153,  0.04198513,  0.06480418, ...,  0.05045479,\n",
            "          0.22358865,  0.24238198],\n",
            "        [-0.09458949,  0.06673875, -0.03607525, ...,  0.21925776,\n",
            "         -0.06967184,  0.7444838 ],\n",
            "        [ 0.00561068,  0.31316522, -0.179827  , ...,  0.19563268,\n",
            "         -0.10614735,  0.47773603],\n",
            "        ...,\n",
            "        [ 0.22268742, -0.11558606,  0.15854394, ...,  0.30025312,\n",
            "          0.01634067,  0.51333976],\n",
            "        [ 0.31638393, -0.10986972,  0.23661843, ...,  0.10924131,\n",
            "         -0.14340374,  0.32835394],\n",
            "        [ 0.34834057, -0.10076538,  0.26903224, ...,  0.12707612,\n",
            "         -0.18430144,  0.26176235]],\n",
            "\n",
            "       [[ 0.44506398,  0.22264971, -0.0997247 , ..., -0.23736249,\n",
            "          0.12722515,  0.07778182],\n",
            "        [ 0.074076  , -0.3180585 , -0.1192469 , ..., -0.06680153,\n",
            "         -0.3061707 ,  0.4692355 ],\n",
            "        [ 0.3145811 ,  0.6265878 ,  0.00606324, ..., -0.0369747 ,\n",
            "         -0.08461301,  0.72683096],\n",
            "        ...,\n",
            "        [ 0.6999461 , -0.11628457,  0.01613341, ..., -0.4743725 ,\n",
            "          0.05725142,  0.2183011 ],\n",
            "        [ 0.56029683,  0.08535804, -0.919235  , ..., -0.31020173,\n",
            "         -0.09382501,  0.3491105 ],\n",
            "        [-0.26863536,  0.11328806,  0.07555683, ...,  0.37382212,\n",
            "          0.00740072,  0.16682106]]], dtype=float32)>, pooler_output=<tf.Tensor: shape=(2, 768), dtype=float32, numpy=\n",
            "array([[-0.6653194 ,  0.47329742,  0.9998541 , ...,  0.99994165,\n",
            "        -0.7300668 ,  0.97826153],\n",
            "       [-0.62586117,  0.4441631 ,  0.99979794, ...,  0.99991226,\n",
            "        -0.7422423 ,  0.9725732 ]], dtype=float32)>, past_key_values=None, hidden_states=None, attentions=None, cross_attentions=None)\n"
          ]
        }
      ],
      "source": [
        "### YOUR CODE HERE\n",
        "\n",
        "bert_output = bert_model(tokenized_input)\n",
        "\n",
        "#last_hidden_state tensor shape = (2, 12, 768), 2 sentences, 12 sentence length, and 768 embedding dimensions.\n",
        "#pooler_output tensor shape=(2, 768), 2 sentences, 768 embedding dimensions.\n",
        "print(bert_output)\n",
        "\n",
        "### END YOUR CODE"
      ]
    },
    {
      "cell_type": "markdown",
      "metadata": {
        "id": "XVNsqd6QRepy"
      },
      "source": [
        " **QUESTION:**\n",
        "\n",
        " 3.1.b How many outputs are there? there are two, last_hidden_state and pooler_output respectively.\n",
        "\n",
        " Enter your code below."
      ]
    },
    {
      "cell_type": "code",
      "execution_count": 78,
      "metadata": {
        "id": "qAfOnO9zov-y",
        "colab": {
          "base_uri": "https://localhost:8080/"
        },
        "outputId": "453082e7-6455-44f0-b602-6db61eb22933"
      },
      "outputs": [
        {
          "output_type": "stream",
          "name": "stdout",
          "text": [
            "TFBaseModelOutputWithPoolingAndCrossAttentions(last_hidden_state=<tf.Tensor: shape=(2, 12, 768), dtype=float32, numpy=\n",
            "array([[[ 0.39452153,  0.04198513,  0.06480418, ...,  0.05045479,\n",
            "          0.22358865,  0.24238198],\n",
            "        [-0.09458949,  0.06673875, -0.03607525, ...,  0.21925776,\n",
            "         -0.06967184,  0.7444838 ],\n",
            "        [ 0.00561068,  0.31316522, -0.179827  , ...,  0.19563268,\n",
            "         -0.10614735,  0.47773603],\n",
            "        ...,\n",
            "        [ 0.22268742, -0.11558606,  0.15854394, ...,  0.30025312,\n",
            "          0.01634067,  0.51333976],\n",
            "        [ 0.31638393, -0.10986972,  0.23661843, ...,  0.10924131,\n",
            "         -0.14340374,  0.32835394],\n",
            "        [ 0.34834057, -0.10076538,  0.26903224, ...,  0.12707612,\n",
            "         -0.18430144,  0.26176235]],\n",
            "\n",
            "       [[ 0.44506398,  0.22264971, -0.0997247 , ..., -0.23736249,\n",
            "          0.12722515,  0.07778182],\n",
            "        [ 0.074076  , -0.3180585 , -0.1192469 , ..., -0.06680153,\n",
            "         -0.3061707 ,  0.4692355 ],\n",
            "        [ 0.3145811 ,  0.6265878 ,  0.00606324, ..., -0.0369747 ,\n",
            "         -0.08461301,  0.72683096],\n",
            "        ...,\n",
            "        [ 0.6999461 , -0.11628457,  0.01613341, ..., -0.4743725 ,\n",
            "          0.05725142,  0.2183011 ],\n",
            "        [ 0.56029683,  0.08535804, -0.919235  , ..., -0.31020173,\n",
            "         -0.09382501,  0.3491105 ],\n",
            "        [-0.26863536,  0.11328806,  0.07555683, ...,  0.37382212,\n",
            "          0.00740072,  0.16682106]]], dtype=float32)>, pooler_output=<tf.Tensor: shape=(2, 768), dtype=float32, numpy=\n",
            "array([[-0.6653194 ,  0.47329742,  0.9998541 , ...,  0.99994165,\n",
            "        -0.7300668 ,  0.97826153],\n",
            "       [-0.62586117,  0.4441631 ,  0.99979794, ...,  0.99991226,\n",
            "        -0.7422423 ,  0.9725732 ]], dtype=float32)>, past_key_values=None, hidden_states=None, attentions=None, cross_attentions=None)\n"
          ]
        }
      ],
      "source": [
        "### YOUR CODE HERE\n",
        "\n",
        "#b. -> print it out\n",
        "#last_hidden_state: shape = (2, 12, 768), 2 sentences, 12 sentence length, and 768 embedding dimensions.\n",
        "#pooler_output: shape=(2, 768), 2 sentences, 768 embedding dimensions.\n",
        "print(bert_output)\n",
        "\n",
        "### END YOUR CODE"
      ]
    },
    {
      "cell_type": "markdown",
      "metadata": {
        "id": "7EYXhams6Bs6"
      },
      "source": [
        "**QUESTION:**\n",
        "\n",
        " 3.1.c Which output do we need to use to get token-level embeddings?\n",
        "\n",
        " * the first V\n",
        "\n",
        " * the second\n",
        "\n",
        " Put your answer in the answers file.\n",
        "\n",
        "**QUESTION:**\n",
        "\n",
        " 3.1.d In the tokenized input, which input_id number (i.e. the vocabulary id) corresponds to 'bank' in the two sentences? ('bert_tokenizer.tokenize()' may come in handy.. and don't forget the CLS token! ) > 3085\n",
        "\n",
        "\n",
        "**QUESTION:**\n",
        "\n",
        " 3.1.e In the array of tokens, which position index number corresponds to 'bank' in the first sentence? ('bert_tokenizer.tokenize()' may come in handy.. and don't forget the CLS token! ) >2"
      ]
    },
    {
      "cell_type": "code",
      "execution_count": 79,
      "metadata": {
        "id": "9X-bPMr56Bs6",
        "colab": {
          "base_uri": "https://localhost:8080/"
        },
        "outputId": "ba1a4637-147e-46cd-e9e7-f6214a748a01"
      },
      "outputs": [
        {
          "output_type": "stream",
          "name": "stdout",
          "text": [
            "{'input_ids': <tf.Tensor: shape=(2, 12), dtype=int32, numpy=\n",
            "array([[ 101, 1142, 3085, 1110, 1804, 1113, 3625,  102,    0,    0,    0,\n",
            "           0],\n",
            "       [ 101, 1103, 9458, 2556, 3085, 1104, 1103, 2186, 1110, 4249,  102,\n",
            "           0]], dtype=int32)>, 'token_type_ids': <tf.Tensor: shape=(2, 12), dtype=int32, numpy=\n",
            "array([[0, 0, 0, 0, 0, 0, 0, 0, 0, 0, 0, 0],\n",
            "       [0, 0, 0, 0, 0, 0, 0, 0, 0, 0, 0, 0]], dtype=int32)>, 'attention_mask': <tf.Tensor: shape=(2, 12), dtype=int32, numpy=\n",
            "array([[1, 1, 1, 1, 1, 1, 1, 1, 0, 0, 0, 0],\n",
            "       [1, 1, 1, 1, 1, 1, 1, 1, 1, 1, 1, 0]], dtype=int32)>}\n",
            "['bank']\n"
          ]
        }
      ],
      "source": [
        "### YOUR CODE HERE\n",
        "\n",
        "#d/e. -> Look at tokens generated by the bert tokenizer for the first example\n",
        "#test_input = ['this bank is closed on Sunday', 'the steepest bank of the river is dangerous']\n",
        "print(tokenized_input)\n",
        "#101:[CLS], 102:[SEP]\n",
        "print(bert_tokenizer.convert_ids_to_tokens([3085]))\n",
        "\n",
        "\n",
        "### END YOUR CODE"
      ]
    },
    {
      "cell_type": "markdown",
      "metadata": {
        "id": "fmC3H1-96Bs6"
      },
      "source": [
        "**QUESTION:**\n",
        "\n",
        "3.1.f Which array position index number corresponds to 'bank' in the second sentence? >4"
      ]
    },
    {
      "cell_type": "code",
      "execution_count": 80,
      "metadata": {
        "id": "OiJrrKo26Bs6",
        "colab": {
          "base_uri": "https://localhost:8080/"
        },
        "outputId": "890c78e4-1f8f-4023-df9e-f566adb2f0f3"
      },
      "outputs": [
        {
          "output_type": "stream",
          "name": "stdout",
          "text": [
            "{'input_ids': <tf.Tensor: shape=(2, 12), dtype=int32, numpy=\n",
            "array([[ 101, 1142, 3085, 1110, 1804, 1113, 3625,  102,    0,    0,    0,\n",
            "           0],\n",
            "       [ 101, 1103, 9458, 2556, 3085, 1104, 1103, 2186, 1110, 4249,  102,\n",
            "           0]], dtype=int32)>, 'token_type_ids': <tf.Tensor: shape=(2, 12), dtype=int32, numpy=\n",
            "array([[0, 0, 0, 0, 0, 0, 0, 0, 0, 0, 0, 0],\n",
            "       [0, 0, 0, 0, 0, 0, 0, 0, 0, 0, 0, 0]], dtype=int32)>, 'attention_mask': <tf.Tensor: shape=(2, 12), dtype=int32, numpy=\n",
            "array([[1, 1, 1, 1, 1, 1, 1, 1, 0, 0, 0, 0],\n",
            "       [1, 1, 1, 1, 1, 1, 1, 1, 1, 1, 1, 0]], dtype=int32)>}\n"
          ]
        }
      ],
      "source": [
        "### YOUR CODE HERE\n",
        "\n",
        "#f. -> Look at tokenization for the second example\n",
        "print(tokenized_input)\n",
        "\n",
        "### END YOUR CODE"
      ]
    },
    {
      "cell_type": "markdown",
      "metadata": {
        "id": "Nd-Q-3MA6Bs6"
      },
      "source": [
        "**QUESTION:**\n",
        "\n",
        " 3.1.g What is the cosine similarity between the BERT embeddings for the two occurences of 'bank' in the two sentences? > 0.74783"
      ]
    },
    {
      "cell_type": "code",
      "execution_count": 91,
      "metadata": {
        "id": "xVIt83S26Bs6",
        "colab": {
          "base_uri": "https://localhost:8080/"
        },
        "outputId": "cf2ad6fe-502d-4f41-d2af-a591285ca260"
      },
      "outputs": [
        {
          "output_type": "stream",
          "name": "stdout",
          "text": [
            "tf.Tensor(0.74783045, shape=(), dtype=float32)\n"
          ]
        }
      ],
      "source": [
        "### YOUR CODE HERE\n",
        "\n",
        "#g.  -> get the vectors and calculate cosine similarity between the two 'bank' BERT embedddings\n",
        "#output of 2 sentences and the bank embedding in each sentence.\n",
        "first_sentence_bank_embedding = bert_output.last_hidden_state[0, 2, :]\n",
        "second_sentence_bank_embedding = bert_output.last_hidden_state[1, 4, :]\n",
        "\n",
        "#cosine similarity\n",
        "cosine_similarity = tf.reduce_sum(tf.multiply(first_sentence_bank_embedding, second_sentence_bank_embedding))\n",
        "cosine_similarity /= (tf.norm(first_sentence_bank_embedding) * tf.norm(second_sentence_bank_embedding))\n",
        "cosine_similarity\n",
        "print(cosine_similarity)\n",
        "#1 means identical, -1 means opposite\n",
        "\n",
        "### END YOUR CODE"
      ]
    },
    {
      "cell_type": "markdown",
      "metadata": {
        "id": "7a2zCWHP6Bs6"
      },
      "source": [
        "**QUESTION:**\n",
        "\n",
        "3.1.h How does this relate to the cosine similarity of 'this' (in sentence 1) and the first 'the' (in sentence 2). Compute their cosine similarity. > 0.81103"
      ]
    },
    {
      "cell_type": "code",
      "execution_count": 93,
      "metadata": {
        "id": "TnEWs6St6Bs6",
        "colab": {
          "base_uri": "https://localhost:8080/"
        },
        "outputId": "528faadd-6d7e-49ba-8aa2-7e353bd1124f"
      },
      "outputs": [
        {
          "output_type": "stream",
          "name": "stdout",
          "text": [
            "tf.Tensor(0.8110268, shape=(), dtype=float32)\n"
          ]
        }
      ],
      "source": [
        "### YOUR CODE HERE\n",
        "\n",
        "#h.  -> get the vectors and calculate cosine similarity\n",
        "#output of 2 sentences and the bank embedding in each sentence.\n",
        "first_sentence_this_embedding = bert_output.last_hidden_state[0, 1, :]\n",
        "second_sentence_the_embedding = bert_output.last_hidden_state[1, 1, :]\n",
        "#cosine similarity\n",
        "cosine_similarity = tf.reduce_sum(tf.multiply(first_sentence_this_embedding, second_sentence_the_embedding))\n",
        "cosine_similarity /= (tf.norm(first_sentence_this_embedding) * tf.norm(second_sentence_the_embedding))\n",
        "print(cosine_similarity)\n",
        "\n",
        "\n",
        "### END YOUR CODE"
      ]
    },
    {
      "cell_type": "markdown",
      "metadata": {
        "id": "KBOvsTBwm_Vi"
      },
      "source": [
        "### 3.2 CLS-Token-based Classification\n",
        "\n",
        "In the live session we discussed classification with BERT using the pooled token. We now will do the same but extract the [CLS] token output for each example and use that for classification purposes.\n",
        "\n",
        "Consult the model from the live session and change accordingly. Make sure the BERT model is fully trainable.\n",
        "\n",
        "**HINT:**\n",
        "You will want to extract the output of the [CLS] token from the BERT output similarly to what we did above to get the output for 'bank', etc.\n"
      ]
    },
    {
      "cell_type": "code",
      "execution_count": 94,
      "metadata": {
        "id": "V1OAGPTNgPr6"
      },
      "outputs": [],
      "source": [
        "def create_bert_cls_model(bert_base_model,\n",
        "                          max_sequence_length=MAX_SEQUENCE_LENGTH,\n",
        "                          hidden_size = 100,\n",
        "                          dropout=0.3,\n",
        "                          learning_rate=0.00005):\n",
        "    \"\"\"\n",
        "    Build a simple classification model with BERT. Use the CLS Token output for classification purposes.\n",
        "    \"\"\"\n",
        "\n",
        "    ### YOUR CODE HERE\n",
        "\n",
        "    bert_base_model.trainable = True\n",
        "\n",
        "    #input layers of BERT, shape (batch, max_sequence_length), model will be fit with bert_train_tokenized\n",
        "    input_ids = Input(shape=(max_sequence_length,), dtype=tf.int32, name='input_ids')\n",
        "    token_type_ids = Input(shape=(max_sequence_length,), dtype=tf.int32, name='token_type_ids')\n",
        "    attention_mask = Input(shape=(max_sequence_length,), dtype=tf.int32, name='attention_mask')\n",
        "\n",
        "    inputs = [input_ids, token_type_ids, attention_mask]\n",
        "\n",
        "    #BERT output, last_hidden_state shape (batch, max_sequence_length, embedding dimensions)\n",
        "    bert_output = bert_base_model(input_ids=input_ids,\n",
        "                                  token_type_ids=token_type_ids,\n",
        "                                  attention_mask=attention_mask)[0]\n",
        "\n",
        "    #Extract the CLS token's output, the embedding representation of first token of every sentence, shape(batch, embedding dimensions)\n",
        "    cls_token_output = bert_output[:, 0, :]\n",
        "\n",
        "    #Add a dropout layer\n",
        "    x = Dropout(dropout)(cls_token_output)\n",
        "\n",
        "    #Add a fully connected layer for classification\n",
        "    x = Dense(hidden_size, activation='relu')(x)\n",
        "\n",
        "    #Final output layer for classification, assuming it's binary task\n",
        "    output = Dense(1, activation='sigmoid')(x)\n",
        "\n",
        "    #Model complie\n",
        "    classification_model = Model(inputs=inputs, outputs=output)\n",
        "    classification_model.compile(optimizer=tf.keras.optimizers.Adam(learning_rate=learning_rate),\n",
        "                                 loss='binary_crossentropy',\n",
        "                                 metrics=['accuracy'])\n",
        "\n",
        "    ### END YOUR CODE\n",
        "\n",
        "    return classification_model"
      ]
    },
    {
      "cell_type": "markdown",
      "metadata": {
        "id": "KcK2PyPNoNc2"
      },
      "source": [
        "Now create the model and train for 2 epochs. Use batch size 8 and the appropriate validation/test set. (We don't make a distinction here between validation and test although we might in other contexts.)\n"
      ]
    },
    {
      "cell_type": "code",
      "execution_count": 95,
      "metadata": {
        "id": "hIXDr8OdiSyv",
        "colab": {
          "base_uri": "https://localhost:8080/"
        },
        "outputId": "80149363-6ab1-4ec6-bc2f-d403f7a090b7"
      },
      "outputs": [
        {
          "output_type": "stream",
          "name": "stdout",
          "text": [
            "Epoch 1/2\n"
          ]
        },
        {
          "output_type": "stream",
          "name": "stderr",
          "text": [
            "WARNING:tensorflow:Gradients do not exist for variables ['tf_bert_model/bert/pooler/dense/kernel:0', 'tf_bert_model/bert/pooler/dense/bias:0'] when minimizing the loss. If you're using `model.compile()`, did you forget to provide a `loss` argument?\n",
            "WARNING:tensorflow:Gradients do not exist for variables ['tf_bert_model/bert/pooler/dense/kernel:0', 'tf_bert_model/bert/pooler/dense/bias:0'] when minimizing the loss. If you're using `model.compile()`, did you forget to provide a `loss` argument?\n",
            "WARNING:tensorflow:Gradients do not exist for variables ['tf_bert_model/bert/pooler/dense/kernel:0', 'tf_bert_model/bert/pooler/dense/bias:0'] when minimizing the loss. If you're using `model.compile()`, did you forget to provide a `loss` argument?\n",
            "WARNING:tensorflow:Gradients do not exist for variables ['tf_bert_model/bert/pooler/dense/kernel:0', 'tf_bert_model/bert/pooler/dense/bias:0'] when minimizing the loss. If you're using `model.compile()`, did you forget to provide a `loss` argument?\n"
          ]
        },
        {
          "output_type": "stream",
          "name": "stdout",
          "text": [
            "2500/2500 [==============================] - 541s 196ms/step - loss: 0.4224 - accuracy: 0.8052 - val_loss: 0.3654 - val_accuracy: 0.8360\n",
            "Epoch 2/2\n",
            "2500/2500 [==============================] - 464s 185ms/step - loss: 0.2822 - accuracy: 0.8830 - val_loss: 0.4347 - val_accuracy: 0.8360\n"
          ]
        }
      ],
      "source": [
        "### YOUR CODE HERE\n",
        "#bert_model\n",
        "\n",
        "bert_cls_model_classification = create_bert_cls_model(bert_model)\n",
        "history_cls_bert= bert_cls_model_classification.fit(bert_train_inputs,\n",
        "                                                    bert_train_labels,\n",
        "                                                    epochs=2,\n",
        "                                                    batch_size=8,\n",
        "                                                    validation_data=(bert_test_inputs, bert_test_labels))\n",
        "\n",
        "\n",
        "### END YOUR CODE"
      ]
    },
    {
      "cell_type": "markdown",
      "metadata": {
        "id": "LLjgxylMnC0x"
      },
      "source": [
        " **QUESTION:**\n",
        "\n",
        " 3.2.a What is the highest validation accuracy that you observed for the [CLS]-classification model after training for 2 epochs? (Copy and paste the decimal value for the highest validation accuracy, e.g. a number like 0.5678 or 0.8765) > 0.8360\n",
        "\n",
        "\n"
      ]
    },
    {
      "cell_type": "markdown",
      "metadata": {
        "id": "3cMVEBuxro4j"
      },
      "source": [
        "### 3.3 Classification by Averaging the BERT outputs\n",
        "\n",
        "Instead of using only the output vector for the [CLS] token, we will now average the output vectors from BERT for all of the tokens in the full sequence.\n",
        "\n",
        "**HINT:**\n",
        "You will want to get the full sequence of token output vectors from the BERT model and then apply an average across the tokens. You may want to use:\n",
        "\n",
        "```\n",
        "tf.math.reduce_mean()\n",
        "```\n",
        "but you can also do it in other ways.\n",
        "\n"
      ]
    },
    {
      "cell_type": "code",
      "execution_count": 96,
      "metadata": {
        "id": "sB2WKwLTk4LY"
      },
      "outputs": [],
      "source": [
        "def create_bert_avg_model(bert_a_model,\n",
        "                          max_sequence_length=MAX_SEQUENCE_LENGTH,\n",
        "                          hidden_size = 100,\n",
        "                          dropout=0.3,\n",
        "                          learning_rate=0.00005):\n",
        "    \"\"\"\n",
        "    Build a simple classification model with BERT. Use the average of the BERT output tokens\n",
        "    \"\"\"\n",
        "\n",
        "    ### YOUR CODE HERE\n",
        "\n",
        "    bert_a_model.trainable = True\n",
        "\n",
        "    #input layers of BERT, shape (batch, max_sequence_length), model will be fit with bert_train_tokenized\n",
        "    input_ids = Input(shape=(max_sequence_length,), dtype=tf.int32, name='input_ids')\n",
        "    token_type_ids = Input(shape=(max_sequence_length,), dtype=tf.int32, name='token_type_ids')\n",
        "    attention_mask = Input(shape=(max_sequence_length,), dtype=tf.int32, name='attention_mask')\n",
        "\n",
        "    inputs = [input_ids, token_type_ids, attention_mask]\n",
        "\n",
        "    #BERT output, last_hidden_state shape (batch, max_sequence_length, embedding dimensions)\n",
        "    bert_output = bert_a_model(input_ids=input_ids,\n",
        "                              token_type_ids=token_type_ids,\n",
        "                              attention_mask=attention_mask)[0]\n",
        "\n",
        "    #Extract mean of every BERT output (batch, max_length ,embedding dimensions) -> (batch, enbedding dimensions)\n",
        "    sentence_mean = tf.math.reduce_mean(bert_output, axis=1)\n",
        "\n",
        "    #Add a dropout layer\n",
        "    x = Dropout(dropout)(sentence_mean)\n",
        "\n",
        "    #Add a fully connected layer for classification\n",
        "    x = Dense(hidden_size, activation='relu')(x)\n",
        "\n",
        "    #Final output layer for classification, assuming it's binary task\n",
        "    output = Dense(1, activation='sigmoid')(x)\n",
        "\n",
        "    #Model complie\n",
        "    classification_model = Model(inputs=inputs, outputs=output)\n",
        "    classification_model.compile(optimizer=tf.keras.optimizers.Adam(learning_rate=learning_rate),\n",
        "                                 loss='binary_crossentropy',\n",
        "                                 metrics=['accuracy'])\n",
        "\n",
        "\n",
        "    ### END YOUR CODE\n",
        "\n",
        "    return classification_model"
      ]
    },
    {
      "cell_type": "markdown",
      "metadata": {
        "id": "xcLrgI49tBde"
      },
      "source": [
        "Now create the model and train for 2 epochs. Use batch size 8 and the appropriate validation/test set. (We again don't make a distinction here.)  Remember that all layers of the BERT model should be trainable."
      ]
    },
    {
      "cell_type": "code",
      "execution_count": 97,
      "metadata": {
        "id": "AtS29uRbk4Os",
        "colab": {
          "base_uri": "https://localhost:8080/"
        },
        "outputId": "19e741c0-eb4d-4264-c787-a8f49a2d6826"
      },
      "outputs": [
        {
          "output_type": "stream",
          "name": "stdout",
          "text": [
            "Epoch 1/2\n"
          ]
        },
        {
          "output_type": "stream",
          "name": "stderr",
          "text": [
            "WARNING:tensorflow:Gradients do not exist for variables ['tf_bert_model/bert/pooler/dense/kernel:0', 'tf_bert_model/bert/pooler/dense/bias:0'] when minimizing the loss. If you're using `model.compile()`, did you forget to provide a `loss` argument?\n",
            "WARNING:tensorflow:Gradients do not exist for variables ['tf_bert_model/bert/pooler/dense/kernel:0', 'tf_bert_model/bert/pooler/dense/bias:0'] when minimizing the loss. If you're using `model.compile()`, did you forget to provide a `loss` argument?\n",
            "WARNING:tensorflow:Gradients do not exist for variables ['tf_bert_model/bert/pooler/dense/kernel:0', 'tf_bert_model/bert/pooler/dense/bias:0'] when minimizing the loss. If you're using `model.compile()`, did you forget to provide a `loss` argument?\n",
            "WARNING:tensorflow:Gradients do not exist for variables ['tf_bert_model/bert/pooler/dense/kernel:0', 'tf_bert_model/bert/pooler/dense/bias:0'] when minimizing the loss. If you're using `model.compile()`, did you forget to provide a `loss` argument?\n"
          ]
        },
        {
          "output_type": "stream",
          "name": "stdout",
          "text": [
            "2500/2500 [==============================] - 522s 191ms/step - loss: 0.1701 - accuracy: 0.9373 - val_loss: 0.5213 - val_accuracy: 0.8108\n",
            "Epoch 2/2\n",
            "2500/2500 [==============================] - 466s 186ms/step - loss: 0.1018 - accuracy: 0.9638 - val_loss: 0.6449 - val_accuracy: 0.8102\n"
          ]
        }
      ],
      "source": [
        "### YOUR CODE HERE\n",
        "\n",
        "bert_avg_model_classification = create_bert_avg_model(bert_model)\n",
        "history_avg_bert= bert_avg_model_classification.fit(bert_train_inputs,\n",
        "                                                    bert_train_labels,\n",
        "                                                    epochs=2,\n",
        "                                                    batch_size=8,\n",
        "                                                    validation_data=(bert_test_inputs, bert_test_labels))\n",
        "\n",
        "### END YOUR CODE"
      ]
    },
    {
      "cell_type": "markdown",
      "metadata": {
        "id": "NiWb3y9anNlG"
      },
      "source": [
        " **QUESTION:**\n",
        "\n",
        " 3.3.a What is the highest validation accuracy that you observed for the BERT-averaging-classification model after training for 2 epochs? (Copy and paste the decimal value for the highest validation accuracy, e.g. a number like 0.5678 or 0.8765) > 0.8108\n",
        "\n",
        "\n"
      ]
    },
    {
      "cell_type": "markdown",
      "metadata": {
        "id": "jpVZXfOAt0UC"
      },
      "source": [
        "### 3.4 Adding a CNN on top of BERT\n",
        "\n",
        "Can we also combine advanced architectures? Absolutely! In the end we are dealing with tensors and it does not matter whether they are coming from static word2vec embeddings or context-based BERT embeddings. (Whether we want to is another question, but let's try it here.)\n",
        "\n",
        "\n",
        "**HINT:**\n",
        "You should appropriately stitch together the BERT-based components and the CNN components from the lesson notebook. Remember that BERT provides a sequence of contextualized token embeddings as its main output, and a CNN takes a sequence of vectors as input.\n",
        "\n",
        "Use the provided hyperparameters for CNN filter sizes and numbers of filters. Keep the same hyperparameters for the rest of the model, including a dropout layer and dense layer after the CNN, with the provided dropout rate and hidden_size. Again make sure the BERT model is trainable."
      ]
    },
    {
      "cell_type": "code",
      "execution_count": 98,
      "metadata": {
        "id": "6IJoPmcHk4UO"
      },
      "outputs": [],
      "source": [
        "def create_bert_cnn_model(bert_cnn_model,\n",
        "                          max_sequence_length=MAX_SEQUENCE_LENGTH,\n",
        "                          num_filters = [131, 127, 51, 23, 17],\n",
        "                          kernel_sizes = [2, 3, 4, 5, 7],\n",
        "                          dropout = 0.3,\n",
        "                          hidden_size = 275, #100\n",
        "                          learning_rate=0.00005):\n",
        "    \"\"\"\n",
        "    Build a  classification model with BERT, where you apply CNN layers  to the BERT output\n",
        "    \"\"\"\n",
        "\n",
        "    ### YOUR CODE HERE\n",
        "\n",
        "    bert_cnn_model.trainable = True\n",
        "\n",
        "        #input layers of BERT, shape (batch, max_sequence_length), model will be fit with bert_train_tokenized\n",
        "    input_ids = Input(shape=(max_sequence_length,), dtype=tf.int32, name='input_ids')\n",
        "    token_type_ids = Input(shape=(max_sequence_length,), dtype=tf.int32, name='token_type_ids')\n",
        "    attention_mask = Input(shape=(max_sequence_length,), dtype=tf.int32, name='attention_mask')\n",
        "\n",
        "    inputs = [input_ids, token_type_ids, attention_mask]\n",
        "\n",
        "    #BERT output, last_hidden_state shape (batch, max_sequence_length, embedding dimensions)\n",
        "    bert_output = bert_cnn_model(input_ids=input_ids,\n",
        "                                token_type_ids=token_type_ids,\n",
        "                                attention_mask=attention_mask)[0]\n",
        "\n",
        "    #CNN kernals slide through the dimension of index 2, extract advanced context between words (batch, ***max_length ,embedding dimensions)\n",
        "    conv_blocks = []\n",
        "    for kernal_size, filter_num in zip(kernel_sizes, num_filters):\n",
        "\n",
        "      #size of CNN (kernal_size, embedding dimensions, filter_num), padding and stride=1\n",
        "      #output size: (batch, max_length-kernal_size+padding+1, filter_num)\n",
        "      conv = Conv1D(filters=filter_num, kernel_size=kernal_size, activation='relu')(bert_output)\n",
        "      #output (batch, filter_num) find the maximum of CNN output\n",
        "      conv = GlobalMaxPooling1D()(conv)\n",
        "      conv_blocks.append(conv)\n",
        "\n",
        "    #flattening\n",
        "    cnn_output = Concatenate()(conv_blocks)\n",
        "\n",
        "    #Add a dropout layer\n",
        "    x = Dropout(dropout)(cnn_output)\n",
        "\n",
        "    #Add a fully connected layer for classification\n",
        "    x = Dense(hidden_size, activation='relu')(x)\n",
        "\n",
        "    #Final output layer for classification, assuming it's binary task\n",
        "    output = Dense(1, activation='sigmoid')(x)\n",
        "\n",
        "    #Model complie\n",
        "    classification_model = Model(inputs=inputs, outputs=output)\n",
        "    classification_model.compile(optimizer=tf.keras.optimizers.Adam(learning_rate=learning_rate),\n",
        "                                 loss='binary_crossentropy',\n",
        "                                 metrics=['accuracy'])\n",
        "\n",
        "    ### END YOUR CODE\n",
        "\n",
        "    return classification_model"
      ]
    },
    {
      "cell_type": "markdown",
      "metadata": {
        "id": "1KVHhxxIhkqS"
      },
      "source": [
        "Train this model for 2 epochs as well with mini-batch size of 8:"
      ]
    },
    {
      "cell_type": "code",
      "execution_count": 99,
      "metadata": {
        "id": "gobUGAVFk4XG",
        "colab": {
          "base_uri": "https://localhost:8080/"
        },
        "outputId": "32a0c62d-88d7-4eaf-90a7-fdc5a55d385a"
      },
      "outputs": [
        {
          "output_type": "stream",
          "name": "stdout",
          "text": [
            "Epoch 1/2\n"
          ]
        },
        {
          "output_type": "stream",
          "name": "stderr",
          "text": [
            "WARNING:tensorflow:Gradients do not exist for variables ['tf_bert_model/bert/pooler/dense/kernel:0', 'tf_bert_model/bert/pooler/dense/bias:0'] when minimizing the loss. If you're using `model.compile()`, did you forget to provide a `loss` argument?\n",
            "WARNING:tensorflow:Gradients do not exist for variables ['tf_bert_model/bert/pooler/dense/kernel:0', 'tf_bert_model/bert/pooler/dense/bias:0'] when minimizing the loss. If you're using `model.compile()`, did you forget to provide a `loss` argument?\n",
            "WARNING:tensorflow:Gradients do not exist for variables ['tf_bert_model/bert/pooler/dense/kernel:0', 'tf_bert_model/bert/pooler/dense/bias:0'] when minimizing the loss. If you're using `model.compile()`, did you forget to provide a `loss` argument?\n",
            "WARNING:tensorflow:Gradients do not exist for variables ['tf_bert_model/bert/pooler/dense/kernel:0', 'tf_bert_model/bert/pooler/dense/bias:0'] when minimizing the loss. If you're using `model.compile()`, did you forget to provide a `loss` argument?\n"
          ]
        },
        {
          "output_type": "stream",
          "name": "stdout",
          "text": [
            "2500/2500 [==============================] - 541s 195ms/step - loss: 0.0951 - accuracy: 0.9675 - val_loss: 0.7493 - val_accuracy: 0.8090\n",
            "Epoch 2/2\n",
            "2500/2500 [==============================] - 474s 190ms/step - loss: 0.0672 - accuracy: 0.9773 - val_loss: 0.5081 - val_accuracy: 0.8024\n"
          ]
        }
      ],
      "source": [
        "### YOUR CODE HERE\n",
        "\n",
        "bert_cnn_model_classification = create_bert_cnn_model(bert_model)\n",
        "history_cnn_bert= bert_cnn_model_classification.fit(bert_train_inputs,\n",
        "                                                    bert_train_labels,\n",
        "                                                    epochs=2,\n",
        "                                                    batch_size=8,\n",
        "                                                    validation_data=(bert_test_inputs, bert_test_labels))\n",
        "\n",
        "### END YOUR CODE"
      ]
    },
    {
      "cell_type": "markdown",
      "metadata": {
        "id": "19zjdjc0nTn8"
      },
      "source": [
        " **QUESTION:**\n",
        "\n",
        "3.4.a What is the highest validation accuracy that you observed for the BERT-CNN-classification model after 2 epochs?  (Copy and paste the decimal value for the highest validation accuracy, e.g. a number like 0.5678 or 0.8765)>　0.8090,\n",
        "seems overfitting in this case, because the tokens of the whole sentence have much more information than the token of [CLS] only"
      ]
    },
    {
      "cell_type": "markdown",
      "metadata": {
        "id": "_Y3e9X8bvhZf"
      },
      "source": [
        "# That's It!\n",
        "## Congratulations... You are done!\n",
        "## We hope you learned a ton!"
      ]
    }
  ],
  "metadata": {
    "accelerator": "GPU",
    "colab": {
      "provenance": [],
      "gpuType": "T4",
      "include_colab_link": true
    },
    "kernelspec": {
      "display_name": "Python 3",
      "name": "python3"
    },
    "language_info": {
      "codemirror_mode": {
        "name": "ipython",
        "version": 3
      },
      "file_extension": ".py",
      "mimetype": "text/x-python",
      "name": "python",
      "nbconvert_exporter": "python",
      "pygments_lexer": "ipython3",
      "version": "3.8.5"
    },
    "widgets": {
      "application/vnd.jupyter.widget-state+json": {
        "787dacec3b0a43bea0ad777009f892f1": {
          "model_module": "@jupyter-widgets/controls",
          "model_name": "HBoxModel",
          "model_module_version": "1.5.0",
          "state": {
            "_dom_classes": [],
            "_model_module": "@jupyter-widgets/controls",
            "_model_module_version": "1.5.0",
            "_model_name": "HBoxModel",
            "_view_count": null,
            "_view_module": "@jupyter-widgets/controls",
            "_view_module_version": "1.5.0",
            "_view_name": "HBoxView",
            "box_style": "",
            "children": [
              "IPY_MODEL_45c315905f80429bb7f7352d77e2892c",
              "IPY_MODEL_eac6b9282f85485cb60cd580b47d7465",
              "IPY_MODEL_a0c84e362ccf481bb4a0021c43e1baa2"
            ],
            "layout": "IPY_MODEL_6a51e7e005c04181a9c26cd6a746d411"
          }
        },
        "45c315905f80429bb7f7352d77e2892c": {
          "model_module": "@jupyter-widgets/controls",
          "model_name": "HTMLModel",
          "model_module_version": "1.5.0",
          "state": {
            "_dom_classes": [],
            "_model_module": "@jupyter-widgets/controls",
            "_model_module_version": "1.5.0",
            "_model_name": "HTMLModel",
            "_view_count": null,
            "_view_module": "@jupyter-widgets/controls",
            "_view_module_version": "1.5.0",
            "_view_name": "HTMLView",
            "description": "",
            "description_tooltip": null,
            "layout": "IPY_MODEL_bf6ebce3d551472a96da569ded9f78d1",
            "placeholder": "​",
            "style": "IPY_MODEL_83587d29a38f40a3bdaaaaffc26ccfc4",
            "value": "Dl Completed...: 100%"
          }
        },
        "eac6b9282f85485cb60cd580b47d7465": {
          "model_module": "@jupyter-widgets/controls",
          "model_name": "FloatProgressModel",
          "model_module_version": "1.5.0",
          "state": {
            "_dom_classes": [],
            "_model_module": "@jupyter-widgets/controls",
            "_model_module_version": "1.5.0",
            "_model_name": "FloatProgressModel",
            "_view_count": null,
            "_view_module": "@jupyter-widgets/controls",
            "_view_module_version": "1.5.0",
            "_view_name": "ProgressView",
            "bar_style": "success",
            "description": "",
            "description_tooltip": null,
            "layout": "IPY_MODEL_379044e11bee496aadc8aec003aa7253",
            "max": 1,
            "min": 0,
            "orientation": "horizontal",
            "style": "IPY_MODEL_f76c44ae51374233ae77b893d821d380",
            "value": 1
          }
        },
        "a0c84e362ccf481bb4a0021c43e1baa2": {
          "model_module": "@jupyter-widgets/controls",
          "model_name": "HTMLModel",
          "model_module_version": "1.5.0",
          "state": {
            "_dom_classes": [],
            "_model_module": "@jupyter-widgets/controls",
            "_model_module_version": "1.5.0",
            "_model_name": "HTMLModel",
            "_view_count": null,
            "_view_module": "@jupyter-widgets/controls",
            "_view_module_version": "1.5.0",
            "_view_name": "HTMLView",
            "description": "",
            "description_tooltip": null,
            "layout": "IPY_MODEL_426e4c7eaeeb4342b3f1f483c9258906",
            "placeholder": "​",
            "style": "IPY_MODEL_b98327d5743b4e45b8834ca4a5e7550d",
            "value": " 1/1 [00:03&lt;00:00,  3.69s/ url]"
          }
        },
        "6a51e7e005c04181a9c26cd6a746d411": {
          "model_module": "@jupyter-widgets/base",
          "model_name": "LayoutModel",
          "model_module_version": "1.2.0",
          "state": {
            "_model_module": "@jupyter-widgets/base",
            "_model_module_version": "1.2.0",
            "_model_name": "LayoutModel",
            "_view_count": null,
            "_view_module": "@jupyter-widgets/base",
            "_view_module_version": "1.2.0",
            "_view_name": "LayoutView",
            "align_content": null,
            "align_items": null,
            "align_self": null,
            "border": null,
            "bottom": null,
            "display": null,
            "flex": null,
            "flex_flow": null,
            "grid_area": null,
            "grid_auto_columns": null,
            "grid_auto_flow": null,
            "grid_auto_rows": null,
            "grid_column": null,
            "grid_gap": null,
            "grid_row": null,
            "grid_template_areas": null,
            "grid_template_columns": null,
            "grid_template_rows": null,
            "height": null,
            "justify_content": null,
            "justify_items": null,
            "left": null,
            "margin": null,
            "max_height": null,
            "max_width": null,
            "min_height": null,
            "min_width": null,
            "object_fit": null,
            "object_position": null,
            "order": null,
            "overflow": null,
            "overflow_x": null,
            "overflow_y": null,
            "padding": null,
            "right": null,
            "top": null,
            "visibility": null,
            "width": null
          }
        },
        "bf6ebce3d551472a96da569ded9f78d1": {
          "model_module": "@jupyter-widgets/base",
          "model_name": "LayoutModel",
          "model_module_version": "1.2.0",
          "state": {
            "_model_module": "@jupyter-widgets/base",
            "_model_module_version": "1.2.0",
            "_model_name": "LayoutModel",
            "_view_count": null,
            "_view_module": "@jupyter-widgets/base",
            "_view_module_version": "1.2.0",
            "_view_name": "LayoutView",
            "align_content": null,
            "align_items": null,
            "align_self": null,
            "border": null,
            "bottom": null,
            "display": null,
            "flex": null,
            "flex_flow": null,
            "grid_area": null,
            "grid_auto_columns": null,
            "grid_auto_flow": null,
            "grid_auto_rows": null,
            "grid_column": null,
            "grid_gap": null,
            "grid_row": null,
            "grid_template_areas": null,
            "grid_template_columns": null,
            "grid_template_rows": null,
            "height": null,
            "justify_content": null,
            "justify_items": null,
            "left": null,
            "margin": null,
            "max_height": null,
            "max_width": null,
            "min_height": null,
            "min_width": null,
            "object_fit": null,
            "object_position": null,
            "order": null,
            "overflow": null,
            "overflow_x": null,
            "overflow_y": null,
            "padding": null,
            "right": null,
            "top": null,
            "visibility": null,
            "width": null
          }
        },
        "83587d29a38f40a3bdaaaaffc26ccfc4": {
          "model_module": "@jupyter-widgets/controls",
          "model_name": "DescriptionStyleModel",
          "model_module_version": "1.5.0",
          "state": {
            "_model_module": "@jupyter-widgets/controls",
            "_model_module_version": "1.5.0",
            "_model_name": "DescriptionStyleModel",
            "_view_count": null,
            "_view_module": "@jupyter-widgets/base",
            "_view_module_version": "1.2.0",
            "_view_name": "StyleView",
            "description_width": ""
          }
        },
        "379044e11bee496aadc8aec003aa7253": {
          "model_module": "@jupyter-widgets/base",
          "model_name": "LayoutModel",
          "model_module_version": "1.2.0",
          "state": {
            "_model_module": "@jupyter-widgets/base",
            "_model_module_version": "1.2.0",
            "_model_name": "LayoutModel",
            "_view_count": null,
            "_view_module": "@jupyter-widgets/base",
            "_view_module_version": "1.2.0",
            "_view_name": "LayoutView",
            "align_content": null,
            "align_items": null,
            "align_self": null,
            "border": null,
            "bottom": null,
            "display": null,
            "flex": null,
            "flex_flow": null,
            "grid_area": null,
            "grid_auto_columns": null,
            "grid_auto_flow": null,
            "grid_auto_rows": null,
            "grid_column": null,
            "grid_gap": null,
            "grid_row": null,
            "grid_template_areas": null,
            "grid_template_columns": null,
            "grid_template_rows": null,
            "height": null,
            "justify_content": null,
            "justify_items": null,
            "left": null,
            "margin": null,
            "max_height": null,
            "max_width": null,
            "min_height": null,
            "min_width": null,
            "object_fit": null,
            "object_position": null,
            "order": null,
            "overflow": null,
            "overflow_x": null,
            "overflow_y": null,
            "padding": null,
            "right": null,
            "top": null,
            "visibility": null,
            "width": "20px"
          }
        },
        "f76c44ae51374233ae77b893d821d380": {
          "model_module": "@jupyter-widgets/controls",
          "model_name": "ProgressStyleModel",
          "model_module_version": "1.5.0",
          "state": {
            "_model_module": "@jupyter-widgets/controls",
            "_model_module_version": "1.5.0",
            "_model_name": "ProgressStyleModel",
            "_view_count": null,
            "_view_module": "@jupyter-widgets/base",
            "_view_module_version": "1.2.0",
            "_view_name": "StyleView",
            "bar_color": null,
            "description_width": ""
          }
        },
        "426e4c7eaeeb4342b3f1f483c9258906": {
          "model_module": "@jupyter-widgets/base",
          "model_name": "LayoutModel",
          "model_module_version": "1.2.0",
          "state": {
            "_model_module": "@jupyter-widgets/base",
            "_model_module_version": "1.2.0",
            "_model_name": "LayoutModel",
            "_view_count": null,
            "_view_module": "@jupyter-widgets/base",
            "_view_module_version": "1.2.0",
            "_view_name": "LayoutView",
            "align_content": null,
            "align_items": null,
            "align_self": null,
            "border": null,
            "bottom": null,
            "display": null,
            "flex": null,
            "flex_flow": null,
            "grid_area": null,
            "grid_auto_columns": null,
            "grid_auto_flow": null,
            "grid_auto_rows": null,
            "grid_column": null,
            "grid_gap": null,
            "grid_row": null,
            "grid_template_areas": null,
            "grid_template_columns": null,
            "grid_template_rows": null,
            "height": null,
            "justify_content": null,
            "justify_items": null,
            "left": null,
            "margin": null,
            "max_height": null,
            "max_width": null,
            "min_height": null,
            "min_width": null,
            "object_fit": null,
            "object_position": null,
            "order": null,
            "overflow": null,
            "overflow_x": null,
            "overflow_y": null,
            "padding": null,
            "right": null,
            "top": null,
            "visibility": null,
            "width": null
          }
        },
        "b98327d5743b4e45b8834ca4a5e7550d": {
          "model_module": "@jupyter-widgets/controls",
          "model_name": "DescriptionStyleModel",
          "model_module_version": "1.5.0",
          "state": {
            "_model_module": "@jupyter-widgets/controls",
            "_model_module_version": "1.5.0",
            "_model_name": "DescriptionStyleModel",
            "_view_count": null,
            "_view_module": "@jupyter-widgets/base",
            "_view_module_version": "1.2.0",
            "_view_name": "StyleView",
            "description_width": ""
          }
        },
        "a9a83aaf3bc04043a41433ebeec145f9": {
          "model_module": "@jupyter-widgets/controls",
          "model_name": "HBoxModel",
          "model_module_version": "1.5.0",
          "state": {
            "_dom_classes": [],
            "_model_module": "@jupyter-widgets/controls",
            "_model_module_version": "1.5.0",
            "_model_name": "HBoxModel",
            "_view_count": null,
            "_view_module": "@jupyter-widgets/controls",
            "_view_module_version": "1.5.0",
            "_view_name": "HBoxView",
            "box_style": "",
            "children": [
              "IPY_MODEL_ded7012a48a541a4ba81a820012d43d2",
              "IPY_MODEL_db2b07ef61fb4510bf60ae48a1b67cc7",
              "IPY_MODEL_a41dad799bb24e468286596243c6410a"
            ],
            "layout": "IPY_MODEL_5c10fcfc0a7243ca90e13f59a8836413"
          }
        },
        "ded7012a48a541a4ba81a820012d43d2": {
          "model_module": "@jupyter-widgets/controls",
          "model_name": "HTMLModel",
          "model_module_version": "1.5.0",
          "state": {
            "_dom_classes": [],
            "_model_module": "@jupyter-widgets/controls",
            "_model_module_version": "1.5.0",
            "_model_name": "HTMLModel",
            "_view_count": null,
            "_view_module": "@jupyter-widgets/controls",
            "_view_module_version": "1.5.0",
            "_view_name": "HTMLView",
            "description": "",
            "description_tooltip": null,
            "layout": "IPY_MODEL_f33069cc48484d409d5c55ef1cd0f3b2",
            "placeholder": "​",
            "style": "IPY_MODEL_be9262c9ab6744c3bde9fdf3de17bac1",
            "value": "Dl Size...: 100%"
          }
        },
        "db2b07ef61fb4510bf60ae48a1b67cc7": {
          "model_module": "@jupyter-widgets/controls",
          "model_name": "FloatProgressModel",
          "model_module_version": "1.5.0",
          "state": {
            "_dom_classes": [],
            "_model_module": "@jupyter-widgets/controls",
            "_model_module_version": "1.5.0",
            "_model_name": "FloatProgressModel",
            "_view_count": null,
            "_view_module": "@jupyter-widgets/controls",
            "_view_module_version": "1.5.0",
            "_view_name": "ProgressView",
            "bar_style": "success",
            "description": "",
            "description_tooltip": null,
            "layout": "IPY_MODEL_e034cba6b473424ba5a5fed753211ea1",
            "max": 1,
            "min": 0,
            "orientation": "horizontal",
            "style": "IPY_MODEL_0098ec8255ae45d695f12e0358149731",
            "value": 1
          }
        },
        "a41dad799bb24e468286596243c6410a": {
          "model_module": "@jupyter-widgets/controls",
          "model_name": "HTMLModel",
          "model_module_version": "1.5.0",
          "state": {
            "_dom_classes": [],
            "_model_module": "@jupyter-widgets/controls",
            "_model_module_version": "1.5.0",
            "_model_name": "HTMLModel",
            "_view_count": null,
            "_view_module": "@jupyter-widgets/controls",
            "_view_module_version": "1.5.0",
            "_view_name": "HTMLView",
            "description": "",
            "description_tooltip": null,
            "layout": "IPY_MODEL_4cd76e414c9645a994dedc0e2f05b8ef",
            "placeholder": "​",
            "style": "IPY_MODEL_d83d8ea2ff0940bb9783b40873f8b775",
            "value": " 80/80 [00:03&lt;00:00, 33.74 MiB/s]"
          }
        },
        "5c10fcfc0a7243ca90e13f59a8836413": {
          "model_module": "@jupyter-widgets/base",
          "model_name": "LayoutModel",
          "model_module_version": "1.2.0",
          "state": {
            "_model_module": "@jupyter-widgets/base",
            "_model_module_version": "1.2.0",
            "_model_name": "LayoutModel",
            "_view_count": null,
            "_view_module": "@jupyter-widgets/base",
            "_view_module_version": "1.2.0",
            "_view_name": "LayoutView",
            "align_content": null,
            "align_items": null,
            "align_self": null,
            "border": null,
            "bottom": null,
            "display": null,
            "flex": null,
            "flex_flow": null,
            "grid_area": null,
            "grid_auto_columns": null,
            "grid_auto_flow": null,
            "grid_auto_rows": null,
            "grid_column": null,
            "grid_gap": null,
            "grid_row": null,
            "grid_template_areas": null,
            "grid_template_columns": null,
            "grid_template_rows": null,
            "height": null,
            "justify_content": null,
            "justify_items": null,
            "left": null,
            "margin": null,
            "max_height": null,
            "max_width": null,
            "min_height": null,
            "min_width": null,
            "object_fit": null,
            "object_position": null,
            "order": null,
            "overflow": null,
            "overflow_x": null,
            "overflow_y": null,
            "padding": null,
            "right": null,
            "top": null,
            "visibility": null,
            "width": null
          }
        },
        "f33069cc48484d409d5c55ef1cd0f3b2": {
          "model_module": "@jupyter-widgets/base",
          "model_name": "LayoutModel",
          "model_module_version": "1.2.0",
          "state": {
            "_model_module": "@jupyter-widgets/base",
            "_model_module_version": "1.2.0",
            "_model_name": "LayoutModel",
            "_view_count": null,
            "_view_module": "@jupyter-widgets/base",
            "_view_module_version": "1.2.0",
            "_view_name": "LayoutView",
            "align_content": null,
            "align_items": null,
            "align_self": null,
            "border": null,
            "bottom": null,
            "display": null,
            "flex": null,
            "flex_flow": null,
            "grid_area": null,
            "grid_auto_columns": null,
            "grid_auto_flow": null,
            "grid_auto_rows": null,
            "grid_column": null,
            "grid_gap": null,
            "grid_row": null,
            "grid_template_areas": null,
            "grid_template_columns": null,
            "grid_template_rows": null,
            "height": null,
            "justify_content": null,
            "justify_items": null,
            "left": null,
            "margin": null,
            "max_height": null,
            "max_width": null,
            "min_height": null,
            "min_width": null,
            "object_fit": null,
            "object_position": null,
            "order": null,
            "overflow": null,
            "overflow_x": null,
            "overflow_y": null,
            "padding": null,
            "right": null,
            "top": null,
            "visibility": null,
            "width": null
          }
        },
        "be9262c9ab6744c3bde9fdf3de17bac1": {
          "model_module": "@jupyter-widgets/controls",
          "model_name": "DescriptionStyleModel",
          "model_module_version": "1.5.0",
          "state": {
            "_model_module": "@jupyter-widgets/controls",
            "_model_module_version": "1.5.0",
            "_model_name": "DescriptionStyleModel",
            "_view_count": null,
            "_view_module": "@jupyter-widgets/base",
            "_view_module_version": "1.2.0",
            "_view_name": "StyleView",
            "description_width": ""
          }
        },
        "e034cba6b473424ba5a5fed753211ea1": {
          "model_module": "@jupyter-widgets/base",
          "model_name": "LayoutModel",
          "model_module_version": "1.2.0",
          "state": {
            "_model_module": "@jupyter-widgets/base",
            "_model_module_version": "1.2.0",
            "_model_name": "LayoutModel",
            "_view_count": null,
            "_view_module": "@jupyter-widgets/base",
            "_view_module_version": "1.2.0",
            "_view_name": "LayoutView",
            "align_content": null,
            "align_items": null,
            "align_self": null,
            "border": null,
            "bottom": null,
            "display": null,
            "flex": null,
            "flex_flow": null,
            "grid_area": null,
            "grid_auto_columns": null,
            "grid_auto_flow": null,
            "grid_auto_rows": null,
            "grid_column": null,
            "grid_gap": null,
            "grid_row": null,
            "grid_template_areas": null,
            "grid_template_columns": null,
            "grid_template_rows": null,
            "height": null,
            "justify_content": null,
            "justify_items": null,
            "left": null,
            "margin": null,
            "max_height": null,
            "max_width": null,
            "min_height": null,
            "min_width": null,
            "object_fit": null,
            "object_position": null,
            "order": null,
            "overflow": null,
            "overflow_x": null,
            "overflow_y": null,
            "padding": null,
            "right": null,
            "top": null,
            "visibility": null,
            "width": "20px"
          }
        },
        "0098ec8255ae45d695f12e0358149731": {
          "model_module": "@jupyter-widgets/controls",
          "model_name": "ProgressStyleModel",
          "model_module_version": "1.5.0",
          "state": {
            "_model_module": "@jupyter-widgets/controls",
            "_model_module_version": "1.5.0",
            "_model_name": "ProgressStyleModel",
            "_view_count": null,
            "_view_module": "@jupyter-widgets/base",
            "_view_module_version": "1.2.0",
            "_view_name": "StyleView",
            "bar_color": null,
            "description_width": ""
          }
        },
        "4cd76e414c9645a994dedc0e2f05b8ef": {
          "model_module": "@jupyter-widgets/base",
          "model_name": "LayoutModel",
          "model_module_version": "1.2.0",
          "state": {
            "_model_module": "@jupyter-widgets/base",
            "_model_module_version": "1.2.0",
            "_model_name": "LayoutModel",
            "_view_count": null,
            "_view_module": "@jupyter-widgets/base",
            "_view_module_version": "1.2.0",
            "_view_name": "LayoutView",
            "align_content": null,
            "align_items": null,
            "align_self": null,
            "border": null,
            "bottom": null,
            "display": null,
            "flex": null,
            "flex_flow": null,
            "grid_area": null,
            "grid_auto_columns": null,
            "grid_auto_flow": null,
            "grid_auto_rows": null,
            "grid_column": null,
            "grid_gap": null,
            "grid_row": null,
            "grid_template_areas": null,
            "grid_template_columns": null,
            "grid_template_rows": null,
            "height": null,
            "justify_content": null,
            "justify_items": null,
            "left": null,
            "margin": null,
            "max_height": null,
            "max_width": null,
            "min_height": null,
            "min_width": null,
            "object_fit": null,
            "object_position": null,
            "order": null,
            "overflow": null,
            "overflow_x": null,
            "overflow_y": null,
            "padding": null,
            "right": null,
            "top": null,
            "visibility": null,
            "width": null
          }
        },
        "d83d8ea2ff0940bb9783b40873f8b775": {
          "model_module": "@jupyter-widgets/controls",
          "model_name": "DescriptionStyleModel",
          "model_module_version": "1.5.0",
          "state": {
            "_model_module": "@jupyter-widgets/controls",
            "_model_module_version": "1.5.0",
            "_model_name": "DescriptionStyleModel",
            "_view_count": null,
            "_view_module": "@jupyter-widgets/base",
            "_view_module_version": "1.2.0",
            "_view_name": "StyleView",
            "description_width": ""
          }
        },
        "970721a1ae194e7283097f520f37026f": {
          "model_module": "@jupyter-widgets/controls",
          "model_name": "HBoxModel",
          "model_module_version": "1.5.0",
          "state": {
            "_dom_classes": [],
            "_model_module": "@jupyter-widgets/controls",
            "_model_module_version": "1.5.0",
            "_model_name": "HBoxModel",
            "_view_count": null,
            "_view_module": "@jupyter-widgets/controls",
            "_view_module_version": "1.5.0",
            "_view_name": "HBoxView",
            "box_style": "",
            "children": [
              "IPY_MODEL_51ed62fc3e19442faa104c958aa9921f",
              "IPY_MODEL_88425215323946ebafc5fab9d540c82b",
              "IPY_MODEL_1f94a6c55d08417f8a9134e73cff0b73"
            ],
            "layout": "IPY_MODEL_66c27d4fda29436c90872643e440770f"
          }
        },
        "51ed62fc3e19442faa104c958aa9921f": {
          "model_module": "@jupyter-widgets/controls",
          "model_name": "HTMLModel",
          "model_module_version": "1.5.0",
          "state": {
            "_dom_classes": [],
            "_model_module": "@jupyter-widgets/controls",
            "_model_module_version": "1.5.0",
            "_model_name": "HTMLModel",
            "_view_count": null,
            "_view_module": "@jupyter-widgets/controls",
            "_view_module_version": "1.5.0",
            "_view_name": "HTMLView",
            "description": "",
            "description_tooltip": null,
            "layout": "IPY_MODEL_46b5052fdb594c4086a48a8db175b87e",
            "placeholder": "​",
            "style": "IPY_MODEL_5f1abd5caf984c5c893c34222b11efd0",
            "value": "Generating splits...: 100%"
          }
        },
        "88425215323946ebafc5fab9d540c82b": {
          "model_module": "@jupyter-widgets/controls",
          "model_name": "FloatProgressModel",
          "model_module_version": "1.5.0",
          "state": {
            "_dom_classes": [],
            "_model_module": "@jupyter-widgets/controls",
            "_model_module_version": "1.5.0",
            "_model_name": "FloatProgressModel",
            "_view_count": null,
            "_view_module": "@jupyter-widgets/controls",
            "_view_module_version": "1.5.0",
            "_view_name": "ProgressView",
            "bar_style": "",
            "description": "",
            "description_tooltip": null,
            "layout": "IPY_MODEL_39656e4a22404e3dabadd1c7482a8ab8",
            "max": 3,
            "min": 0,
            "orientation": "horizontal",
            "style": "IPY_MODEL_e2d9b5137477468bbd28055399790d27",
            "value": 3
          }
        },
        "1f94a6c55d08417f8a9134e73cff0b73": {
          "model_module": "@jupyter-widgets/controls",
          "model_name": "HTMLModel",
          "model_module_version": "1.5.0",
          "state": {
            "_dom_classes": [],
            "_model_module": "@jupyter-widgets/controls",
            "_model_module_version": "1.5.0",
            "_model_name": "HTMLModel",
            "_view_count": null,
            "_view_module": "@jupyter-widgets/controls",
            "_view_module_version": "1.5.0",
            "_view_name": "HTMLView",
            "description": "",
            "description_tooltip": null,
            "layout": "IPY_MODEL_cdd5b3db0e9541b8bc4d82f3163b0417",
            "placeholder": "​",
            "style": "IPY_MODEL_90af79406f8e4e678cbc7c35e95cfd3a",
            "value": " 3/3 [00:45&lt;00:00, 14.73s/ splits]"
          }
        },
        "66c27d4fda29436c90872643e440770f": {
          "model_module": "@jupyter-widgets/base",
          "model_name": "LayoutModel",
          "model_module_version": "1.2.0",
          "state": {
            "_model_module": "@jupyter-widgets/base",
            "_model_module_version": "1.2.0",
            "_model_name": "LayoutModel",
            "_view_count": null,
            "_view_module": "@jupyter-widgets/base",
            "_view_module_version": "1.2.0",
            "_view_name": "LayoutView",
            "align_content": null,
            "align_items": null,
            "align_self": null,
            "border": null,
            "bottom": null,
            "display": null,
            "flex": null,
            "flex_flow": null,
            "grid_area": null,
            "grid_auto_columns": null,
            "grid_auto_flow": null,
            "grid_auto_rows": null,
            "grid_column": null,
            "grid_gap": null,
            "grid_row": null,
            "grid_template_areas": null,
            "grid_template_columns": null,
            "grid_template_rows": null,
            "height": null,
            "justify_content": null,
            "justify_items": null,
            "left": null,
            "margin": null,
            "max_height": null,
            "max_width": null,
            "min_height": null,
            "min_width": null,
            "object_fit": null,
            "object_position": null,
            "order": null,
            "overflow": null,
            "overflow_x": null,
            "overflow_y": null,
            "padding": null,
            "right": null,
            "top": null,
            "visibility": "hidden",
            "width": null
          }
        },
        "46b5052fdb594c4086a48a8db175b87e": {
          "model_module": "@jupyter-widgets/base",
          "model_name": "LayoutModel",
          "model_module_version": "1.2.0",
          "state": {
            "_model_module": "@jupyter-widgets/base",
            "_model_module_version": "1.2.0",
            "_model_name": "LayoutModel",
            "_view_count": null,
            "_view_module": "@jupyter-widgets/base",
            "_view_module_version": "1.2.0",
            "_view_name": "LayoutView",
            "align_content": null,
            "align_items": null,
            "align_self": null,
            "border": null,
            "bottom": null,
            "display": null,
            "flex": null,
            "flex_flow": null,
            "grid_area": null,
            "grid_auto_columns": null,
            "grid_auto_flow": null,
            "grid_auto_rows": null,
            "grid_column": null,
            "grid_gap": null,
            "grid_row": null,
            "grid_template_areas": null,
            "grid_template_columns": null,
            "grid_template_rows": null,
            "height": null,
            "justify_content": null,
            "justify_items": null,
            "left": null,
            "margin": null,
            "max_height": null,
            "max_width": null,
            "min_height": null,
            "min_width": null,
            "object_fit": null,
            "object_position": null,
            "order": null,
            "overflow": null,
            "overflow_x": null,
            "overflow_y": null,
            "padding": null,
            "right": null,
            "top": null,
            "visibility": null,
            "width": null
          }
        },
        "5f1abd5caf984c5c893c34222b11efd0": {
          "model_module": "@jupyter-widgets/controls",
          "model_name": "DescriptionStyleModel",
          "model_module_version": "1.5.0",
          "state": {
            "_model_module": "@jupyter-widgets/controls",
            "_model_module_version": "1.5.0",
            "_model_name": "DescriptionStyleModel",
            "_view_count": null,
            "_view_module": "@jupyter-widgets/base",
            "_view_module_version": "1.2.0",
            "_view_name": "StyleView",
            "description_width": ""
          }
        },
        "39656e4a22404e3dabadd1c7482a8ab8": {
          "model_module": "@jupyter-widgets/base",
          "model_name": "LayoutModel",
          "model_module_version": "1.2.0",
          "state": {
            "_model_module": "@jupyter-widgets/base",
            "_model_module_version": "1.2.0",
            "_model_name": "LayoutModel",
            "_view_count": null,
            "_view_module": "@jupyter-widgets/base",
            "_view_module_version": "1.2.0",
            "_view_name": "LayoutView",
            "align_content": null,
            "align_items": null,
            "align_self": null,
            "border": null,
            "bottom": null,
            "display": null,
            "flex": null,
            "flex_flow": null,
            "grid_area": null,
            "grid_auto_columns": null,
            "grid_auto_flow": null,
            "grid_auto_rows": null,
            "grid_column": null,
            "grid_gap": null,
            "grid_row": null,
            "grid_template_areas": null,
            "grid_template_columns": null,
            "grid_template_rows": null,
            "height": null,
            "justify_content": null,
            "justify_items": null,
            "left": null,
            "margin": null,
            "max_height": null,
            "max_width": null,
            "min_height": null,
            "min_width": null,
            "object_fit": null,
            "object_position": null,
            "order": null,
            "overflow": null,
            "overflow_x": null,
            "overflow_y": null,
            "padding": null,
            "right": null,
            "top": null,
            "visibility": null,
            "width": null
          }
        },
        "e2d9b5137477468bbd28055399790d27": {
          "model_module": "@jupyter-widgets/controls",
          "model_name": "ProgressStyleModel",
          "model_module_version": "1.5.0",
          "state": {
            "_model_module": "@jupyter-widgets/controls",
            "_model_module_version": "1.5.0",
            "_model_name": "ProgressStyleModel",
            "_view_count": null,
            "_view_module": "@jupyter-widgets/base",
            "_view_module_version": "1.2.0",
            "_view_name": "StyleView",
            "bar_color": null,
            "description_width": ""
          }
        },
        "cdd5b3db0e9541b8bc4d82f3163b0417": {
          "model_module": "@jupyter-widgets/base",
          "model_name": "LayoutModel",
          "model_module_version": "1.2.0",
          "state": {
            "_model_module": "@jupyter-widgets/base",
            "_model_module_version": "1.2.0",
            "_model_name": "LayoutModel",
            "_view_count": null,
            "_view_module": "@jupyter-widgets/base",
            "_view_module_version": "1.2.0",
            "_view_name": "LayoutView",
            "align_content": null,
            "align_items": null,
            "align_self": null,
            "border": null,
            "bottom": null,
            "display": null,
            "flex": null,
            "flex_flow": null,
            "grid_area": null,
            "grid_auto_columns": null,
            "grid_auto_flow": null,
            "grid_auto_rows": null,
            "grid_column": null,
            "grid_gap": null,
            "grid_row": null,
            "grid_template_areas": null,
            "grid_template_columns": null,
            "grid_template_rows": null,
            "height": null,
            "justify_content": null,
            "justify_items": null,
            "left": null,
            "margin": null,
            "max_height": null,
            "max_width": null,
            "min_height": null,
            "min_width": null,
            "object_fit": null,
            "object_position": null,
            "order": null,
            "overflow": null,
            "overflow_x": null,
            "overflow_y": null,
            "padding": null,
            "right": null,
            "top": null,
            "visibility": null,
            "width": null
          }
        },
        "90af79406f8e4e678cbc7c35e95cfd3a": {
          "model_module": "@jupyter-widgets/controls",
          "model_name": "DescriptionStyleModel",
          "model_module_version": "1.5.0",
          "state": {
            "_model_module": "@jupyter-widgets/controls",
            "_model_module_version": "1.5.0",
            "_model_name": "DescriptionStyleModel",
            "_view_count": null,
            "_view_module": "@jupyter-widgets/base",
            "_view_module_version": "1.2.0",
            "_view_name": "StyleView",
            "description_width": ""
          }
        },
        "be864b2b568a4fbd83929cd25592756a": {
          "model_module": "@jupyter-widgets/controls",
          "model_name": "HBoxModel",
          "model_module_version": "1.5.0",
          "state": {
            "_dom_classes": [],
            "_model_module": "@jupyter-widgets/controls",
            "_model_module_version": "1.5.0",
            "_model_name": "HBoxModel",
            "_view_count": null,
            "_view_module": "@jupyter-widgets/controls",
            "_view_module_version": "1.5.0",
            "_view_name": "HBoxView",
            "box_style": "",
            "children": [
              "IPY_MODEL_751b3bdafab445d0bb09675ba869ded8",
              "IPY_MODEL_82ec43b9e22940f383274a4d8dc14308",
              "IPY_MODEL_6d7b484bcc114b44a69b3051db82563a"
            ],
            "layout": "IPY_MODEL_359d2decedb24679a8dd3773a8954650"
          }
        },
        "751b3bdafab445d0bb09675ba869ded8": {
          "model_module": "@jupyter-widgets/controls",
          "model_name": "HTMLModel",
          "model_module_version": "1.5.0",
          "state": {
            "_dom_classes": [],
            "_model_module": "@jupyter-widgets/controls",
            "_model_module_version": "1.5.0",
            "_model_name": "HTMLModel",
            "_view_count": null,
            "_view_module": "@jupyter-widgets/controls",
            "_view_module_version": "1.5.0",
            "_view_name": "HTMLView",
            "description": "",
            "description_tooltip": null,
            "layout": "IPY_MODEL_8a3872f0359641bbb5f20c18304168a8",
            "placeholder": "​",
            "style": "IPY_MODEL_91e7c2534cd14d3ba6a5a915fbe12a87",
            "value": "Generating train examples...:  99%"
          }
        },
        "82ec43b9e22940f383274a4d8dc14308": {
          "model_module": "@jupyter-widgets/controls",
          "model_name": "FloatProgressModel",
          "model_module_version": "1.5.0",
          "state": {
            "_dom_classes": [],
            "_model_module": "@jupyter-widgets/controls",
            "_model_module_version": "1.5.0",
            "_model_name": "FloatProgressModel",
            "_view_count": null,
            "_view_module": "@jupyter-widgets/controls",
            "_view_module_version": "1.5.0",
            "_view_name": "ProgressView",
            "bar_style": "",
            "description": "",
            "description_tooltip": null,
            "layout": "IPY_MODEL_a1169c51b7bb4f57a85045abd7eb2b46",
            "max": 25000,
            "min": 0,
            "orientation": "horizontal",
            "style": "IPY_MODEL_dfae3ed073664352a67cfcc3e37980ca",
            "value": 25000
          }
        },
        "6d7b484bcc114b44a69b3051db82563a": {
          "model_module": "@jupyter-widgets/controls",
          "model_name": "HTMLModel",
          "model_module_version": "1.5.0",
          "state": {
            "_dom_classes": [],
            "_model_module": "@jupyter-widgets/controls",
            "_model_module_version": "1.5.0",
            "_model_name": "HTMLModel",
            "_view_count": null,
            "_view_module": "@jupyter-widgets/controls",
            "_view_module_version": "1.5.0",
            "_view_name": "HTMLView",
            "description": "",
            "description_tooltip": null,
            "layout": "IPY_MODEL_6f08ae1363b542c4978145ba7ddcc8b6",
            "placeholder": "​",
            "style": "IPY_MODEL_d6c748b5153b430ea5b2d4233999c6d2",
            "value": " 24782/25000 [00:15&lt;00:00, 2173.08 examples/s]"
          }
        },
        "359d2decedb24679a8dd3773a8954650": {
          "model_module": "@jupyter-widgets/base",
          "model_name": "LayoutModel",
          "model_module_version": "1.2.0",
          "state": {
            "_model_module": "@jupyter-widgets/base",
            "_model_module_version": "1.2.0",
            "_model_name": "LayoutModel",
            "_view_count": null,
            "_view_module": "@jupyter-widgets/base",
            "_view_module_version": "1.2.0",
            "_view_name": "LayoutView",
            "align_content": null,
            "align_items": null,
            "align_self": null,
            "border": null,
            "bottom": null,
            "display": null,
            "flex": null,
            "flex_flow": null,
            "grid_area": null,
            "grid_auto_columns": null,
            "grid_auto_flow": null,
            "grid_auto_rows": null,
            "grid_column": null,
            "grid_gap": null,
            "grid_row": null,
            "grid_template_areas": null,
            "grid_template_columns": null,
            "grid_template_rows": null,
            "height": null,
            "justify_content": null,
            "justify_items": null,
            "left": null,
            "margin": null,
            "max_height": null,
            "max_width": null,
            "min_height": null,
            "min_width": null,
            "object_fit": null,
            "object_position": null,
            "order": null,
            "overflow": null,
            "overflow_x": null,
            "overflow_y": null,
            "padding": null,
            "right": null,
            "top": null,
            "visibility": "hidden",
            "width": null
          }
        },
        "8a3872f0359641bbb5f20c18304168a8": {
          "model_module": "@jupyter-widgets/base",
          "model_name": "LayoutModel",
          "model_module_version": "1.2.0",
          "state": {
            "_model_module": "@jupyter-widgets/base",
            "_model_module_version": "1.2.0",
            "_model_name": "LayoutModel",
            "_view_count": null,
            "_view_module": "@jupyter-widgets/base",
            "_view_module_version": "1.2.0",
            "_view_name": "LayoutView",
            "align_content": null,
            "align_items": null,
            "align_self": null,
            "border": null,
            "bottom": null,
            "display": null,
            "flex": null,
            "flex_flow": null,
            "grid_area": null,
            "grid_auto_columns": null,
            "grid_auto_flow": null,
            "grid_auto_rows": null,
            "grid_column": null,
            "grid_gap": null,
            "grid_row": null,
            "grid_template_areas": null,
            "grid_template_columns": null,
            "grid_template_rows": null,
            "height": null,
            "justify_content": null,
            "justify_items": null,
            "left": null,
            "margin": null,
            "max_height": null,
            "max_width": null,
            "min_height": null,
            "min_width": null,
            "object_fit": null,
            "object_position": null,
            "order": null,
            "overflow": null,
            "overflow_x": null,
            "overflow_y": null,
            "padding": null,
            "right": null,
            "top": null,
            "visibility": null,
            "width": null
          }
        },
        "91e7c2534cd14d3ba6a5a915fbe12a87": {
          "model_module": "@jupyter-widgets/controls",
          "model_name": "DescriptionStyleModel",
          "model_module_version": "1.5.0",
          "state": {
            "_model_module": "@jupyter-widgets/controls",
            "_model_module_version": "1.5.0",
            "_model_name": "DescriptionStyleModel",
            "_view_count": null,
            "_view_module": "@jupyter-widgets/base",
            "_view_module_version": "1.2.0",
            "_view_name": "StyleView",
            "description_width": ""
          }
        },
        "a1169c51b7bb4f57a85045abd7eb2b46": {
          "model_module": "@jupyter-widgets/base",
          "model_name": "LayoutModel",
          "model_module_version": "1.2.0",
          "state": {
            "_model_module": "@jupyter-widgets/base",
            "_model_module_version": "1.2.0",
            "_model_name": "LayoutModel",
            "_view_count": null,
            "_view_module": "@jupyter-widgets/base",
            "_view_module_version": "1.2.0",
            "_view_name": "LayoutView",
            "align_content": null,
            "align_items": null,
            "align_self": null,
            "border": null,
            "bottom": null,
            "display": null,
            "flex": null,
            "flex_flow": null,
            "grid_area": null,
            "grid_auto_columns": null,
            "grid_auto_flow": null,
            "grid_auto_rows": null,
            "grid_column": null,
            "grid_gap": null,
            "grid_row": null,
            "grid_template_areas": null,
            "grid_template_columns": null,
            "grid_template_rows": null,
            "height": null,
            "justify_content": null,
            "justify_items": null,
            "left": null,
            "margin": null,
            "max_height": null,
            "max_width": null,
            "min_height": null,
            "min_width": null,
            "object_fit": null,
            "object_position": null,
            "order": null,
            "overflow": null,
            "overflow_x": null,
            "overflow_y": null,
            "padding": null,
            "right": null,
            "top": null,
            "visibility": null,
            "width": null
          }
        },
        "dfae3ed073664352a67cfcc3e37980ca": {
          "model_module": "@jupyter-widgets/controls",
          "model_name": "ProgressStyleModel",
          "model_module_version": "1.5.0",
          "state": {
            "_model_module": "@jupyter-widgets/controls",
            "_model_module_version": "1.5.0",
            "_model_name": "ProgressStyleModel",
            "_view_count": null,
            "_view_module": "@jupyter-widgets/base",
            "_view_module_version": "1.2.0",
            "_view_name": "StyleView",
            "bar_color": null,
            "description_width": ""
          }
        },
        "6f08ae1363b542c4978145ba7ddcc8b6": {
          "model_module": "@jupyter-widgets/base",
          "model_name": "LayoutModel",
          "model_module_version": "1.2.0",
          "state": {
            "_model_module": "@jupyter-widgets/base",
            "_model_module_version": "1.2.0",
            "_model_name": "LayoutModel",
            "_view_count": null,
            "_view_module": "@jupyter-widgets/base",
            "_view_module_version": "1.2.0",
            "_view_name": "LayoutView",
            "align_content": null,
            "align_items": null,
            "align_self": null,
            "border": null,
            "bottom": null,
            "display": null,
            "flex": null,
            "flex_flow": null,
            "grid_area": null,
            "grid_auto_columns": null,
            "grid_auto_flow": null,
            "grid_auto_rows": null,
            "grid_column": null,
            "grid_gap": null,
            "grid_row": null,
            "grid_template_areas": null,
            "grid_template_columns": null,
            "grid_template_rows": null,
            "height": null,
            "justify_content": null,
            "justify_items": null,
            "left": null,
            "margin": null,
            "max_height": null,
            "max_width": null,
            "min_height": null,
            "min_width": null,
            "object_fit": null,
            "object_position": null,
            "order": null,
            "overflow": null,
            "overflow_x": null,
            "overflow_y": null,
            "padding": null,
            "right": null,
            "top": null,
            "visibility": null,
            "width": null
          }
        },
        "d6c748b5153b430ea5b2d4233999c6d2": {
          "model_module": "@jupyter-widgets/controls",
          "model_name": "DescriptionStyleModel",
          "model_module_version": "1.5.0",
          "state": {
            "_model_module": "@jupyter-widgets/controls",
            "_model_module_version": "1.5.0",
            "_model_name": "DescriptionStyleModel",
            "_view_count": null,
            "_view_module": "@jupyter-widgets/base",
            "_view_module_version": "1.2.0",
            "_view_name": "StyleView",
            "description_width": ""
          }
        },
        "f73c3fb7e78247f881a8dcba56687e7b": {
          "model_module": "@jupyter-widgets/controls",
          "model_name": "HBoxModel",
          "model_module_version": "1.5.0",
          "state": {
            "_dom_classes": [],
            "_model_module": "@jupyter-widgets/controls",
            "_model_module_version": "1.5.0",
            "_model_name": "HBoxModel",
            "_view_count": null,
            "_view_module": "@jupyter-widgets/controls",
            "_view_module_version": "1.5.0",
            "_view_name": "HBoxView",
            "box_style": "",
            "children": [
              "IPY_MODEL_41a8c3e3e2e94e17aee0569064f29ea7",
              "IPY_MODEL_65aaa97f4b4c469f9690f163d7a085f2",
              "IPY_MODEL_424c0c75f3a744fabd6e54ba627f2160"
            ],
            "layout": "IPY_MODEL_15c12248f6ae45b68973585a0fc0958c"
          }
        },
        "41a8c3e3e2e94e17aee0569064f29ea7": {
          "model_module": "@jupyter-widgets/controls",
          "model_name": "HTMLModel",
          "model_module_version": "1.5.0",
          "state": {
            "_dom_classes": [],
            "_model_module": "@jupyter-widgets/controls",
            "_model_module_version": "1.5.0",
            "_model_name": "HTMLModel",
            "_view_count": null,
            "_view_module": "@jupyter-widgets/controls",
            "_view_module_version": "1.5.0",
            "_view_name": "HTMLView",
            "description": "",
            "description_tooltip": null,
            "layout": "IPY_MODEL_cbf62149867d426f9f73157f85f1bfc2",
            "placeholder": "​",
            "style": "IPY_MODEL_c29def271ad94d2585cbd8f654a654c8",
            "value": "Shuffling /root/tensorflow_datasets/imdb_reviews/plain_text/1.0.0.incompleteWQGYAM/imdb_reviews-train.tfrecord*...:  28%"
          }
        },
        "65aaa97f4b4c469f9690f163d7a085f2": {
          "model_module": "@jupyter-widgets/controls",
          "model_name": "FloatProgressModel",
          "model_module_version": "1.5.0",
          "state": {
            "_dom_classes": [],
            "_model_module": "@jupyter-widgets/controls",
            "_model_module_version": "1.5.0",
            "_model_name": "FloatProgressModel",
            "_view_count": null,
            "_view_module": "@jupyter-widgets/controls",
            "_view_module_version": "1.5.0",
            "_view_name": "ProgressView",
            "bar_style": "",
            "description": "",
            "description_tooltip": null,
            "layout": "IPY_MODEL_4a094ef5ef3948d397250cdb72fa9c6e",
            "max": 25000,
            "min": 0,
            "orientation": "horizontal",
            "style": "IPY_MODEL_7d5f8a7f98404213a5e489ad2874e3c7",
            "value": 25000
          }
        },
        "424c0c75f3a744fabd6e54ba627f2160": {
          "model_module": "@jupyter-widgets/controls",
          "model_name": "HTMLModel",
          "model_module_version": "1.5.0",
          "state": {
            "_dom_classes": [],
            "_model_module": "@jupyter-widgets/controls",
            "_model_module_version": "1.5.0",
            "_model_name": "HTMLModel",
            "_view_count": null,
            "_view_module": "@jupyter-widgets/controls",
            "_view_module_version": "1.5.0",
            "_view_name": "HTMLView",
            "description": "",
            "description_tooltip": null,
            "layout": "IPY_MODEL_7eb4abc994164703ac6609f1169fc24a",
            "placeholder": "​",
            "style": "IPY_MODEL_fedc8741004340578bbeddb42b513e34",
            "value": " 7010/25000 [00:00&lt;00:00, 69752.82 examples/s]"
          }
        },
        "15c12248f6ae45b68973585a0fc0958c": {
          "model_module": "@jupyter-widgets/base",
          "model_name": "LayoutModel",
          "model_module_version": "1.2.0",
          "state": {
            "_model_module": "@jupyter-widgets/base",
            "_model_module_version": "1.2.0",
            "_model_name": "LayoutModel",
            "_view_count": null,
            "_view_module": "@jupyter-widgets/base",
            "_view_module_version": "1.2.0",
            "_view_name": "LayoutView",
            "align_content": null,
            "align_items": null,
            "align_self": null,
            "border": null,
            "bottom": null,
            "display": null,
            "flex": null,
            "flex_flow": null,
            "grid_area": null,
            "grid_auto_columns": null,
            "grid_auto_flow": null,
            "grid_auto_rows": null,
            "grid_column": null,
            "grid_gap": null,
            "grid_row": null,
            "grid_template_areas": null,
            "grid_template_columns": null,
            "grid_template_rows": null,
            "height": null,
            "justify_content": null,
            "justify_items": null,
            "left": null,
            "margin": null,
            "max_height": null,
            "max_width": null,
            "min_height": null,
            "min_width": null,
            "object_fit": null,
            "object_position": null,
            "order": null,
            "overflow": null,
            "overflow_x": null,
            "overflow_y": null,
            "padding": null,
            "right": null,
            "top": null,
            "visibility": "hidden",
            "width": null
          }
        },
        "cbf62149867d426f9f73157f85f1bfc2": {
          "model_module": "@jupyter-widgets/base",
          "model_name": "LayoutModel",
          "model_module_version": "1.2.0",
          "state": {
            "_model_module": "@jupyter-widgets/base",
            "_model_module_version": "1.2.0",
            "_model_name": "LayoutModel",
            "_view_count": null,
            "_view_module": "@jupyter-widgets/base",
            "_view_module_version": "1.2.0",
            "_view_name": "LayoutView",
            "align_content": null,
            "align_items": null,
            "align_self": null,
            "border": null,
            "bottom": null,
            "display": null,
            "flex": null,
            "flex_flow": null,
            "grid_area": null,
            "grid_auto_columns": null,
            "grid_auto_flow": null,
            "grid_auto_rows": null,
            "grid_column": null,
            "grid_gap": null,
            "grid_row": null,
            "grid_template_areas": null,
            "grid_template_columns": null,
            "grid_template_rows": null,
            "height": null,
            "justify_content": null,
            "justify_items": null,
            "left": null,
            "margin": null,
            "max_height": null,
            "max_width": null,
            "min_height": null,
            "min_width": null,
            "object_fit": null,
            "object_position": null,
            "order": null,
            "overflow": null,
            "overflow_x": null,
            "overflow_y": null,
            "padding": null,
            "right": null,
            "top": null,
            "visibility": null,
            "width": null
          }
        },
        "c29def271ad94d2585cbd8f654a654c8": {
          "model_module": "@jupyter-widgets/controls",
          "model_name": "DescriptionStyleModel",
          "model_module_version": "1.5.0",
          "state": {
            "_model_module": "@jupyter-widgets/controls",
            "_model_module_version": "1.5.0",
            "_model_name": "DescriptionStyleModel",
            "_view_count": null,
            "_view_module": "@jupyter-widgets/base",
            "_view_module_version": "1.2.0",
            "_view_name": "StyleView",
            "description_width": ""
          }
        },
        "4a094ef5ef3948d397250cdb72fa9c6e": {
          "model_module": "@jupyter-widgets/base",
          "model_name": "LayoutModel",
          "model_module_version": "1.2.0",
          "state": {
            "_model_module": "@jupyter-widgets/base",
            "_model_module_version": "1.2.0",
            "_model_name": "LayoutModel",
            "_view_count": null,
            "_view_module": "@jupyter-widgets/base",
            "_view_module_version": "1.2.0",
            "_view_name": "LayoutView",
            "align_content": null,
            "align_items": null,
            "align_self": null,
            "border": null,
            "bottom": null,
            "display": null,
            "flex": null,
            "flex_flow": null,
            "grid_area": null,
            "grid_auto_columns": null,
            "grid_auto_flow": null,
            "grid_auto_rows": null,
            "grid_column": null,
            "grid_gap": null,
            "grid_row": null,
            "grid_template_areas": null,
            "grid_template_columns": null,
            "grid_template_rows": null,
            "height": null,
            "justify_content": null,
            "justify_items": null,
            "left": null,
            "margin": null,
            "max_height": null,
            "max_width": null,
            "min_height": null,
            "min_width": null,
            "object_fit": null,
            "object_position": null,
            "order": null,
            "overflow": null,
            "overflow_x": null,
            "overflow_y": null,
            "padding": null,
            "right": null,
            "top": null,
            "visibility": null,
            "width": null
          }
        },
        "7d5f8a7f98404213a5e489ad2874e3c7": {
          "model_module": "@jupyter-widgets/controls",
          "model_name": "ProgressStyleModel",
          "model_module_version": "1.5.0",
          "state": {
            "_model_module": "@jupyter-widgets/controls",
            "_model_module_version": "1.5.0",
            "_model_name": "ProgressStyleModel",
            "_view_count": null,
            "_view_module": "@jupyter-widgets/base",
            "_view_module_version": "1.2.0",
            "_view_name": "StyleView",
            "bar_color": null,
            "description_width": ""
          }
        },
        "7eb4abc994164703ac6609f1169fc24a": {
          "model_module": "@jupyter-widgets/base",
          "model_name": "LayoutModel",
          "model_module_version": "1.2.0",
          "state": {
            "_model_module": "@jupyter-widgets/base",
            "_model_module_version": "1.2.0",
            "_model_name": "LayoutModel",
            "_view_count": null,
            "_view_module": "@jupyter-widgets/base",
            "_view_module_version": "1.2.0",
            "_view_name": "LayoutView",
            "align_content": null,
            "align_items": null,
            "align_self": null,
            "border": null,
            "bottom": null,
            "display": null,
            "flex": null,
            "flex_flow": null,
            "grid_area": null,
            "grid_auto_columns": null,
            "grid_auto_flow": null,
            "grid_auto_rows": null,
            "grid_column": null,
            "grid_gap": null,
            "grid_row": null,
            "grid_template_areas": null,
            "grid_template_columns": null,
            "grid_template_rows": null,
            "height": null,
            "justify_content": null,
            "justify_items": null,
            "left": null,
            "margin": null,
            "max_height": null,
            "max_width": null,
            "min_height": null,
            "min_width": null,
            "object_fit": null,
            "object_position": null,
            "order": null,
            "overflow": null,
            "overflow_x": null,
            "overflow_y": null,
            "padding": null,
            "right": null,
            "top": null,
            "visibility": null,
            "width": null
          }
        },
        "fedc8741004340578bbeddb42b513e34": {
          "model_module": "@jupyter-widgets/controls",
          "model_name": "DescriptionStyleModel",
          "model_module_version": "1.5.0",
          "state": {
            "_model_module": "@jupyter-widgets/controls",
            "_model_module_version": "1.5.0",
            "_model_name": "DescriptionStyleModel",
            "_view_count": null,
            "_view_module": "@jupyter-widgets/base",
            "_view_module_version": "1.2.0",
            "_view_name": "StyleView",
            "description_width": ""
          }
        },
        "488b4a1a6e9543f89056317293c46216": {
          "model_module": "@jupyter-widgets/controls",
          "model_name": "HBoxModel",
          "model_module_version": "1.5.0",
          "state": {
            "_dom_classes": [],
            "_model_module": "@jupyter-widgets/controls",
            "_model_module_version": "1.5.0",
            "_model_name": "HBoxModel",
            "_view_count": null,
            "_view_module": "@jupyter-widgets/controls",
            "_view_module_version": "1.5.0",
            "_view_name": "HBoxView",
            "box_style": "",
            "children": [
              "IPY_MODEL_ce8c7ccebc764307827d7fa568ebd9b6",
              "IPY_MODEL_7488cd57dbcc44f9918dc952d1ef82ef",
              "IPY_MODEL_eb0b86c9922e4b09b3cf5f5f0dd70747"
            ],
            "layout": "IPY_MODEL_d122e497b3d7461fb1c42b12fc2ccf28"
          }
        },
        "ce8c7ccebc764307827d7fa568ebd9b6": {
          "model_module": "@jupyter-widgets/controls",
          "model_name": "HTMLModel",
          "model_module_version": "1.5.0",
          "state": {
            "_dom_classes": [],
            "_model_module": "@jupyter-widgets/controls",
            "_model_module_version": "1.5.0",
            "_model_name": "HTMLModel",
            "_view_count": null,
            "_view_module": "@jupyter-widgets/controls",
            "_view_module_version": "1.5.0",
            "_view_name": "HTMLView",
            "description": "",
            "description_tooltip": null,
            "layout": "IPY_MODEL_222de92d3cc4455fb432320753c8baf3",
            "placeholder": "​",
            "style": "IPY_MODEL_4ca6ea58a83d46dfb4140e43a9accdbf",
            "value": "Generating test examples...:  98%"
          }
        },
        "7488cd57dbcc44f9918dc952d1ef82ef": {
          "model_module": "@jupyter-widgets/controls",
          "model_name": "FloatProgressModel",
          "model_module_version": "1.5.0",
          "state": {
            "_dom_classes": [],
            "_model_module": "@jupyter-widgets/controls",
            "_model_module_version": "1.5.0",
            "_model_name": "FloatProgressModel",
            "_view_count": null,
            "_view_module": "@jupyter-widgets/controls",
            "_view_module_version": "1.5.0",
            "_view_name": "ProgressView",
            "bar_style": "",
            "description": "",
            "description_tooltip": null,
            "layout": "IPY_MODEL_3a95bc2f5f124785b63144644445f61b",
            "max": 25000,
            "min": 0,
            "orientation": "horizontal",
            "style": "IPY_MODEL_814a45801691422dba433941ff5c11ef",
            "value": 25000
          }
        },
        "eb0b86c9922e4b09b3cf5f5f0dd70747": {
          "model_module": "@jupyter-widgets/controls",
          "model_name": "HTMLModel",
          "model_module_version": "1.5.0",
          "state": {
            "_dom_classes": [],
            "_model_module": "@jupyter-widgets/controls",
            "_model_module_version": "1.5.0",
            "_model_name": "HTMLModel",
            "_view_count": null,
            "_view_module": "@jupyter-widgets/controls",
            "_view_module_version": "1.5.0",
            "_view_name": "HTMLView",
            "description": "",
            "description_tooltip": null,
            "layout": "IPY_MODEL_41aa69f5fcce4949a9cc47a51718fd2c",
            "placeholder": "​",
            "style": "IPY_MODEL_5e5c019824194a67b12e867a1c9f336c",
            "value": " 24602/25000 [00:06&lt;00:00, 5287.88 examples/s]"
          }
        },
        "d122e497b3d7461fb1c42b12fc2ccf28": {
          "model_module": "@jupyter-widgets/base",
          "model_name": "LayoutModel",
          "model_module_version": "1.2.0",
          "state": {
            "_model_module": "@jupyter-widgets/base",
            "_model_module_version": "1.2.0",
            "_model_name": "LayoutModel",
            "_view_count": null,
            "_view_module": "@jupyter-widgets/base",
            "_view_module_version": "1.2.0",
            "_view_name": "LayoutView",
            "align_content": null,
            "align_items": null,
            "align_self": null,
            "border": null,
            "bottom": null,
            "display": null,
            "flex": null,
            "flex_flow": null,
            "grid_area": null,
            "grid_auto_columns": null,
            "grid_auto_flow": null,
            "grid_auto_rows": null,
            "grid_column": null,
            "grid_gap": null,
            "grid_row": null,
            "grid_template_areas": null,
            "grid_template_columns": null,
            "grid_template_rows": null,
            "height": null,
            "justify_content": null,
            "justify_items": null,
            "left": null,
            "margin": null,
            "max_height": null,
            "max_width": null,
            "min_height": null,
            "min_width": null,
            "object_fit": null,
            "object_position": null,
            "order": null,
            "overflow": null,
            "overflow_x": null,
            "overflow_y": null,
            "padding": null,
            "right": null,
            "top": null,
            "visibility": "hidden",
            "width": null
          }
        },
        "222de92d3cc4455fb432320753c8baf3": {
          "model_module": "@jupyter-widgets/base",
          "model_name": "LayoutModel",
          "model_module_version": "1.2.0",
          "state": {
            "_model_module": "@jupyter-widgets/base",
            "_model_module_version": "1.2.0",
            "_model_name": "LayoutModel",
            "_view_count": null,
            "_view_module": "@jupyter-widgets/base",
            "_view_module_version": "1.2.0",
            "_view_name": "LayoutView",
            "align_content": null,
            "align_items": null,
            "align_self": null,
            "border": null,
            "bottom": null,
            "display": null,
            "flex": null,
            "flex_flow": null,
            "grid_area": null,
            "grid_auto_columns": null,
            "grid_auto_flow": null,
            "grid_auto_rows": null,
            "grid_column": null,
            "grid_gap": null,
            "grid_row": null,
            "grid_template_areas": null,
            "grid_template_columns": null,
            "grid_template_rows": null,
            "height": null,
            "justify_content": null,
            "justify_items": null,
            "left": null,
            "margin": null,
            "max_height": null,
            "max_width": null,
            "min_height": null,
            "min_width": null,
            "object_fit": null,
            "object_position": null,
            "order": null,
            "overflow": null,
            "overflow_x": null,
            "overflow_y": null,
            "padding": null,
            "right": null,
            "top": null,
            "visibility": null,
            "width": null
          }
        },
        "4ca6ea58a83d46dfb4140e43a9accdbf": {
          "model_module": "@jupyter-widgets/controls",
          "model_name": "DescriptionStyleModel",
          "model_module_version": "1.5.0",
          "state": {
            "_model_module": "@jupyter-widgets/controls",
            "_model_module_version": "1.5.0",
            "_model_name": "DescriptionStyleModel",
            "_view_count": null,
            "_view_module": "@jupyter-widgets/base",
            "_view_module_version": "1.2.0",
            "_view_name": "StyleView",
            "description_width": ""
          }
        },
        "3a95bc2f5f124785b63144644445f61b": {
          "model_module": "@jupyter-widgets/base",
          "model_name": "LayoutModel",
          "model_module_version": "1.2.0",
          "state": {
            "_model_module": "@jupyter-widgets/base",
            "_model_module_version": "1.2.0",
            "_model_name": "LayoutModel",
            "_view_count": null,
            "_view_module": "@jupyter-widgets/base",
            "_view_module_version": "1.2.0",
            "_view_name": "LayoutView",
            "align_content": null,
            "align_items": null,
            "align_self": null,
            "border": null,
            "bottom": null,
            "display": null,
            "flex": null,
            "flex_flow": null,
            "grid_area": null,
            "grid_auto_columns": null,
            "grid_auto_flow": null,
            "grid_auto_rows": null,
            "grid_column": null,
            "grid_gap": null,
            "grid_row": null,
            "grid_template_areas": null,
            "grid_template_columns": null,
            "grid_template_rows": null,
            "height": null,
            "justify_content": null,
            "justify_items": null,
            "left": null,
            "margin": null,
            "max_height": null,
            "max_width": null,
            "min_height": null,
            "min_width": null,
            "object_fit": null,
            "object_position": null,
            "order": null,
            "overflow": null,
            "overflow_x": null,
            "overflow_y": null,
            "padding": null,
            "right": null,
            "top": null,
            "visibility": null,
            "width": null
          }
        },
        "814a45801691422dba433941ff5c11ef": {
          "model_module": "@jupyter-widgets/controls",
          "model_name": "ProgressStyleModel",
          "model_module_version": "1.5.0",
          "state": {
            "_model_module": "@jupyter-widgets/controls",
            "_model_module_version": "1.5.0",
            "_model_name": "ProgressStyleModel",
            "_view_count": null,
            "_view_module": "@jupyter-widgets/base",
            "_view_module_version": "1.2.0",
            "_view_name": "StyleView",
            "bar_color": null,
            "description_width": ""
          }
        },
        "41aa69f5fcce4949a9cc47a51718fd2c": {
          "model_module": "@jupyter-widgets/base",
          "model_name": "LayoutModel",
          "model_module_version": "1.2.0",
          "state": {
            "_model_module": "@jupyter-widgets/base",
            "_model_module_version": "1.2.0",
            "_model_name": "LayoutModel",
            "_view_count": null,
            "_view_module": "@jupyter-widgets/base",
            "_view_module_version": "1.2.0",
            "_view_name": "LayoutView",
            "align_content": null,
            "align_items": null,
            "align_self": null,
            "border": null,
            "bottom": null,
            "display": null,
            "flex": null,
            "flex_flow": null,
            "grid_area": null,
            "grid_auto_columns": null,
            "grid_auto_flow": null,
            "grid_auto_rows": null,
            "grid_column": null,
            "grid_gap": null,
            "grid_row": null,
            "grid_template_areas": null,
            "grid_template_columns": null,
            "grid_template_rows": null,
            "height": null,
            "justify_content": null,
            "justify_items": null,
            "left": null,
            "margin": null,
            "max_height": null,
            "max_width": null,
            "min_height": null,
            "min_width": null,
            "object_fit": null,
            "object_position": null,
            "order": null,
            "overflow": null,
            "overflow_x": null,
            "overflow_y": null,
            "padding": null,
            "right": null,
            "top": null,
            "visibility": null,
            "width": null
          }
        },
        "5e5c019824194a67b12e867a1c9f336c": {
          "model_module": "@jupyter-widgets/controls",
          "model_name": "DescriptionStyleModel",
          "model_module_version": "1.5.0",
          "state": {
            "_model_module": "@jupyter-widgets/controls",
            "_model_module_version": "1.5.0",
            "_model_name": "DescriptionStyleModel",
            "_view_count": null,
            "_view_module": "@jupyter-widgets/base",
            "_view_module_version": "1.2.0",
            "_view_name": "StyleView",
            "description_width": ""
          }
        },
        "db63864838a44d3eb08cbb65c4636375": {
          "model_module": "@jupyter-widgets/controls",
          "model_name": "HBoxModel",
          "model_module_version": "1.5.0",
          "state": {
            "_dom_classes": [],
            "_model_module": "@jupyter-widgets/controls",
            "_model_module_version": "1.5.0",
            "_model_name": "HBoxModel",
            "_view_count": null,
            "_view_module": "@jupyter-widgets/controls",
            "_view_module_version": "1.5.0",
            "_view_name": "HBoxView",
            "box_style": "",
            "children": [
              "IPY_MODEL_01a9b144ddda4c46beea1a011364fd11",
              "IPY_MODEL_0496a7ce8be14bfd96a498f1c1654aae",
              "IPY_MODEL_aa733dab2a994ab5989804cab12e10ae"
            ],
            "layout": "IPY_MODEL_c307c50cf3814d398d8a0c89cab90450"
          }
        },
        "01a9b144ddda4c46beea1a011364fd11": {
          "model_module": "@jupyter-widgets/controls",
          "model_name": "HTMLModel",
          "model_module_version": "1.5.0",
          "state": {
            "_dom_classes": [],
            "_model_module": "@jupyter-widgets/controls",
            "_model_module_version": "1.5.0",
            "_model_name": "HTMLModel",
            "_view_count": null,
            "_view_module": "@jupyter-widgets/controls",
            "_view_module_version": "1.5.0",
            "_view_name": "HTMLView",
            "description": "",
            "description_tooltip": null,
            "layout": "IPY_MODEL_9b44ca52f5c249eea59943305d204b4f",
            "placeholder": "​",
            "style": "IPY_MODEL_ede1765e694d43a794fdc8a7415b9a00",
            "value": "Shuffling /root/tensorflow_datasets/imdb_reviews/plain_text/1.0.0.incompleteWQGYAM/imdb_reviews-test.tfrecord*...:  57%"
          }
        },
        "0496a7ce8be14bfd96a498f1c1654aae": {
          "model_module": "@jupyter-widgets/controls",
          "model_name": "FloatProgressModel",
          "model_module_version": "1.5.0",
          "state": {
            "_dom_classes": [],
            "_model_module": "@jupyter-widgets/controls",
            "_model_module_version": "1.5.0",
            "_model_name": "FloatProgressModel",
            "_view_count": null,
            "_view_module": "@jupyter-widgets/controls",
            "_view_module_version": "1.5.0",
            "_view_name": "ProgressView",
            "bar_style": "",
            "description": "",
            "description_tooltip": null,
            "layout": "IPY_MODEL_17914b842f3647c69d84b161ad0a8592",
            "max": 25000,
            "min": 0,
            "orientation": "horizontal",
            "style": "IPY_MODEL_c0f421c34cf44604a51b001e87e30ce0",
            "value": 25000
          }
        },
        "aa733dab2a994ab5989804cab12e10ae": {
          "model_module": "@jupyter-widgets/controls",
          "model_name": "HTMLModel",
          "model_module_version": "1.5.0",
          "state": {
            "_dom_classes": [],
            "_model_module": "@jupyter-widgets/controls",
            "_model_module_version": "1.5.0",
            "_model_name": "HTMLModel",
            "_view_count": null,
            "_view_module": "@jupyter-widgets/controls",
            "_view_module_version": "1.5.0",
            "_view_name": "HTMLView",
            "description": "",
            "description_tooltip": null,
            "layout": "IPY_MODEL_1d77b40548ea4d8aac08558158a9f6fc",
            "placeholder": "​",
            "style": "IPY_MODEL_96ad0cbe7a3e469c82775a647d228a75",
            "value": " 14321/25000 [00:00&lt;00:00, 143188.97 examples/s]"
          }
        },
        "c307c50cf3814d398d8a0c89cab90450": {
          "model_module": "@jupyter-widgets/base",
          "model_name": "LayoutModel",
          "model_module_version": "1.2.0",
          "state": {
            "_model_module": "@jupyter-widgets/base",
            "_model_module_version": "1.2.0",
            "_model_name": "LayoutModel",
            "_view_count": null,
            "_view_module": "@jupyter-widgets/base",
            "_view_module_version": "1.2.0",
            "_view_name": "LayoutView",
            "align_content": null,
            "align_items": null,
            "align_self": null,
            "border": null,
            "bottom": null,
            "display": null,
            "flex": null,
            "flex_flow": null,
            "grid_area": null,
            "grid_auto_columns": null,
            "grid_auto_flow": null,
            "grid_auto_rows": null,
            "grid_column": null,
            "grid_gap": null,
            "grid_row": null,
            "grid_template_areas": null,
            "grid_template_columns": null,
            "grid_template_rows": null,
            "height": null,
            "justify_content": null,
            "justify_items": null,
            "left": null,
            "margin": null,
            "max_height": null,
            "max_width": null,
            "min_height": null,
            "min_width": null,
            "object_fit": null,
            "object_position": null,
            "order": null,
            "overflow": null,
            "overflow_x": null,
            "overflow_y": null,
            "padding": null,
            "right": null,
            "top": null,
            "visibility": "hidden",
            "width": null
          }
        },
        "9b44ca52f5c249eea59943305d204b4f": {
          "model_module": "@jupyter-widgets/base",
          "model_name": "LayoutModel",
          "model_module_version": "1.2.0",
          "state": {
            "_model_module": "@jupyter-widgets/base",
            "_model_module_version": "1.2.0",
            "_model_name": "LayoutModel",
            "_view_count": null,
            "_view_module": "@jupyter-widgets/base",
            "_view_module_version": "1.2.0",
            "_view_name": "LayoutView",
            "align_content": null,
            "align_items": null,
            "align_self": null,
            "border": null,
            "bottom": null,
            "display": null,
            "flex": null,
            "flex_flow": null,
            "grid_area": null,
            "grid_auto_columns": null,
            "grid_auto_flow": null,
            "grid_auto_rows": null,
            "grid_column": null,
            "grid_gap": null,
            "grid_row": null,
            "grid_template_areas": null,
            "grid_template_columns": null,
            "grid_template_rows": null,
            "height": null,
            "justify_content": null,
            "justify_items": null,
            "left": null,
            "margin": null,
            "max_height": null,
            "max_width": null,
            "min_height": null,
            "min_width": null,
            "object_fit": null,
            "object_position": null,
            "order": null,
            "overflow": null,
            "overflow_x": null,
            "overflow_y": null,
            "padding": null,
            "right": null,
            "top": null,
            "visibility": null,
            "width": null
          }
        },
        "ede1765e694d43a794fdc8a7415b9a00": {
          "model_module": "@jupyter-widgets/controls",
          "model_name": "DescriptionStyleModel",
          "model_module_version": "1.5.0",
          "state": {
            "_model_module": "@jupyter-widgets/controls",
            "_model_module_version": "1.5.0",
            "_model_name": "DescriptionStyleModel",
            "_view_count": null,
            "_view_module": "@jupyter-widgets/base",
            "_view_module_version": "1.2.0",
            "_view_name": "StyleView",
            "description_width": ""
          }
        },
        "17914b842f3647c69d84b161ad0a8592": {
          "model_module": "@jupyter-widgets/base",
          "model_name": "LayoutModel",
          "model_module_version": "1.2.0",
          "state": {
            "_model_module": "@jupyter-widgets/base",
            "_model_module_version": "1.2.0",
            "_model_name": "LayoutModel",
            "_view_count": null,
            "_view_module": "@jupyter-widgets/base",
            "_view_module_version": "1.2.0",
            "_view_name": "LayoutView",
            "align_content": null,
            "align_items": null,
            "align_self": null,
            "border": null,
            "bottom": null,
            "display": null,
            "flex": null,
            "flex_flow": null,
            "grid_area": null,
            "grid_auto_columns": null,
            "grid_auto_flow": null,
            "grid_auto_rows": null,
            "grid_column": null,
            "grid_gap": null,
            "grid_row": null,
            "grid_template_areas": null,
            "grid_template_columns": null,
            "grid_template_rows": null,
            "height": null,
            "justify_content": null,
            "justify_items": null,
            "left": null,
            "margin": null,
            "max_height": null,
            "max_width": null,
            "min_height": null,
            "min_width": null,
            "object_fit": null,
            "object_position": null,
            "order": null,
            "overflow": null,
            "overflow_x": null,
            "overflow_y": null,
            "padding": null,
            "right": null,
            "top": null,
            "visibility": null,
            "width": null
          }
        },
        "c0f421c34cf44604a51b001e87e30ce0": {
          "model_module": "@jupyter-widgets/controls",
          "model_name": "ProgressStyleModel",
          "model_module_version": "1.5.0",
          "state": {
            "_model_module": "@jupyter-widgets/controls",
            "_model_module_version": "1.5.0",
            "_model_name": "ProgressStyleModel",
            "_view_count": null,
            "_view_module": "@jupyter-widgets/base",
            "_view_module_version": "1.2.0",
            "_view_name": "StyleView",
            "bar_color": null,
            "description_width": ""
          }
        },
        "1d77b40548ea4d8aac08558158a9f6fc": {
          "model_module": "@jupyter-widgets/base",
          "model_name": "LayoutModel",
          "model_module_version": "1.2.0",
          "state": {
            "_model_module": "@jupyter-widgets/base",
            "_model_module_version": "1.2.0",
            "_model_name": "LayoutModel",
            "_view_count": null,
            "_view_module": "@jupyter-widgets/base",
            "_view_module_version": "1.2.0",
            "_view_name": "LayoutView",
            "align_content": null,
            "align_items": null,
            "align_self": null,
            "border": null,
            "bottom": null,
            "display": null,
            "flex": null,
            "flex_flow": null,
            "grid_area": null,
            "grid_auto_columns": null,
            "grid_auto_flow": null,
            "grid_auto_rows": null,
            "grid_column": null,
            "grid_gap": null,
            "grid_row": null,
            "grid_template_areas": null,
            "grid_template_columns": null,
            "grid_template_rows": null,
            "height": null,
            "justify_content": null,
            "justify_items": null,
            "left": null,
            "margin": null,
            "max_height": null,
            "max_width": null,
            "min_height": null,
            "min_width": null,
            "object_fit": null,
            "object_position": null,
            "order": null,
            "overflow": null,
            "overflow_x": null,
            "overflow_y": null,
            "padding": null,
            "right": null,
            "top": null,
            "visibility": null,
            "width": null
          }
        },
        "96ad0cbe7a3e469c82775a647d228a75": {
          "model_module": "@jupyter-widgets/controls",
          "model_name": "DescriptionStyleModel",
          "model_module_version": "1.5.0",
          "state": {
            "_model_module": "@jupyter-widgets/controls",
            "_model_module_version": "1.5.0",
            "_model_name": "DescriptionStyleModel",
            "_view_count": null,
            "_view_module": "@jupyter-widgets/base",
            "_view_module_version": "1.2.0",
            "_view_name": "StyleView",
            "description_width": ""
          }
        },
        "54860522051148fe97e2b265423ff6b3": {
          "model_module": "@jupyter-widgets/controls",
          "model_name": "HBoxModel",
          "model_module_version": "1.5.0",
          "state": {
            "_dom_classes": [],
            "_model_module": "@jupyter-widgets/controls",
            "_model_module_version": "1.5.0",
            "_model_name": "HBoxModel",
            "_view_count": null,
            "_view_module": "@jupyter-widgets/controls",
            "_view_module_version": "1.5.0",
            "_view_name": "HBoxView",
            "box_style": "",
            "children": [
              "IPY_MODEL_1d8854b5945045a8b975a388c194f6af",
              "IPY_MODEL_1539e37d7b3447dc812e8be8a2f00151",
              "IPY_MODEL_75f320db05874bc7a871d32ff85e4ff8"
            ],
            "layout": "IPY_MODEL_5ac25f78316c4eaabdddb4333932517a"
          }
        },
        "1d8854b5945045a8b975a388c194f6af": {
          "model_module": "@jupyter-widgets/controls",
          "model_name": "HTMLModel",
          "model_module_version": "1.5.0",
          "state": {
            "_dom_classes": [],
            "_model_module": "@jupyter-widgets/controls",
            "_model_module_version": "1.5.0",
            "_model_name": "HTMLModel",
            "_view_count": null,
            "_view_module": "@jupyter-widgets/controls",
            "_view_module_version": "1.5.0",
            "_view_name": "HTMLView",
            "description": "",
            "description_tooltip": null,
            "layout": "IPY_MODEL_f011d51a93f54e86ae538840c4a974a3",
            "placeholder": "​",
            "style": "IPY_MODEL_fe71569b74b14eb98bdaa802dc60936a",
            "value": "Generating unsupervised examples...: 100%"
          }
        },
        "1539e37d7b3447dc812e8be8a2f00151": {
          "model_module": "@jupyter-widgets/controls",
          "model_name": "FloatProgressModel",
          "model_module_version": "1.5.0",
          "state": {
            "_dom_classes": [],
            "_model_module": "@jupyter-widgets/controls",
            "_model_module_version": "1.5.0",
            "_model_name": "FloatProgressModel",
            "_view_count": null,
            "_view_module": "@jupyter-widgets/controls",
            "_view_module_version": "1.5.0",
            "_view_name": "ProgressView",
            "bar_style": "",
            "description": "",
            "description_tooltip": null,
            "layout": "IPY_MODEL_b6a2033e5ade467d93ce0a27b94ef540",
            "max": 50000,
            "min": 0,
            "orientation": "horizontal",
            "style": "IPY_MODEL_ce0b81f77f174c00aeacd3d6402db203",
            "value": 50000
          }
        },
        "75f320db05874bc7a871d32ff85e4ff8": {
          "model_module": "@jupyter-widgets/controls",
          "model_name": "HTMLModel",
          "model_module_version": "1.5.0",
          "state": {
            "_dom_classes": [],
            "_model_module": "@jupyter-widgets/controls",
            "_model_module_version": "1.5.0",
            "_model_name": "HTMLModel",
            "_view_count": null,
            "_view_module": "@jupyter-widgets/controls",
            "_view_module_version": "1.5.0",
            "_view_name": "HTMLView",
            "description": "",
            "description_tooltip": null,
            "layout": "IPY_MODEL_cb0bbe29ef934d76be983707b364d2d9",
            "placeholder": "​",
            "style": "IPY_MODEL_dc1fe77334fa48149ea39c9f13d34386",
            "value": " 49992/50000 [00:14&lt;00:00, 4828.03 examples/s]"
          }
        },
        "5ac25f78316c4eaabdddb4333932517a": {
          "model_module": "@jupyter-widgets/base",
          "model_name": "LayoutModel",
          "model_module_version": "1.2.0",
          "state": {
            "_model_module": "@jupyter-widgets/base",
            "_model_module_version": "1.2.0",
            "_model_name": "LayoutModel",
            "_view_count": null,
            "_view_module": "@jupyter-widgets/base",
            "_view_module_version": "1.2.0",
            "_view_name": "LayoutView",
            "align_content": null,
            "align_items": null,
            "align_self": null,
            "border": null,
            "bottom": null,
            "display": null,
            "flex": null,
            "flex_flow": null,
            "grid_area": null,
            "grid_auto_columns": null,
            "grid_auto_flow": null,
            "grid_auto_rows": null,
            "grid_column": null,
            "grid_gap": null,
            "grid_row": null,
            "grid_template_areas": null,
            "grid_template_columns": null,
            "grid_template_rows": null,
            "height": null,
            "justify_content": null,
            "justify_items": null,
            "left": null,
            "margin": null,
            "max_height": null,
            "max_width": null,
            "min_height": null,
            "min_width": null,
            "object_fit": null,
            "object_position": null,
            "order": null,
            "overflow": null,
            "overflow_x": null,
            "overflow_y": null,
            "padding": null,
            "right": null,
            "top": null,
            "visibility": "hidden",
            "width": null
          }
        },
        "f011d51a93f54e86ae538840c4a974a3": {
          "model_module": "@jupyter-widgets/base",
          "model_name": "LayoutModel",
          "model_module_version": "1.2.0",
          "state": {
            "_model_module": "@jupyter-widgets/base",
            "_model_module_version": "1.2.0",
            "_model_name": "LayoutModel",
            "_view_count": null,
            "_view_module": "@jupyter-widgets/base",
            "_view_module_version": "1.2.0",
            "_view_name": "LayoutView",
            "align_content": null,
            "align_items": null,
            "align_self": null,
            "border": null,
            "bottom": null,
            "display": null,
            "flex": null,
            "flex_flow": null,
            "grid_area": null,
            "grid_auto_columns": null,
            "grid_auto_flow": null,
            "grid_auto_rows": null,
            "grid_column": null,
            "grid_gap": null,
            "grid_row": null,
            "grid_template_areas": null,
            "grid_template_columns": null,
            "grid_template_rows": null,
            "height": null,
            "justify_content": null,
            "justify_items": null,
            "left": null,
            "margin": null,
            "max_height": null,
            "max_width": null,
            "min_height": null,
            "min_width": null,
            "object_fit": null,
            "object_position": null,
            "order": null,
            "overflow": null,
            "overflow_x": null,
            "overflow_y": null,
            "padding": null,
            "right": null,
            "top": null,
            "visibility": null,
            "width": null
          }
        },
        "fe71569b74b14eb98bdaa802dc60936a": {
          "model_module": "@jupyter-widgets/controls",
          "model_name": "DescriptionStyleModel",
          "model_module_version": "1.5.0",
          "state": {
            "_model_module": "@jupyter-widgets/controls",
            "_model_module_version": "1.5.0",
            "_model_name": "DescriptionStyleModel",
            "_view_count": null,
            "_view_module": "@jupyter-widgets/base",
            "_view_module_version": "1.2.0",
            "_view_name": "StyleView",
            "description_width": ""
          }
        },
        "b6a2033e5ade467d93ce0a27b94ef540": {
          "model_module": "@jupyter-widgets/base",
          "model_name": "LayoutModel",
          "model_module_version": "1.2.0",
          "state": {
            "_model_module": "@jupyter-widgets/base",
            "_model_module_version": "1.2.0",
            "_model_name": "LayoutModel",
            "_view_count": null,
            "_view_module": "@jupyter-widgets/base",
            "_view_module_version": "1.2.0",
            "_view_name": "LayoutView",
            "align_content": null,
            "align_items": null,
            "align_self": null,
            "border": null,
            "bottom": null,
            "display": null,
            "flex": null,
            "flex_flow": null,
            "grid_area": null,
            "grid_auto_columns": null,
            "grid_auto_flow": null,
            "grid_auto_rows": null,
            "grid_column": null,
            "grid_gap": null,
            "grid_row": null,
            "grid_template_areas": null,
            "grid_template_columns": null,
            "grid_template_rows": null,
            "height": null,
            "justify_content": null,
            "justify_items": null,
            "left": null,
            "margin": null,
            "max_height": null,
            "max_width": null,
            "min_height": null,
            "min_width": null,
            "object_fit": null,
            "object_position": null,
            "order": null,
            "overflow": null,
            "overflow_x": null,
            "overflow_y": null,
            "padding": null,
            "right": null,
            "top": null,
            "visibility": null,
            "width": null
          }
        },
        "ce0b81f77f174c00aeacd3d6402db203": {
          "model_module": "@jupyter-widgets/controls",
          "model_name": "ProgressStyleModel",
          "model_module_version": "1.5.0",
          "state": {
            "_model_module": "@jupyter-widgets/controls",
            "_model_module_version": "1.5.0",
            "_model_name": "ProgressStyleModel",
            "_view_count": null,
            "_view_module": "@jupyter-widgets/base",
            "_view_module_version": "1.2.0",
            "_view_name": "StyleView",
            "bar_color": null,
            "description_width": ""
          }
        },
        "cb0bbe29ef934d76be983707b364d2d9": {
          "model_module": "@jupyter-widgets/base",
          "model_name": "LayoutModel",
          "model_module_version": "1.2.0",
          "state": {
            "_model_module": "@jupyter-widgets/base",
            "_model_module_version": "1.2.0",
            "_model_name": "LayoutModel",
            "_view_count": null,
            "_view_module": "@jupyter-widgets/base",
            "_view_module_version": "1.2.0",
            "_view_name": "LayoutView",
            "align_content": null,
            "align_items": null,
            "align_self": null,
            "border": null,
            "bottom": null,
            "display": null,
            "flex": null,
            "flex_flow": null,
            "grid_area": null,
            "grid_auto_columns": null,
            "grid_auto_flow": null,
            "grid_auto_rows": null,
            "grid_column": null,
            "grid_gap": null,
            "grid_row": null,
            "grid_template_areas": null,
            "grid_template_columns": null,
            "grid_template_rows": null,
            "height": null,
            "justify_content": null,
            "justify_items": null,
            "left": null,
            "margin": null,
            "max_height": null,
            "max_width": null,
            "min_height": null,
            "min_width": null,
            "object_fit": null,
            "object_position": null,
            "order": null,
            "overflow": null,
            "overflow_x": null,
            "overflow_y": null,
            "padding": null,
            "right": null,
            "top": null,
            "visibility": null,
            "width": null
          }
        },
        "dc1fe77334fa48149ea39c9f13d34386": {
          "model_module": "@jupyter-widgets/controls",
          "model_name": "DescriptionStyleModel",
          "model_module_version": "1.5.0",
          "state": {
            "_model_module": "@jupyter-widgets/controls",
            "_model_module_version": "1.5.0",
            "_model_name": "DescriptionStyleModel",
            "_view_count": null,
            "_view_module": "@jupyter-widgets/base",
            "_view_module_version": "1.2.0",
            "_view_name": "StyleView",
            "description_width": ""
          }
        },
        "d1e160dbadeb4b47b6e6deff671ee156": {
          "model_module": "@jupyter-widgets/controls",
          "model_name": "HBoxModel",
          "model_module_version": "1.5.0",
          "state": {
            "_dom_classes": [],
            "_model_module": "@jupyter-widgets/controls",
            "_model_module_version": "1.5.0",
            "_model_name": "HBoxModel",
            "_view_count": null,
            "_view_module": "@jupyter-widgets/controls",
            "_view_module_version": "1.5.0",
            "_view_name": "HBoxView",
            "box_style": "",
            "children": [
              "IPY_MODEL_adc2e833c53446c2ae130364b99970ae",
              "IPY_MODEL_dabb569e0b324ceb894ff5be007b6546",
              "IPY_MODEL_7093003b440049e0b0547de6579d2e2c"
            ],
            "layout": "IPY_MODEL_28f85c503ae041c7a69110a19df75d40"
          }
        },
        "adc2e833c53446c2ae130364b99970ae": {
          "model_module": "@jupyter-widgets/controls",
          "model_name": "HTMLModel",
          "model_module_version": "1.5.0",
          "state": {
            "_dom_classes": [],
            "_model_module": "@jupyter-widgets/controls",
            "_model_module_version": "1.5.0",
            "_model_name": "HTMLModel",
            "_view_count": null,
            "_view_module": "@jupyter-widgets/controls",
            "_view_module_version": "1.5.0",
            "_view_name": "HTMLView",
            "description": "",
            "description_tooltip": null,
            "layout": "IPY_MODEL_ccea817ddd774074929cace677d30864",
            "placeholder": "​",
            "style": "IPY_MODEL_6651f5a1f5154002917e1b15e1a04fef",
            "value": "Shuffling /root/tensorflow_datasets/imdb_reviews/plain_text/1.0.0.incompleteWQGYAM/imdb_reviews-unsupervised.tfrecord*...:  75%"
          }
        },
        "dabb569e0b324ceb894ff5be007b6546": {
          "model_module": "@jupyter-widgets/controls",
          "model_name": "FloatProgressModel",
          "model_module_version": "1.5.0",
          "state": {
            "_dom_classes": [],
            "_model_module": "@jupyter-widgets/controls",
            "_model_module_version": "1.5.0",
            "_model_name": "FloatProgressModel",
            "_view_count": null,
            "_view_module": "@jupyter-widgets/controls",
            "_view_module_version": "1.5.0",
            "_view_name": "ProgressView",
            "bar_style": "",
            "description": "",
            "description_tooltip": null,
            "layout": "IPY_MODEL_78e4ed77f5e048ec86ef3ac475caea91",
            "max": 50000,
            "min": 0,
            "orientation": "horizontal",
            "style": "IPY_MODEL_1b5afb9016114e9eb5ab3641f537b5f5",
            "value": 50000
          }
        },
        "7093003b440049e0b0547de6579d2e2c": {
          "model_module": "@jupyter-widgets/controls",
          "model_name": "HTMLModel",
          "model_module_version": "1.5.0",
          "state": {
            "_dom_classes": [],
            "_model_module": "@jupyter-widgets/controls",
            "_model_module_version": "1.5.0",
            "_model_name": "HTMLModel",
            "_view_count": null,
            "_view_module": "@jupyter-widgets/controls",
            "_view_module_version": "1.5.0",
            "_view_name": "HTMLView",
            "description": "",
            "description_tooltip": null,
            "layout": "IPY_MODEL_248656e59e06450fadcc44ad026af778",
            "placeholder": "​",
            "style": "IPY_MODEL_e5aed1f13377404f9caf8b4232df77e7",
            "value": " 37618/50000 [00:00&lt;00:00, 207321.14 examples/s]"
          }
        },
        "28f85c503ae041c7a69110a19df75d40": {
          "model_module": "@jupyter-widgets/base",
          "model_name": "LayoutModel",
          "model_module_version": "1.2.0",
          "state": {
            "_model_module": "@jupyter-widgets/base",
            "_model_module_version": "1.2.0",
            "_model_name": "LayoutModel",
            "_view_count": null,
            "_view_module": "@jupyter-widgets/base",
            "_view_module_version": "1.2.0",
            "_view_name": "LayoutView",
            "align_content": null,
            "align_items": null,
            "align_self": null,
            "border": null,
            "bottom": null,
            "display": null,
            "flex": null,
            "flex_flow": null,
            "grid_area": null,
            "grid_auto_columns": null,
            "grid_auto_flow": null,
            "grid_auto_rows": null,
            "grid_column": null,
            "grid_gap": null,
            "grid_row": null,
            "grid_template_areas": null,
            "grid_template_columns": null,
            "grid_template_rows": null,
            "height": null,
            "justify_content": null,
            "justify_items": null,
            "left": null,
            "margin": null,
            "max_height": null,
            "max_width": null,
            "min_height": null,
            "min_width": null,
            "object_fit": null,
            "object_position": null,
            "order": null,
            "overflow": null,
            "overflow_x": null,
            "overflow_y": null,
            "padding": null,
            "right": null,
            "top": null,
            "visibility": "hidden",
            "width": null
          }
        },
        "ccea817ddd774074929cace677d30864": {
          "model_module": "@jupyter-widgets/base",
          "model_name": "LayoutModel",
          "model_module_version": "1.2.0",
          "state": {
            "_model_module": "@jupyter-widgets/base",
            "_model_module_version": "1.2.0",
            "_model_name": "LayoutModel",
            "_view_count": null,
            "_view_module": "@jupyter-widgets/base",
            "_view_module_version": "1.2.0",
            "_view_name": "LayoutView",
            "align_content": null,
            "align_items": null,
            "align_self": null,
            "border": null,
            "bottom": null,
            "display": null,
            "flex": null,
            "flex_flow": null,
            "grid_area": null,
            "grid_auto_columns": null,
            "grid_auto_flow": null,
            "grid_auto_rows": null,
            "grid_column": null,
            "grid_gap": null,
            "grid_row": null,
            "grid_template_areas": null,
            "grid_template_columns": null,
            "grid_template_rows": null,
            "height": null,
            "justify_content": null,
            "justify_items": null,
            "left": null,
            "margin": null,
            "max_height": null,
            "max_width": null,
            "min_height": null,
            "min_width": null,
            "object_fit": null,
            "object_position": null,
            "order": null,
            "overflow": null,
            "overflow_x": null,
            "overflow_y": null,
            "padding": null,
            "right": null,
            "top": null,
            "visibility": null,
            "width": null
          }
        },
        "6651f5a1f5154002917e1b15e1a04fef": {
          "model_module": "@jupyter-widgets/controls",
          "model_name": "DescriptionStyleModel",
          "model_module_version": "1.5.0",
          "state": {
            "_model_module": "@jupyter-widgets/controls",
            "_model_module_version": "1.5.0",
            "_model_name": "DescriptionStyleModel",
            "_view_count": null,
            "_view_module": "@jupyter-widgets/base",
            "_view_module_version": "1.2.0",
            "_view_name": "StyleView",
            "description_width": ""
          }
        },
        "78e4ed77f5e048ec86ef3ac475caea91": {
          "model_module": "@jupyter-widgets/base",
          "model_name": "LayoutModel",
          "model_module_version": "1.2.0",
          "state": {
            "_model_module": "@jupyter-widgets/base",
            "_model_module_version": "1.2.0",
            "_model_name": "LayoutModel",
            "_view_count": null,
            "_view_module": "@jupyter-widgets/base",
            "_view_module_version": "1.2.0",
            "_view_name": "LayoutView",
            "align_content": null,
            "align_items": null,
            "align_self": null,
            "border": null,
            "bottom": null,
            "display": null,
            "flex": null,
            "flex_flow": null,
            "grid_area": null,
            "grid_auto_columns": null,
            "grid_auto_flow": null,
            "grid_auto_rows": null,
            "grid_column": null,
            "grid_gap": null,
            "grid_row": null,
            "grid_template_areas": null,
            "grid_template_columns": null,
            "grid_template_rows": null,
            "height": null,
            "justify_content": null,
            "justify_items": null,
            "left": null,
            "margin": null,
            "max_height": null,
            "max_width": null,
            "min_height": null,
            "min_width": null,
            "object_fit": null,
            "object_position": null,
            "order": null,
            "overflow": null,
            "overflow_x": null,
            "overflow_y": null,
            "padding": null,
            "right": null,
            "top": null,
            "visibility": null,
            "width": null
          }
        },
        "1b5afb9016114e9eb5ab3641f537b5f5": {
          "model_module": "@jupyter-widgets/controls",
          "model_name": "ProgressStyleModel",
          "model_module_version": "1.5.0",
          "state": {
            "_model_module": "@jupyter-widgets/controls",
            "_model_module_version": "1.5.0",
            "_model_name": "ProgressStyleModel",
            "_view_count": null,
            "_view_module": "@jupyter-widgets/base",
            "_view_module_version": "1.2.0",
            "_view_name": "StyleView",
            "bar_color": null,
            "description_width": ""
          }
        },
        "248656e59e06450fadcc44ad026af778": {
          "model_module": "@jupyter-widgets/base",
          "model_name": "LayoutModel",
          "model_module_version": "1.2.0",
          "state": {
            "_model_module": "@jupyter-widgets/base",
            "_model_module_version": "1.2.0",
            "_model_name": "LayoutModel",
            "_view_count": null,
            "_view_module": "@jupyter-widgets/base",
            "_view_module_version": "1.2.0",
            "_view_name": "LayoutView",
            "align_content": null,
            "align_items": null,
            "align_self": null,
            "border": null,
            "bottom": null,
            "display": null,
            "flex": null,
            "flex_flow": null,
            "grid_area": null,
            "grid_auto_columns": null,
            "grid_auto_flow": null,
            "grid_auto_rows": null,
            "grid_column": null,
            "grid_gap": null,
            "grid_row": null,
            "grid_template_areas": null,
            "grid_template_columns": null,
            "grid_template_rows": null,
            "height": null,
            "justify_content": null,
            "justify_items": null,
            "left": null,
            "margin": null,
            "max_height": null,
            "max_width": null,
            "min_height": null,
            "min_width": null,
            "object_fit": null,
            "object_position": null,
            "order": null,
            "overflow": null,
            "overflow_x": null,
            "overflow_y": null,
            "padding": null,
            "right": null,
            "top": null,
            "visibility": null,
            "width": null
          }
        },
        "e5aed1f13377404f9caf8b4232df77e7": {
          "model_module": "@jupyter-widgets/controls",
          "model_name": "DescriptionStyleModel",
          "model_module_version": "1.5.0",
          "state": {
            "_model_module": "@jupyter-widgets/controls",
            "_model_module_version": "1.5.0",
            "_model_name": "DescriptionStyleModel",
            "_view_count": null,
            "_view_module": "@jupyter-widgets/base",
            "_view_module_version": "1.2.0",
            "_view_name": "StyleView",
            "description_width": ""
          }
        },
        "b2643ae52ae7485daddff9c6d74635df": {
          "model_module": "@jupyter-widgets/controls",
          "model_name": "HBoxModel",
          "model_module_version": "1.5.0",
          "state": {
            "_dom_classes": [],
            "_model_module": "@jupyter-widgets/controls",
            "_model_module_version": "1.5.0",
            "_model_name": "HBoxModel",
            "_view_count": null,
            "_view_module": "@jupyter-widgets/controls",
            "_view_module_version": "1.5.0",
            "_view_name": "HBoxView",
            "box_style": "",
            "children": [
              "IPY_MODEL_51ef46607eb24b8084a8051f8b98a411",
              "IPY_MODEL_1dfaa21ee1dc4bf299f104024e35c1f0",
              "IPY_MODEL_b54343ebfa3a41d1966ac9c949e14f9b"
            ],
            "layout": "IPY_MODEL_0979588caba947798996931ce2e04d99"
          }
        },
        "51ef46607eb24b8084a8051f8b98a411": {
          "model_module": "@jupyter-widgets/controls",
          "model_name": "HTMLModel",
          "model_module_version": "1.5.0",
          "state": {
            "_dom_classes": [],
            "_model_module": "@jupyter-widgets/controls",
            "_model_module_version": "1.5.0",
            "_model_name": "HTMLModel",
            "_view_count": null,
            "_view_module": "@jupyter-widgets/controls",
            "_view_module_version": "1.5.0",
            "_view_name": "HTMLView",
            "description": "",
            "description_tooltip": null,
            "layout": "IPY_MODEL_03e8cf55a0ac4272b7df5bf0053ef3f0",
            "placeholder": "​",
            "style": "IPY_MODEL_6dd3a44c1c584bd8b4ae8054874d3ba4",
            "value": "Downloading (…)solve/main/vocab.txt: 100%"
          }
        },
        "1dfaa21ee1dc4bf299f104024e35c1f0": {
          "model_module": "@jupyter-widgets/controls",
          "model_name": "FloatProgressModel",
          "model_module_version": "1.5.0",
          "state": {
            "_dom_classes": [],
            "_model_module": "@jupyter-widgets/controls",
            "_model_module_version": "1.5.0",
            "_model_name": "FloatProgressModel",
            "_view_count": null,
            "_view_module": "@jupyter-widgets/controls",
            "_view_module_version": "1.5.0",
            "_view_name": "ProgressView",
            "bar_style": "success",
            "description": "",
            "description_tooltip": null,
            "layout": "IPY_MODEL_afc292eca04d4a5fac375701e89a1443",
            "max": 213450,
            "min": 0,
            "orientation": "horizontal",
            "style": "IPY_MODEL_5cd404a553bf467688aedc9b27272f07",
            "value": 213450
          }
        },
        "b54343ebfa3a41d1966ac9c949e14f9b": {
          "model_module": "@jupyter-widgets/controls",
          "model_name": "HTMLModel",
          "model_module_version": "1.5.0",
          "state": {
            "_dom_classes": [],
            "_model_module": "@jupyter-widgets/controls",
            "_model_module_version": "1.5.0",
            "_model_name": "HTMLModel",
            "_view_count": null,
            "_view_module": "@jupyter-widgets/controls",
            "_view_module_version": "1.5.0",
            "_view_name": "HTMLView",
            "description": "",
            "description_tooltip": null,
            "layout": "IPY_MODEL_f9254b62b4144b1daed1ac3dc5751adf",
            "placeholder": "​",
            "style": "IPY_MODEL_ca763d96bd0f431d97ebec3ca6008d57",
            "value": " 213k/213k [00:00&lt;00:00, 4.31MB/s]"
          }
        },
        "0979588caba947798996931ce2e04d99": {
          "model_module": "@jupyter-widgets/base",
          "model_name": "LayoutModel",
          "model_module_version": "1.2.0",
          "state": {
            "_model_module": "@jupyter-widgets/base",
            "_model_module_version": "1.2.0",
            "_model_name": "LayoutModel",
            "_view_count": null,
            "_view_module": "@jupyter-widgets/base",
            "_view_module_version": "1.2.0",
            "_view_name": "LayoutView",
            "align_content": null,
            "align_items": null,
            "align_self": null,
            "border": null,
            "bottom": null,
            "display": null,
            "flex": null,
            "flex_flow": null,
            "grid_area": null,
            "grid_auto_columns": null,
            "grid_auto_flow": null,
            "grid_auto_rows": null,
            "grid_column": null,
            "grid_gap": null,
            "grid_row": null,
            "grid_template_areas": null,
            "grid_template_columns": null,
            "grid_template_rows": null,
            "height": null,
            "justify_content": null,
            "justify_items": null,
            "left": null,
            "margin": null,
            "max_height": null,
            "max_width": null,
            "min_height": null,
            "min_width": null,
            "object_fit": null,
            "object_position": null,
            "order": null,
            "overflow": null,
            "overflow_x": null,
            "overflow_y": null,
            "padding": null,
            "right": null,
            "top": null,
            "visibility": null,
            "width": null
          }
        },
        "03e8cf55a0ac4272b7df5bf0053ef3f0": {
          "model_module": "@jupyter-widgets/base",
          "model_name": "LayoutModel",
          "model_module_version": "1.2.0",
          "state": {
            "_model_module": "@jupyter-widgets/base",
            "_model_module_version": "1.2.0",
            "_model_name": "LayoutModel",
            "_view_count": null,
            "_view_module": "@jupyter-widgets/base",
            "_view_module_version": "1.2.0",
            "_view_name": "LayoutView",
            "align_content": null,
            "align_items": null,
            "align_self": null,
            "border": null,
            "bottom": null,
            "display": null,
            "flex": null,
            "flex_flow": null,
            "grid_area": null,
            "grid_auto_columns": null,
            "grid_auto_flow": null,
            "grid_auto_rows": null,
            "grid_column": null,
            "grid_gap": null,
            "grid_row": null,
            "grid_template_areas": null,
            "grid_template_columns": null,
            "grid_template_rows": null,
            "height": null,
            "justify_content": null,
            "justify_items": null,
            "left": null,
            "margin": null,
            "max_height": null,
            "max_width": null,
            "min_height": null,
            "min_width": null,
            "object_fit": null,
            "object_position": null,
            "order": null,
            "overflow": null,
            "overflow_x": null,
            "overflow_y": null,
            "padding": null,
            "right": null,
            "top": null,
            "visibility": null,
            "width": null
          }
        },
        "6dd3a44c1c584bd8b4ae8054874d3ba4": {
          "model_module": "@jupyter-widgets/controls",
          "model_name": "DescriptionStyleModel",
          "model_module_version": "1.5.0",
          "state": {
            "_model_module": "@jupyter-widgets/controls",
            "_model_module_version": "1.5.0",
            "_model_name": "DescriptionStyleModel",
            "_view_count": null,
            "_view_module": "@jupyter-widgets/base",
            "_view_module_version": "1.2.0",
            "_view_name": "StyleView",
            "description_width": ""
          }
        },
        "afc292eca04d4a5fac375701e89a1443": {
          "model_module": "@jupyter-widgets/base",
          "model_name": "LayoutModel",
          "model_module_version": "1.2.0",
          "state": {
            "_model_module": "@jupyter-widgets/base",
            "_model_module_version": "1.2.0",
            "_model_name": "LayoutModel",
            "_view_count": null,
            "_view_module": "@jupyter-widgets/base",
            "_view_module_version": "1.2.0",
            "_view_name": "LayoutView",
            "align_content": null,
            "align_items": null,
            "align_self": null,
            "border": null,
            "bottom": null,
            "display": null,
            "flex": null,
            "flex_flow": null,
            "grid_area": null,
            "grid_auto_columns": null,
            "grid_auto_flow": null,
            "grid_auto_rows": null,
            "grid_column": null,
            "grid_gap": null,
            "grid_row": null,
            "grid_template_areas": null,
            "grid_template_columns": null,
            "grid_template_rows": null,
            "height": null,
            "justify_content": null,
            "justify_items": null,
            "left": null,
            "margin": null,
            "max_height": null,
            "max_width": null,
            "min_height": null,
            "min_width": null,
            "object_fit": null,
            "object_position": null,
            "order": null,
            "overflow": null,
            "overflow_x": null,
            "overflow_y": null,
            "padding": null,
            "right": null,
            "top": null,
            "visibility": null,
            "width": null
          }
        },
        "5cd404a553bf467688aedc9b27272f07": {
          "model_module": "@jupyter-widgets/controls",
          "model_name": "ProgressStyleModel",
          "model_module_version": "1.5.0",
          "state": {
            "_model_module": "@jupyter-widgets/controls",
            "_model_module_version": "1.5.0",
            "_model_name": "ProgressStyleModel",
            "_view_count": null,
            "_view_module": "@jupyter-widgets/base",
            "_view_module_version": "1.2.0",
            "_view_name": "StyleView",
            "bar_color": null,
            "description_width": ""
          }
        },
        "f9254b62b4144b1daed1ac3dc5751adf": {
          "model_module": "@jupyter-widgets/base",
          "model_name": "LayoutModel",
          "model_module_version": "1.2.0",
          "state": {
            "_model_module": "@jupyter-widgets/base",
            "_model_module_version": "1.2.0",
            "_model_name": "LayoutModel",
            "_view_count": null,
            "_view_module": "@jupyter-widgets/base",
            "_view_module_version": "1.2.0",
            "_view_name": "LayoutView",
            "align_content": null,
            "align_items": null,
            "align_self": null,
            "border": null,
            "bottom": null,
            "display": null,
            "flex": null,
            "flex_flow": null,
            "grid_area": null,
            "grid_auto_columns": null,
            "grid_auto_flow": null,
            "grid_auto_rows": null,
            "grid_column": null,
            "grid_gap": null,
            "grid_row": null,
            "grid_template_areas": null,
            "grid_template_columns": null,
            "grid_template_rows": null,
            "height": null,
            "justify_content": null,
            "justify_items": null,
            "left": null,
            "margin": null,
            "max_height": null,
            "max_width": null,
            "min_height": null,
            "min_width": null,
            "object_fit": null,
            "object_position": null,
            "order": null,
            "overflow": null,
            "overflow_x": null,
            "overflow_y": null,
            "padding": null,
            "right": null,
            "top": null,
            "visibility": null,
            "width": null
          }
        },
        "ca763d96bd0f431d97ebec3ca6008d57": {
          "model_module": "@jupyter-widgets/controls",
          "model_name": "DescriptionStyleModel",
          "model_module_version": "1.5.0",
          "state": {
            "_model_module": "@jupyter-widgets/controls",
            "_model_module_version": "1.5.0",
            "_model_name": "DescriptionStyleModel",
            "_view_count": null,
            "_view_module": "@jupyter-widgets/base",
            "_view_module_version": "1.2.0",
            "_view_name": "StyleView",
            "description_width": ""
          }
        },
        "8182be0c57f84ea38aca652c31cdbb2a": {
          "model_module": "@jupyter-widgets/controls",
          "model_name": "HBoxModel",
          "model_module_version": "1.5.0",
          "state": {
            "_dom_classes": [],
            "_model_module": "@jupyter-widgets/controls",
            "_model_module_version": "1.5.0",
            "_model_name": "HBoxModel",
            "_view_count": null,
            "_view_module": "@jupyter-widgets/controls",
            "_view_module_version": "1.5.0",
            "_view_name": "HBoxView",
            "box_style": "",
            "children": [
              "IPY_MODEL_c4d5cf76bd7a417991b3e8a0ace621c3",
              "IPY_MODEL_6040ee29e84243ceb9d14a9b0a741932",
              "IPY_MODEL_e02a9f4ef67f4cfaa85e16b0df080d60"
            ],
            "layout": "IPY_MODEL_838cc745b3e74db19c93c80ebec1a003"
          }
        },
        "c4d5cf76bd7a417991b3e8a0ace621c3": {
          "model_module": "@jupyter-widgets/controls",
          "model_name": "HTMLModel",
          "model_module_version": "1.5.0",
          "state": {
            "_dom_classes": [],
            "_model_module": "@jupyter-widgets/controls",
            "_model_module_version": "1.5.0",
            "_model_name": "HTMLModel",
            "_view_count": null,
            "_view_module": "@jupyter-widgets/controls",
            "_view_module_version": "1.5.0",
            "_view_name": "HTMLView",
            "description": "",
            "description_tooltip": null,
            "layout": "IPY_MODEL_699da5c98f3948c79fdc6b561694ca68",
            "placeholder": "​",
            "style": "IPY_MODEL_731347d4365b4842878dfc59b3dfcefe",
            "value": "Downloading (…)okenizer_config.json: 100%"
          }
        },
        "6040ee29e84243ceb9d14a9b0a741932": {
          "model_module": "@jupyter-widgets/controls",
          "model_name": "FloatProgressModel",
          "model_module_version": "1.5.0",
          "state": {
            "_dom_classes": [],
            "_model_module": "@jupyter-widgets/controls",
            "_model_module_version": "1.5.0",
            "_model_name": "FloatProgressModel",
            "_view_count": null,
            "_view_module": "@jupyter-widgets/controls",
            "_view_module_version": "1.5.0",
            "_view_name": "ProgressView",
            "bar_style": "success",
            "description": "",
            "description_tooltip": null,
            "layout": "IPY_MODEL_03724cea54924062b2c1384be78610f4",
            "max": 29,
            "min": 0,
            "orientation": "horizontal",
            "style": "IPY_MODEL_eead322676ff40a7be1b21d7151dd88f",
            "value": 29
          }
        },
        "e02a9f4ef67f4cfaa85e16b0df080d60": {
          "model_module": "@jupyter-widgets/controls",
          "model_name": "HTMLModel",
          "model_module_version": "1.5.0",
          "state": {
            "_dom_classes": [],
            "_model_module": "@jupyter-widgets/controls",
            "_model_module_version": "1.5.0",
            "_model_name": "HTMLModel",
            "_view_count": null,
            "_view_module": "@jupyter-widgets/controls",
            "_view_module_version": "1.5.0",
            "_view_name": "HTMLView",
            "description": "",
            "description_tooltip": null,
            "layout": "IPY_MODEL_f3f4e2b7ff82489c9ee3a713d4bdaaec",
            "placeholder": "​",
            "style": "IPY_MODEL_9f5642a81bb44d4d97d2860d8e917a91",
            "value": " 29.0/29.0 [00:00&lt;00:00, 1.65kB/s]"
          }
        },
        "838cc745b3e74db19c93c80ebec1a003": {
          "model_module": "@jupyter-widgets/base",
          "model_name": "LayoutModel",
          "model_module_version": "1.2.0",
          "state": {
            "_model_module": "@jupyter-widgets/base",
            "_model_module_version": "1.2.0",
            "_model_name": "LayoutModel",
            "_view_count": null,
            "_view_module": "@jupyter-widgets/base",
            "_view_module_version": "1.2.0",
            "_view_name": "LayoutView",
            "align_content": null,
            "align_items": null,
            "align_self": null,
            "border": null,
            "bottom": null,
            "display": null,
            "flex": null,
            "flex_flow": null,
            "grid_area": null,
            "grid_auto_columns": null,
            "grid_auto_flow": null,
            "grid_auto_rows": null,
            "grid_column": null,
            "grid_gap": null,
            "grid_row": null,
            "grid_template_areas": null,
            "grid_template_columns": null,
            "grid_template_rows": null,
            "height": null,
            "justify_content": null,
            "justify_items": null,
            "left": null,
            "margin": null,
            "max_height": null,
            "max_width": null,
            "min_height": null,
            "min_width": null,
            "object_fit": null,
            "object_position": null,
            "order": null,
            "overflow": null,
            "overflow_x": null,
            "overflow_y": null,
            "padding": null,
            "right": null,
            "top": null,
            "visibility": null,
            "width": null
          }
        },
        "699da5c98f3948c79fdc6b561694ca68": {
          "model_module": "@jupyter-widgets/base",
          "model_name": "LayoutModel",
          "model_module_version": "1.2.0",
          "state": {
            "_model_module": "@jupyter-widgets/base",
            "_model_module_version": "1.2.0",
            "_model_name": "LayoutModel",
            "_view_count": null,
            "_view_module": "@jupyter-widgets/base",
            "_view_module_version": "1.2.0",
            "_view_name": "LayoutView",
            "align_content": null,
            "align_items": null,
            "align_self": null,
            "border": null,
            "bottom": null,
            "display": null,
            "flex": null,
            "flex_flow": null,
            "grid_area": null,
            "grid_auto_columns": null,
            "grid_auto_flow": null,
            "grid_auto_rows": null,
            "grid_column": null,
            "grid_gap": null,
            "grid_row": null,
            "grid_template_areas": null,
            "grid_template_columns": null,
            "grid_template_rows": null,
            "height": null,
            "justify_content": null,
            "justify_items": null,
            "left": null,
            "margin": null,
            "max_height": null,
            "max_width": null,
            "min_height": null,
            "min_width": null,
            "object_fit": null,
            "object_position": null,
            "order": null,
            "overflow": null,
            "overflow_x": null,
            "overflow_y": null,
            "padding": null,
            "right": null,
            "top": null,
            "visibility": null,
            "width": null
          }
        },
        "731347d4365b4842878dfc59b3dfcefe": {
          "model_module": "@jupyter-widgets/controls",
          "model_name": "DescriptionStyleModel",
          "model_module_version": "1.5.0",
          "state": {
            "_model_module": "@jupyter-widgets/controls",
            "_model_module_version": "1.5.0",
            "_model_name": "DescriptionStyleModel",
            "_view_count": null,
            "_view_module": "@jupyter-widgets/base",
            "_view_module_version": "1.2.0",
            "_view_name": "StyleView",
            "description_width": ""
          }
        },
        "03724cea54924062b2c1384be78610f4": {
          "model_module": "@jupyter-widgets/base",
          "model_name": "LayoutModel",
          "model_module_version": "1.2.0",
          "state": {
            "_model_module": "@jupyter-widgets/base",
            "_model_module_version": "1.2.0",
            "_model_name": "LayoutModel",
            "_view_count": null,
            "_view_module": "@jupyter-widgets/base",
            "_view_module_version": "1.2.0",
            "_view_name": "LayoutView",
            "align_content": null,
            "align_items": null,
            "align_self": null,
            "border": null,
            "bottom": null,
            "display": null,
            "flex": null,
            "flex_flow": null,
            "grid_area": null,
            "grid_auto_columns": null,
            "grid_auto_flow": null,
            "grid_auto_rows": null,
            "grid_column": null,
            "grid_gap": null,
            "grid_row": null,
            "grid_template_areas": null,
            "grid_template_columns": null,
            "grid_template_rows": null,
            "height": null,
            "justify_content": null,
            "justify_items": null,
            "left": null,
            "margin": null,
            "max_height": null,
            "max_width": null,
            "min_height": null,
            "min_width": null,
            "object_fit": null,
            "object_position": null,
            "order": null,
            "overflow": null,
            "overflow_x": null,
            "overflow_y": null,
            "padding": null,
            "right": null,
            "top": null,
            "visibility": null,
            "width": null
          }
        },
        "eead322676ff40a7be1b21d7151dd88f": {
          "model_module": "@jupyter-widgets/controls",
          "model_name": "ProgressStyleModel",
          "model_module_version": "1.5.0",
          "state": {
            "_model_module": "@jupyter-widgets/controls",
            "_model_module_version": "1.5.0",
            "_model_name": "ProgressStyleModel",
            "_view_count": null,
            "_view_module": "@jupyter-widgets/base",
            "_view_module_version": "1.2.0",
            "_view_name": "StyleView",
            "bar_color": null,
            "description_width": ""
          }
        },
        "f3f4e2b7ff82489c9ee3a713d4bdaaec": {
          "model_module": "@jupyter-widgets/base",
          "model_name": "LayoutModel",
          "model_module_version": "1.2.0",
          "state": {
            "_model_module": "@jupyter-widgets/base",
            "_model_module_version": "1.2.0",
            "_model_name": "LayoutModel",
            "_view_count": null,
            "_view_module": "@jupyter-widgets/base",
            "_view_module_version": "1.2.0",
            "_view_name": "LayoutView",
            "align_content": null,
            "align_items": null,
            "align_self": null,
            "border": null,
            "bottom": null,
            "display": null,
            "flex": null,
            "flex_flow": null,
            "grid_area": null,
            "grid_auto_columns": null,
            "grid_auto_flow": null,
            "grid_auto_rows": null,
            "grid_column": null,
            "grid_gap": null,
            "grid_row": null,
            "grid_template_areas": null,
            "grid_template_columns": null,
            "grid_template_rows": null,
            "height": null,
            "justify_content": null,
            "justify_items": null,
            "left": null,
            "margin": null,
            "max_height": null,
            "max_width": null,
            "min_height": null,
            "min_width": null,
            "object_fit": null,
            "object_position": null,
            "order": null,
            "overflow": null,
            "overflow_x": null,
            "overflow_y": null,
            "padding": null,
            "right": null,
            "top": null,
            "visibility": null,
            "width": null
          }
        },
        "9f5642a81bb44d4d97d2860d8e917a91": {
          "model_module": "@jupyter-widgets/controls",
          "model_name": "DescriptionStyleModel",
          "model_module_version": "1.5.0",
          "state": {
            "_model_module": "@jupyter-widgets/controls",
            "_model_module_version": "1.5.0",
            "_model_name": "DescriptionStyleModel",
            "_view_count": null,
            "_view_module": "@jupyter-widgets/base",
            "_view_module_version": "1.2.0",
            "_view_name": "StyleView",
            "description_width": ""
          }
        },
        "280c6edac4c141c8ba287f401b11dd94": {
          "model_module": "@jupyter-widgets/controls",
          "model_name": "HBoxModel",
          "model_module_version": "1.5.0",
          "state": {
            "_dom_classes": [],
            "_model_module": "@jupyter-widgets/controls",
            "_model_module_version": "1.5.0",
            "_model_name": "HBoxModel",
            "_view_count": null,
            "_view_module": "@jupyter-widgets/controls",
            "_view_module_version": "1.5.0",
            "_view_name": "HBoxView",
            "box_style": "",
            "children": [
              "IPY_MODEL_313a4d789e134a2388c5ea06721aeec4",
              "IPY_MODEL_4f2a807035f7428ca51a32041701142d",
              "IPY_MODEL_bb0e5ab51a4b47a8ae86c08e944408fd"
            ],
            "layout": "IPY_MODEL_b52b08ad6ba14fc3b23f4f47ef7d5173"
          }
        },
        "313a4d789e134a2388c5ea06721aeec4": {
          "model_module": "@jupyter-widgets/controls",
          "model_name": "HTMLModel",
          "model_module_version": "1.5.0",
          "state": {
            "_dom_classes": [],
            "_model_module": "@jupyter-widgets/controls",
            "_model_module_version": "1.5.0",
            "_model_name": "HTMLModel",
            "_view_count": null,
            "_view_module": "@jupyter-widgets/controls",
            "_view_module_version": "1.5.0",
            "_view_name": "HTMLView",
            "description": "",
            "description_tooltip": null,
            "layout": "IPY_MODEL_a0987694d5ba4e89894554d4286194ef",
            "placeholder": "​",
            "style": "IPY_MODEL_6fdb637f39694d8a828da13fab7ad7a6",
            "value": "Downloading (…)lve/main/config.json: 100%"
          }
        },
        "4f2a807035f7428ca51a32041701142d": {
          "model_module": "@jupyter-widgets/controls",
          "model_name": "FloatProgressModel",
          "model_module_version": "1.5.0",
          "state": {
            "_dom_classes": [],
            "_model_module": "@jupyter-widgets/controls",
            "_model_module_version": "1.5.0",
            "_model_name": "FloatProgressModel",
            "_view_count": null,
            "_view_module": "@jupyter-widgets/controls",
            "_view_module_version": "1.5.0",
            "_view_name": "ProgressView",
            "bar_style": "success",
            "description": "",
            "description_tooltip": null,
            "layout": "IPY_MODEL_201fe0f63c584ff8bd83bc2ed970dfef",
            "max": 570,
            "min": 0,
            "orientation": "horizontal",
            "style": "IPY_MODEL_33c396327a0b412a9bf5faa0a8059d46",
            "value": 570
          }
        },
        "bb0e5ab51a4b47a8ae86c08e944408fd": {
          "model_module": "@jupyter-widgets/controls",
          "model_name": "HTMLModel",
          "model_module_version": "1.5.0",
          "state": {
            "_dom_classes": [],
            "_model_module": "@jupyter-widgets/controls",
            "_model_module_version": "1.5.0",
            "_model_name": "HTMLModel",
            "_view_count": null,
            "_view_module": "@jupyter-widgets/controls",
            "_view_module_version": "1.5.0",
            "_view_name": "HTMLView",
            "description": "",
            "description_tooltip": null,
            "layout": "IPY_MODEL_8c4858e268de4efe96cfd162571d03de",
            "placeholder": "​",
            "style": "IPY_MODEL_454e007291e44b29a8c401c0f4cdc15a",
            "value": " 570/570 [00:00&lt;00:00, 36.6kB/s]"
          }
        },
        "b52b08ad6ba14fc3b23f4f47ef7d5173": {
          "model_module": "@jupyter-widgets/base",
          "model_name": "LayoutModel",
          "model_module_version": "1.2.0",
          "state": {
            "_model_module": "@jupyter-widgets/base",
            "_model_module_version": "1.2.0",
            "_model_name": "LayoutModel",
            "_view_count": null,
            "_view_module": "@jupyter-widgets/base",
            "_view_module_version": "1.2.0",
            "_view_name": "LayoutView",
            "align_content": null,
            "align_items": null,
            "align_self": null,
            "border": null,
            "bottom": null,
            "display": null,
            "flex": null,
            "flex_flow": null,
            "grid_area": null,
            "grid_auto_columns": null,
            "grid_auto_flow": null,
            "grid_auto_rows": null,
            "grid_column": null,
            "grid_gap": null,
            "grid_row": null,
            "grid_template_areas": null,
            "grid_template_columns": null,
            "grid_template_rows": null,
            "height": null,
            "justify_content": null,
            "justify_items": null,
            "left": null,
            "margin": null,
            "max_height": null,
            "max_width": null,
            "min_height": null,
            "min_width": null,
            "object_fit": null,
            "object_position": null,
            "order": null,
            "overflow": null,
            "overflow_x": null,
            "overflow_y": null,
            "padding": null,
            "right": null,
            "top": null,
            "visibility": null,
            "width": null
          }
        },
        "a0987694d5ba4e89894554d4286194ef": {
          "model_module": "@jupyter-widgets/base",
          "model_name": "LayoutModel",
          "model_module_version": "1.2.0",
          "state": {
            "_model_module": "@jupyter-widgets/base",
            "_model_module_version": "1.2.0",
            "_model_name": "LayoutModel",
            "_view_count": null,
            "_view_module": "@jupyter-widgets/base",
            "_view_module_version": "1.2.0",
            "_view_name": "LayoutView",
            "align_content": null,
            "align_items": null,
            "align_self": null,
            "border": null,
            "bottom": null,
            "display": null,
            "flex": null,
            "flex_flow": null,
            "grid_area": null,
            "grid_auto_columns": null,
            "grid_auto_flow": null,
            "grid_auto_rows": null,
            "grid_column": null,
            "grid_gap": null,
            "grid_row": null,
            "grid_template_areas": null,
            "grid_template_columns": null,
            "grid_template_rows": null,
            "height": null,
            "justify_content": null,
            "justify_items": null,
            "left": null,
            "margin": null,
            "max_height": null,
            "max_width": null,
            "min_height": null,
            "min_width": null,
            "object_fit": null,
            "object_position": null,
            "order": null,
            "overflow": null,
            "overflow_x": null,
            "overflow_y": null,
            "padding": null,
            "right": null,
            "top": null,
            "visibility": null,
            "width": null
          }
        },
        "6fdb637f39694d8a828da13fab7ad7a6": {
          "model_module": "@jupyter-widgets/controls",
          "model_name": "DescriptionStyleModel",
          "model_module_version": "1.5.0",
          "state": {
            "_model_module": "@jupyter-widgets/controls",
            "_model_module_version": "1.5.0",
            "_model_name": "DescriptionStyleModel",
            "_view_count": null,
            "_view_module": "@jupyter-widgets/base",
            "_view_module_version": "1.2.0",
            "_view_name": "StyleView",
            "description_width": ""
          }
        },
        "201fe0f63c584ff8bd83bc2ed970dfef": {
          "model_module": "@jupyter-widgets/base",
          "model_name": "LayoutModel",
          "model_module_version": "1.2.0",
          "state": {
            "_model_module": "@jupyter-widgets/base",
            "_model_module_version": "1.2.0",
            "_model_name": "LayoutModel",
            "_view_count": null,
            "_view_module": "@jupyter-widgets/base",
            "_view_module_version": "1.2.0",
            "_view_name": "LayoutView",
            "align_content": null,
            "align_items": null,
            "align_self": null,
            "border": null,
            "bottom": null,
            "display": null,
            "flex": null,
            "flex_flow": null,
            "grid_area": null,
            "grid_auto_columns": null,
            "grid_auto_flow": null,
            "grid_auto_rows": null,
            "grid_column": null,
            "grid_gap": null,
            "grid_row": null,
            "grid_template_areas": null,
            "grid_template_columns": null,
            "grid_template_rows": null,
            "height": null,
            "justify_content": null,
            "justify_items": null,
            "left": null,
            "margin": null,
            "max_height": null,
            "max_width": null,
            "min_height": null,
            "min_width": null,
            "object_fit": null,
            "object_position": null,
            "order": null,
            "overflow": null,
            "overflow_x": null,
            "overflow_y": null,
            "padding": null,
            "right": null,
            "top": null,
            "visibility": null,
            "width": null
          }
        },
        "33c396327a0b412a9bf5faa0a8059d46": {
          "model_module": "@jupyter-widgets/controls",
          "model_name": "ProgressStyleModel",
          "model_module_version": "1.5.0",
          "state": {
            "_model_module": "@jupyter-widgets/controls",
            "_model_module_version": "1.5.0",
            "_model_name": "ProgressStyleModel",
            "_view_count": null,
            "_view_module": "@jupyter-widgets/base",
            "_view_module_version": "1.2.0",
            "_view_name": "StyleView",
            "bar_color": null,
            "description_width": ""
          }
        },
        "8c4858e268de4efe96cfd162571d03de": {
          "model_module": "@jupyter-widgets/base",
          "model_name": "LayoutModel",
          "model_module_version": "1.2.0",
          "state": {
            "_model_module": "@jupyter-widgets/base",
            "_model_module_version": "1.2.0",
            "_model_name": "LayoutModel",
            "_view_count": null,
            "_view_module": "@jupyter-widgets/base",
            "_view_module_version": "1.2.0",
            "_view_name": "LayoutView",
            "align_content": null,
            "align_items": null,
            "align_self": null,
            "border": null,
            "bottom": null,
            "display": null,
            "flex": null,
            "flex_flow": null,
            "grid_area": null,
            "grid_auto_columns": null,
            "grid_auto_flow": null,
            "grid_auto_rows": null,
            "grid_column": null,
            "grid_gap": null,
            "grid_row": null,
            "grid_template_areas": null,
            "grid_template_columns": null,
            "grid_template_rows": null,
            "height": null,
            "justify_content": null,
            "justify_items": null,
            "left": null,
            "margin": null,
            "max_height": null,
            "max_width": null,
            "min_height": null,
            "min_width": null,
            "object_fit": null,
            "object_position": null,
            "order": null,
            "overflow": null,
            "overflow_x": null,
            "overflow_y": null,
            "padding": null,
            "right": null,
            "top": null,
            "visibility": null,
            "width": null
          }
        },
        "454e007291e44b29a8c401c0f4cdc15a": {
          "model_module": "@jupyter-widgets/controls",
          "model_name": "DescriptionStyleModel",
          "model_module_version": "1.5.0",
          "state": {
            "_model_module": "@jupyter-widgets/controls",
            "_model_module_version": "1.5.0",
            "_model_name": "DescriptionStyleModel",
            "_view_count": null,
            "_view_module": "@jupyter-widgets/base",
            "_view_module_version": "1.2.0",
            "_view_name": "StyleView",
            "description_width": ""
          }
        },
        "5260d673e2df446eaf2b35078eab9ca7": {
          "model_module": "@jupyter-widgets/controls",
          "model_name": "HBoxModel",
          "model_module_version": "1.5.0",
          "state": {
            "_dom_classes": [],
            "_model_module": "@jupyter-widgets/controls",
            "_model_module_version": "1.5.0",
            "_model_name": "HBoxModel",
            "_view_count": null,
            "_view_module": "@jupyter-widgets/controls",
            "_view_module_version": "1.5.0",
            "_view_name": "HBoxView",
            "box_style": "",
            "children": [
              "IPY_MODEL_e17c3c29c65d4393973b9dbc0488959a",
              "IPY_MODEL_6e69450539a743a39aff63d00f9998b7",
              "IPY_MODEL_255353e709064e12b8f6b115e6632eb6"
            ],
            "layout": "IPY_MODEL_8bb469d5f3654233baa7a41a1814b308"
          }
        },
        "e17c3c29c65d4393973b9dbc0488959a": {
          "model_module": "@jupyter-widgets/controls",
          "model_name": "HTMLModel",
          "model_module_version": "1.5.0",
          "state": {
            "_dom_classes": [],
            "_model_module": "@jupyter-widgets/controls",
            "_model_module_version": "1.5.0",
            "_model_name": "HTMLModel",
            "_view_count": null,
            "_view_module": "@jupyter-widgets/controls",
            "_view_module_version": "1.5.0",
            "_view_name": "HTMLView",
            "description": "",
            "description_tooltip": null,
            "layout": "IPY_MODEL_57de4def900743a3b42a49dc3f82a9ba",
            "placeholder": "​",
            "style": "IPY_MODEL_5106b6cb896d4ed397f7bdb930a6c47f",
            "value": "Downloading model.safetensors: 100%"
          }
        },
        "6e69450539a743a39aff63d00f9998b7": {
          "model_module": "@jupyter-widgets/controls",
          "model_name": "FloatProgressModel",
          "model_module_version": "1.5.0",
          "state": {
            "_dom_classes": [],
            "_model_module": "@jupyter-widgets/controls",
            "_model_module_version": "1.5.0",
            "_model_name": "FloatProgressModel",
            "_view_count": null,
            "_view_module": "@jupyter-widgets/controls",
            "_view_module_version": "1.5.0",
            "_view_name": "ProgressView",
            "bar_style": "success",
            "description": "",
            "description_tooltip": null,
            "layout": "IPY_MODEL_c40a99d2d7f64645a7634c46e7dd46b8",
            "max": 435755784,
            "min": 0,
            "orientation": "horizontal",
            "style": "IPY_MODEL_2ff47edbee5741d1881cd40c145457a3",
            "value": 435755784
          }
        },
        "255353e709064e12b8f6b115e6632eb6": {
          "model_module": "@jupyter-widgets/controls",
          "model_name": "HTMLModel",
          "model_module_version": "1.5.0",
          "state": {
            "_dom_classes": [],
            "_model_module": "@jupyter-widgets/controls",
            "_model_module_version": "1.5.0",
            "_model_name": "HTMLModel",
            "_view_count": null,
            "_view_module": "@jupyter-widgets/controls",
            "_view_module_version": "1.5.0",
            "_view_name": "HTMLView",
            "description": "",
            "description_tooltip": null,
            "layout": "IPY_MODEL_2617dccaeec944d68c703fbc2f99468f",
            "placeholder": "​",
            "style": "IPY_MODEL_068a85d8d56d45b8890437eb16c0968c",
            "value": " 436M/436M [00:04&lt;00:00, 50.9MB/s]"
          }
        },
        "8bb469d5f3654233baa7a41a1814b308": {
          "model_module": "@jupyter-widgets/base",
          "model_name": "LayoutModel",
          "model_module_version": "1.2.0",
          "state": {
            "_model_module": "@jupyter-widgets/base",
            "_model_module_version": "1.2.0",
            "_model_name": "LayoutModel",
            "_view_count": null,
            "_view_module": "@jupyter-widgets/base",
            "_view_module_version": "1.2.0",
            "_view_name": "LayoutView",
            "align_content": null,
            "align_items": null,
            "align_self": null,
            "border": null,
            "bottom": null,
            "display": null,
            "flex": null,
            "flex_flow": null,
            "grid_area": null,
            "grid_auto_columns": null,
            "grid_auto_flow": null,
            "grid_auto_rows": null,
            "grid_column": null,
            "grid_gap": null,
            "grid_row": null,
            "grid_template_areas": null,
            "grid_template_columns": null,
            "grid_template_rows": null,
            "height": null,
            "justify_content": null,
            "justify_items": null,
            "left": null,
            "margin": null,
            "max_height": null,
            "max_width": null,
            "min_height": null,
            "min_width": null,
            "object_fit": null,
            "object_position": null,
            "order": null,
            "overflow": null,
            "overflow_x": null,
            "overflow_y": null,
            "padding": null,
            "right": null,
            "top": null,
            "visibility": null,
            "width": null
          }
        },
        "57de4def900743a3b42a49dc3f82a9ba": {
          "model_module": "@jupyter-widgets/base",
          "model_name": "LayoutModel",
          "model_module_version": "1.2.0",
          "state": {
            "_model_module": "@jupyter-widgets/base",
            "_model_module_version": "1.2.0",
            "_model_name": "LayoutModel",
            "_view_count": null,
            "_view_module": "@jupyter-widgets/base",
            "_view_module_version": "1.2.0",
            "_view_name": "LayoutView",
            "align_content": null,
            "align_items": null,
            "align_self": null,
            "border": null,
            "bottom": null,
            "display": null,
            "flex": null,
            "flex_flow": null,
            "grid_area": null,
            "grid_auto_columns": null,
            "grid_auto_flow": null,
            "grid_auto_rows": null,
            "grid_column": null,
            "grid_gap": null,
            "grid_row": null,
            "grid_template_areas": null,
            "grid_template_columns": null,
            "grid_template_rows": null,
            "height": null,
            "justify_content": null,
            "justify_items": null,
            "left": null,
            "margin": null,
            "max_height": null,
            "max_width": null,
            "min_height": null,
            "min_width": null,
            "object_fit": null,
            "object_position": null,
            "order": null,
            "overflow": null,
            "overflow_x": null,
            "overflow_y": null,
            "padding": null,
            "right": null,
            "top": null,
            "visibility": null,
            "width": null
          }
        },
        "5106b6cb896d4ed397f7bdb930a6c47f": {
          "model_module": "@jupyter-widgets/controls",
          "model_name": "DescriptionStyleModel",
          "model_module_version": "1.5.0",
          "state": {
            "_model_module": "@jupyter-widgets/controls",
            "_model_module_version": "1.5.0",
            "_model_name": "DescriptionStyleModel",
            "_view_count": null,
            "_view_module": "@jupyter-widgets/base",
            "_view_module_version": "1.2.0",
            "_view_name": "StyleView",
            "description_width": ""
          }
        },
        "c40a99d2d7f64645a7634c46e7dd46b8": {
          "model_module": "@jupyter-widgets/base",
          "model_name": "LayoutModel",
          "model_module_version": "1.2.0",
          "state": {
            "_model_module": "@jupyter-widgets/base",
            "_model_module_version": "1.2.0",
            "_model_name": "LayoutModel",
            "_view_count": null,
            "_view_module": "@jupyter-widgets/base",
            "_view_module_version": "1.2.0",
            "_view_name": "LayoutView",
            "align_content": null,
            "align_items": null,
            "align_self": null,
            "border": null,
            "bottom": null,
            "display": null,
            "flex": null,
            "flex_flow": null,
            "grid_area": null,
            "grid_auto_columns": null,
            "grid_auto_flow": null,
            "grid_auto_rows": null,
            "grid_column": null,
            "grid_gap": null,
            "grid_row": null,
            "grid_template_areas": null,
            "grid_template_columns": null,
            "grid_template_rows": null,
            "height": null,
            "justify_content": null,
            "justify_items": null,
            "left": null,
            "margin": null,
            "max_height": null,
            "max_width": null,
            "min_height": null,
            "min_width": null,
            "object_fit": null,
            "object_position": null,
            "order": null,
            "overflow": null,
            "overflow_x": null,
            "overflow_y": null,
            "padding": null,
            "right": null,
            "top": null,
            "visibility": null,
            "width": null
          }
        },
        "2ff47edbee5741d1881cd40c145457a3": {
          "model_module": "@jupyter-widgets/controls",
          "model_name": "ProgressStyleModel",
          "model_module_version": "1.5.0",
          "state": {
            "_model_module": "@jupyter-widgets/controls",
            "_model_module_version": "1.5.0",
            "_model_name": "ProgressStyleModel",
            "_view_count": null,
            "_view_module": "@jupyter-widgets/base",
            "_view_module_version": "1.2.0",
            "_view_name": "StyleView",
            "bar_color": null,
            "description_width": ""
          }
        },
        "2617dccaeec944d68c703fbc2f99468f": {
          "model_module": "@jupyter-widgets/base",
          "model_name": "LayoutModel",
          "model_module_version": "1.2.0",
          "state": {
            "_model_module": "@jupyter-widgets/base",
            "_model_module_version": "1.2.0",
            "_model_name": "LayoutModel",
            "_view_count": null,
            "_view_module": "@jupyter-widgets/base",
            "_view_module_version": "1.2.0",
            "_view_name": "LayoutView",
            "align_content": null,
            "align_items": null,
            "align_self": null,
            "border": null,
            "bottom": null,
            "display": null,
            "flex": null,
            "flex_flow": null,
            "grid_area": null,
            "grid_auto_columns": null,
            "grid_auto_flow": null,
            "grid_auto_rows": null,
            "grid_column": null,
            "grid_gap": null,
            "grid_row": null,
            "grid_template_areas": null,
            "grid_template_columns": null,
            "grid_template_rows": null,
            "height": null,
            "justify_content": null,
            "justify_items": null,
            "left": null,
            "margin": null,
            "max_height": null,
            "max_width": null,
            "min_height": null,
            "min_width": null,
            "object_fit": null,
            "object_position": null,
            "order": null,
            "overflow": null,
            "overflow_x": null,
            "overflow_y": null,
            "padding": null,
            "right": null,
            "top": null,
            "visibility": null,
            "width": null
          }
        },
        "068a85d8d56d45b8890437eb16c0968c": {
          "model_module": "@jupyter-widgets/controls",
          "model_name": "DescriptionStyleModel",
          "model_module_version": "1.5.0",
          "state": {
            "_model_module": "@jupyter-widgets/controls",
            "_model_module_version": "1.5.0",
            "_model_name": "DescriptionStyleModel",
            "_view_count": null,
            "_view_module": "@jupyter-widgets/base",
            "_view_module_version": "1.2.0",
            "_view_name": "StyleView",
            "description_width": ""
          }
        }
      }
    }
  },
  "nbformat": 4,
  "nbformat_minor": 0
}