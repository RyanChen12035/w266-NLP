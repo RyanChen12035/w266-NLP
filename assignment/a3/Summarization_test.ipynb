{
  "cells": [
    {
      "cell_type": "markdown",
      "metadata": {
        "id": "e-k1jXQHLyFU"
      },
      "source": [
        "# Assignment 3: Summarization Tests\n",
        "\n",
        "**Description:** This assignment covers summarization outputs. You will compare three different types of solutions, all using an encoder decoder architecture. You should also be able to develop an intuition for:\n",
        "\n",
        "\n",
        "* How well summarization systems work\n",
        "* The effects of using different pre-training and fine-tuning checkpoints on outcomes\n",
        "* The effects of hyperparameters on outcomes\n",
        "* Evaluation of output using ROUGE\n",
        "\n",
        "\n",
        "\n",
        "This notebook should be run on a Google Colab but it does not require a GPU. By default, when you open the notebook in Colab it will NOT configure a GPU.  Summarization commands can take up to five minutes to run depending on the hyperparameters you use. This notebook will NOT run on your GCP instance as the summary models are larger than the avaialble memory.\n",
        "\n",
        "\n",
        "[![Open In Colab](https://colab.research.google.com/assets/colab-badge.svg)](https://colab.research.google.com/github/datasci-w266/2023-summer-main/blob/master/assignment/a3/Summarization_test.ipynb)\n",
        "\n",
        "The overall assignment structure is as follows:\n",
        "\n",
        " Setup\n",
        "\n",
        "1. T5 for generic summarization\n",
        "\n",
        "2. Pegasus for headline summarization\n",
        "\n",
        "3. Pegasus for longer generation\n",
        "\n",
        "\n",
        "\n",
        "\n",
        "**INSTRUCTIONS:**:\n",
        "\n",
        "* Questions are always indicated as **QUESTION:**, so you can search for this string to make sure you answered all of the questions. You are expected to fill out, run, and submit this notebook, as well as to answer the questions in the **answers** file as you did in a1 and a2.\n",
        "\n",
        "* **### YOUR CODE HERE** indicates that you are supposed to write code.\n",
        "\n",
        "\n"
      ]
    },
    {
      "cell_type": "markdown",
      "metadata": {
        "id": "0QDMDB_KqT8m"
      },
      "source": [
        "## Setup"
      ]
    },
    {
      "cell_type": "code",
      "execution_count": null,
      "metadata": {
        "id": "Gl5EZTtfK5jL"
      },
      "outputs": [],
      "source": [
        "!pip install -q sentencepiece"
      ]
    },
    {
      "cell_type": "code",
      "execution_count": null,
      "metadata": {
        "id": "xp3SaiO8LXrC"
      },
      "outputs": [],
      "source": [
        "!pip install -q transformers"
      ]
    },
    {
      "cell_type": "code",
      "execution_count": null,
      "metadata": {
        "id": "KzQBFiaPnr4j"
      },
      "outputs": [],
      "source": [
        "!pip install -q evaluate\n",
        "import evaluate"
      ]
    },
    {
      "cell_type": "code",
      "execution_count": null,
      "metadata": {
        "id": "Lsz88WynuVkn"
      },
      "outputs": [],
      "source": [
        "!pip install -q rouge_score"
      ]
    },
    {
      "cell_type": "code",
      "execution_count": null,
      "metadata": {
        "id": "M9Z1Xt8YIS-6"
      },
      "outputs": [],
      "source": [
        "#let's make longer output readable without horizontal scrolling\n",
        "from pprint import pprint"
      ]
    },
    {
      "cell_type": "markdown",
      "metadata": {
        "id": "CE4JuNugLura"
      },
      "source": [
        "Let's leverage the pre-trained and fine tuned models on HuggingFace to demonstrate some capabilities with abstractive summarization and language generation.  They include models/checkpoints that were fine tuned on a particular dataset.  In our case we'll focus on one dataset that emphasizes a one line output and another that emphasizes a multi-line output."
      ]
    },
    {
      "cell_type": "markdown",
      "metadata": {
        "id": "_UUcHy8gPpHT"
      },
      "source": [
        "We'll use this same toy article as the input to all of our summarization attempts.  That way we have the ability to compare. We'll also create two references for evaluation.  These are the targets you are trying to meet.  One reference is for the longer output. The second reference is the short one for the one line output."
      ]
    },
    {
      "cell_type": "code",
      "execution_count": null,
      "metadata": {
        "id": "BO8pkrxNLYIz"
      },
      "outputs": [],
      "source": [
        "\n",
        "ARTICLE_TO_SUMMARIZE = (\n",
        "    \"Nearly 800 thousand customers are scheduled to be affected by the shutoffs which are expected to last through at least midday tomorrow. \"\n",
        "    \"PG&E stated it scheduled the blackouts in response to forecasts for high winds amid dry conditions. \"\n",
        "    \"The aim is to reduce the risk of wildfires. \"\n",
        "    \"If Pacific Gas & Electric Co, a unit of PG&E Corp, goes through with another public safety power shutoff, \"\n",
        "    \" it would be the fourth round of mass blackouts imposed by the utility since Oct. 9, when some 730,000 customers were left in the dark. \"\n",
        "    \"The recent wave of precautionary shutoffs have drawn sharp criticism from Governor Gavin Newsom, state regulators and consumer activists as being overly broad in scale.\"\n",
        "    \"Newsom blames PG&E for doing too little to properly maintain and secure its power lines against wind damage.\"\n",
        "    \"Utility executives have acknowledged room for improvement while defending the sprawling scope of the power cutoffs as a matter of public safety.\"\n",
        "    \"The record breaking drought has made the current conditions even worse than in previous years. \"\n",
        "    \"It exponentially increases the probability of large scale wildfires. \"\n",
        ")\n",
        "\n",
        "LONG_REFERENCE = (\n",
        "    \"Many PG&E customers could be affected by public safety power shutoffs in response to forecasts for high winds and dry conditions. \"\n",
        "    \"The record breaking drought exponentially increases the probability of large scale wildfires. \"\n",
        "    \"Despite being criticized by Governor Newsom for being overly broad, company officials defend the cutoffs as a matter of public safety. \"\n",
        ")\n",
        "\n",
        "SHORT_REFERENCE = (\n",
        "    \"California's largest utility is set to turn off power to hundreds of thousands of customers in an effort to reduce the risk of wildfires. \"\n",
        ")"
      ]
    },
    {
      "cell_type": "markdown",
      "metadata": {
        "id": "2gImnMrnCzHa"
      },
      "source": [
        "How long is our article to summarize?  Obviously our summary should be shorter since it is supposed to be \"abridged.\""
      ]
    },
    {
      "cell_type": "code",
      "execution_count": null,
      "metadata": {
        "id": "yg7Hf_VdaQj-"
      },
      "outputs": [],
      "source": [
        "len(str.split(ARTICLE_TO_SUMMARIZE))"
      ]
    },
    {
      "cell_type": "markdown",
      "metadata": {
        "id": "C9xudUadMrFA"
      },
      "source": [
        "## 1. T5 for Generic Summarization\n",
        "\n",
        "T5 is an encoder decoder architecture that has been trained on multiple tasks, so not purely summarization.  You can read more about it [here](https://huggingface.co/docs/transformers/model_doc/t5)."
      ]
    },
    {
      "cell_type": "code",
      "execution_count": null,
      "metadata": {
        "id": "acxPLRJiSzXq"
      },
      "outputs": [],
      "source": [
        "from transformers import T5Tokenizer, TFT5ForConditionalGeneration\n",
        "\n",
        "t5model = TFT5ForConditionalGeneration.from_pretrained(\"t5-base\")\n",
        "t5tokenizer = T5Tokenizer.from_pretrained(\"t5-base\")"
      ]
    },
    {
      "cell_type": "code",
      "execution_count": null,
      "metadata": {
        "id": "9bA8lh3lEO0C"
      },
      "outputs": [],
      "source": [
        "t5model.summary()"
      ]
    },
    {
      "cell_type": "markdown",
      "metadata": {
        "id": "tYrpx6lSQu6K"
      },
      "source": [
        "Since T5 can perform multiple tasks we need to tell it what kind of output we want.  Therefore we need to prepend a \"prompt\" to our article text to make sure it does the right thing."
      ]
    },
    {
      "cell_type": "code",
      "execution_count": null,
      "metadata": {
        "id": "haKG84-iNe9k"
      },
      "outputs": [],
      "source": [
        "PROMPT = 'summarize: '\n",
        "T5ARTICLE_TO_SUMMARIZE = PROMPT + ARTICLE_TO_SUMMARIZE"
      ]
    },
    {
      "cell_type": "code",
      "execution_count": null,
      "metadata": {
        "id": "EKgvAz84SzSH"
      },
      "outputs": [],
      "source": [
        "inputs = t5tokenizer(T5ARTICLE_TO_SUMMARIZE, max_length=1024, truncation=True, return_tensors=\"tf\")"
      ]
    },
    {
      "cell_type": "markdown",
      "metadata": {
        "id": "yoDo-7DzQCQl"
      },
      "source": [
        "What do the inputs look like?  How does it compare with what we've seen from BERT?"
      ]
    },
    {
      "cell_type": "code",
      "execution_count": null,
      "metadata": {
        "id": "il9ui27nSRID"
      },
      "outputs": [],
      "source": [
        "inputs"
      ]
    },
    {
      "cell_type": "markdown",
      "metadata": {
        "id": "S6NT_ADVQCQm"
      },
      "source": [
        "Let's just run T5 using it's default hyperparameters and see what happens.  We'll hold on to the output in the candidate variable.  What do you think about the output?"
      ]
    },
    {
      "cell_type": "code",
      "execution_count": null,
      "metadata": {
        "id": "wQzPxfCutzsl"
      },
      "outputs": [],
      "source": [
        "# Generate Summary\n",
        "summary_ids = t5model.generate(inputs[\"input_ids\"],\n",
        "                               max_new_tokens=30\n",
        ")\n",
        "candidate = t5tokenizer.batch_decode(summary_ids, skip_special_tokens=True, clean_up_tokenization_spaces=False)\n",
        "pprint(candidate[0], compact=True)"
      ]
    },
    {
      "cell_type": "markdown",
      "metadata": {
        "id": "6JSmlLkqtHQ5"
      },
      "source": [
        "### 1.a Checkpoint Configuration\n",
        "\n",
        "We're using the `t5-base` configuration and we know we can run out of the box to do summarization which means it has some hyperparameters set as defaults.  These may or may not be what we want to use.  How do we know which values are set as defaults?\n",
        "\n",
        "HuggingFace provides access to the default hyperparameters via the AutoConfig object which we call below.  We simply pass in the name of the checkpoint we're using -- `t5-base` in this case.\n"
      ]
    },
    {
      "cell_type": "code",
      "execution_count": null,
      "metadata": {
        "id": "E-DC5UoBscv4"
      },
      "outputs": [],
      "source": [
        "from transformers import AutoConfig\n",
        "\n",
        "config = AutoConfig.from_pretrained(\"t5-base\")\n",
        "\n",
        "config"
      ]
    },
    {
      "cell_type": "markdown",
      "metadata": {
        "id": "eqhE0DpTvmQP"
      },
      "source": [
        "Look at the `task_specific_params` for summarization. You can see that this `t5-base` checkpoint has some values such as min_length and max_length as well as no_repeat_ngram_size and num_beams.  You can affect the size and content of the output by modifying these parameters which you will do below.\n",
        "\n",
        "You can also look at the full set of possible parameters in the [TFGenerationMixin](https://huggingface.co/docs/transformers/v4.18.0/en/main_classes/text_generation#transformers.generation_tf_utils.TFGenerationMixin) class available to all of the pre-trained models.\n",
        "\n",
        "HuggingFace has also written [a very helpful blog post](https://huggingface.co/blog/how-to-generate) that explains and discusses various strategies for text generation and how to manipulate the hyperparameters.  They discuss the two approaches of beam search (which we have discussed in the async and live session) as well as sampling (which tries to randomly pick the next word within a k-sized distribution of highly probable choices).\n",
        "\n",
        "**Please read the blog post before you proceed.**"
      ]
    },
    {
      "cell_type": "markdown",
      "metadata": {
        "id": "MMFFnkUwRWKi"
      },
      "source": [
        "For your reference, here's a more complex, technical, and thorough [HuggingFace guide](https://huggingface.co/docs/transformers/main/en/generation_strategies) for controlling generation of text.  The blog post above is all you need to read to complete the assignment."
      ]
    },
    {
      "cell_type": "markdown",
      "metadata": {
        "id": "C89LpeBj7i4F"
      },
      "source": [
        "### 1.b ROUGE for summarization evaluation\n",
        "\n",
        "ROUGE is the metric that has been traditionally used to evaluate sumarization results.  The ROUGE metric expects a reference as input and it will evaluate a candidate against that reference.  ROUGE-1 calculates the number of words in the reference that occur in the candidate.  ROUGE-2 performs that same calculation but for bigrams in the reference. ROUGE-L calculates the longest common subsequence of reference words that occur in the candidate.\n",
        "\n",
        "HuggingFace provides a wrapper around [a library](https://huggingface.co/spaces/evaluate-metric/rouge) to calculate ROUGE metrics which you will use below.  Let's calculate the ROUGE score for the candidate you produced above."
      ]
    },
    {
      "cell_type": "code",
      "execution_count": null,
      "metadata": {
        "id": "Ae6-_06inr44"
      },
      "outputs": [],
      "source": [
        "rouge = evaluate.load('rouge')\n",
        "predictions = candidate\n",
        "references = [SHORT_REFERENCE]\n",
        "results = rouge.compute(predictions=predictions,\n",
        "                        references=references)\n",
        "print(results)"
      ]
    },
    {
      "cell_type": "markdown",
      "metadata": {
        "id": "V8OQmtGeQCQp"
      },
      "source": [
        "Let's experiment with the hyperparameters shown above.  Please experiment in the cell below.  The `num_beams` value is like a beam search.  It indicates the number of tries the model makes before showing you its best output.  The `no_repeat_ngram_size` is designed to help reduce repetition in the output.  `min_length` and `max_length` set boundaries on the size of the summary. You are free to use other hyperparameters as described in the [blog post](https://huggingface.co/blog/how-to-generate).\n",
        "\n",
        "*There is no one correct answer to these questions.  There are ranges that tend to work better than others.  The goal is to have you experiment to help build intuition.  Please enter the values that you think are generating the most readable output.*\n",
        "\n",
        "*Your readable output should consist of at least one complete sentence but does not have to end with a period and you must also have a ROUGE-1 score above 0.30 and ROUGE-L score equal to or above 0.25 when compared with the short reference.*\n",
        "\n",
        "You can use the two cells below to come up with your answer."
      ]
    },
    {
      "cell_type": "code",
      "execution_count": null,
      "metadata": {
        "id": "buSASaloC305"
      },
      "outputs": [],
      "source": [
        "# Generate Summary\n",
        "summary_ids = t5model.generate(inputs[\"input_ids\"],\n",
        "### YOUR CODE HERE\n",
        "### END YOUR CODE\n",
        ")\n",
        "\n",
        "candidate = t5tokenizer.batch_decode(summary_ids, skip_special_tokens=True, clean_up_tokenization_spaces=False)\n",
        "pprint(candidate[0], compact=True)"
      ]
    },
    {
      "cell_type": "code",
      "execution_count": null,
      "metadata": {
        "id": "ckbLXpnbQCQq"
      },
      "outputs": [],
      "source": [
        "predictions = candidate\n",
        "references = [SHORT_REFERENCE]\n",
        "results = rouge.compute(predictions=predictions,\n",
        "                        references=references)\n",
        "print(results)"
      ]
    },
    {
      "cell_type": "markdown",
      "metadata": {
        "id": "ml2BkDi4UtvM"
      },
      "source": [
        "**QUESTION:**\n",
        "\n",
        "1.1 What num_beams value gives you the most readable output that meets the score criteria?\n",
        "\n",
        "1.2 Which no_repeat_ngram_size gives the most readable output that meets the score criteria?\n",
        "\n",
        "1.3 What min_length value gives you the most readable output that meets the score criteria?\n",
        "\n",
        "1.4 Which max_new_tokens value gives the most readable output that meets the score criteria?\n",
        "\n",
        "1.5 What is the ROUGE-L score associated with your most readable candidate?"
      ]
    },
    {
      "cell_type": "code",
      "execution_count": null,
      "metadata": {
        "id": "RIY8uph4iyjW"
      },
      "outputs": [],
      "source": [
        "#In order to not consume all of the memory available in Colab we'll free up the memory we're using for these large language models\n",
        "del t5model\n",
        "del t5tokenizer"
      ]
    },
    {
      "cell_type": "markdown",
      "metadata": {
        "id": "EiloUXq4SIOB"
      },
      "source": [
        "\n",
        "## 2. Pegasus for Headline Summarization\n",
        "\n",
        "Pegasus is an encoder decoder architecture that has been explicitly pre-trained as an abstractive summarizer.  You can read more about it [here](https://huggingface.co/docs/transformers/model_doc/pegasus) and [here](https://arxiv.org/pdf/1912.08777.pdf).\n",
        "\n",
        "We'll first use the `google/pegasus-xsum` checkpoint.  It is trained on a [summarization task](https://aclanthology.org/D18-1206.pdf) that reads a news article and then [emits a one line summary](https://huggingface.co/datasets/xsum).  This doesn't mean that it is limited in its output length.  It does mean that it works well with news article type inputs and tends toward shorter outputs."
      ]
    },
    {
      "cell_type": "code",
      "execution_count": null,
      "metadata": {
        "id": "aL_vm5XBLYCa"
      },
      "outputs": [],
      "source": [
        "from transformers import PegasusTokenizer, TFPegasusForConditionalGeneration\n",
        "\n",
        "pmodel = TFPegasusForConditionalGeneration.from_pretrained(\"google/pegasus-xsum\")\n",
        "ptokenizer = PegasusTokenizer.from_pretrained(\"google/pegasus-xsum\")"
      ]
    },
    {
      "cell_type": "code",
      "execution_count": null,
      "metadata": {
        "id": "ihtp3HlGSRZF"
      },
      "outputs": [],
      "source": [
        "pmodel.summary()"
      ]
    },
    {
      "cell_type": "markdown",
      "metadata": {
        "id": "4ymuHNVDQCQt"
      },
      "source": [
        "Let's see what kinds of default parameters are configured in to this checkpoint."
      ]
    },
    {
      "cell_type": "code",
      "execution_count": null,
      "metadata": {
        "id": "bOP1XnpyLKNM"
      },
      "outputs": [],
      "source": [
        "config = AutoConfig.from_pretrained(\"google/pegasus-xsum\")\n",
        "\n",
        "config"
      ]
    },
    {
      "cell_type": "markdown",
      "metadata": {
        "id": "IelLGg6jQCQt"
      },
      "source": [
        "Generate the inputs using the pegasus tokenizer for this checkpoint."
      ]
    },
    {
      "cell_type": "code",
      "execution_count": null,
      "metadata": {
        "id": "WiqSwOmD_ms_"
      },
      "outputs": [],
      "source": [
        "inputs = ptokenizer(ARTICLE_TO_SUMMARIZE, max_length=1024, truncation=True, return_tensors=\"tf\")"
      ]
    },
    {
      "cell_type": "markdown",
      "metadata": {
        "id": "FU_DtcjjQCQu"
      },
      "source": [
        "Let's get some output using just the default values and see what we're working with."
      ]
    },
    {
      "cell_type": "code",
      "execution_count": null,
      "metadata": {
        "id": "xibRiEDW5SoG"
      },
      "outputs": [],
      "source": [
        "# Generate Summary\n",
        "summary_ids = pmodel.generate(inputs[\"input_ids\"]\n",
        ")\n",
        "pprint(ptokenizer.batch_decode(summary_ids, skip_special_tokens=True, clean_up_tokenization_spaces=False)[0], compact=True)"
      ]
    },
    {
      "cell_type": "markdown",
      "metadata": {
        "id": "bUExOejWXQRl"
      },
      "source": [
        "Let's experiment with the same set of hyperparameters for the Pegasus system.  It is designed for abstractive summarization. Remember that the checkpoint we are using was trained on data that generates a one line summary for the input article.\n",
        "\n",
        "*Your readable output should consist of at least one complete sentence but does not have to end with a period and you must also have a ROUGE-1 score above 0.30 and ROUGE-L score equal to or above 0.25 when compared with the short reference.*\n",
        "\n",
        "You can use the two cells below to experiment with hyperparameters and generating and scoring your outputs in order to answer questions 2.1 - 2.5 in your answers file.\n",
        "\n",
        "**QUESTION:**\n",
        "\n",
        "2.1 What num_beams value gives you the most readable output that meets the score criteria?\n",
        "\n",
        "2.2 Which no_repeat_ngram_size gives the most readable output that meets the score criteria?\n",
        "\n",
        "2.3 What min_length value gives you the most readable output that meets the score criteria?\n",
        "\n",
        "2.4 Which max_new_tokens value gives the most readable output that meets the score criteria?\n",
        "\n",
        "2.5 What is the ROUGE-L score associated with your most readable candidate?"
      ]
    },
    {
      "cell_type": "code",
      "execution_count": null,
      "metadata": {
        "id": "UzwtfRgFLYPD"
      },
      "outputs": [],
      "source": [
        "# Generate Summary\n",
        "summary_ids = pmodel.generate(inputs[\"input_ids\"],\n",
        "### YOUR CODE HERE\n",
        "### END YOUR CODE\n",
        ")\n",
        "candidate = ptokenizer.batch_decode(summary_ids, skip_special_tokens=True, clean_up_tokenization_spaces=False)\n",
        "pprint(candidate[0], compact=True)"
      ]
    },
    {
      "cell_type": "code",
      "execution_count": null,
      "metadata": {
        "id": "HsZHkhZ0SzM8"
      },
      "outputs": [],
      "source": [
        "rouge = evaluate.load('rouge')\n",
        "predictions = candidate\n",
        "references = [SHORT_REFERENCE]\n",
        "results = rouge.compute(predictions=predictions,\n",
        "                        references=references)\n",
        "print(results)"
      ]
    },
    {
      "cell_type": "markdown",
      "metadata": {
        "id": "DcCCWke-ulaz"
      },
      "source": [
        "Delete that Pegasus model and tokenizer so we can load the next one."
      ]
    },
    {
      "cell_type": "code",
      "execution_count": null,
      "metadata": {
        "id": "00Ka26vgk_FT"
      },
      "outputs": [],
      "source": [
        "del pmodel\n",
        "del ptokenizer"
      ]
    },
    {
      "cell_type": "markdown",
      "metadata": {
        "id": "6eXBMGbxtkkh"
      },
      "source": [
        "## 3. Pegasus for Longer Generation\n",
        "\n",
        "Now let's try to produce a longer summary of our article.  In order to do that we are going to use a different fine-tuned checkpoint for Pegasus.  This checkpoint is fine-tuned on the [CNN/Daily Mail](https://huggingface.co/datasets/cnn_dailymail) set of news articles.  The references are on the order of several sentences long."
      ]
    },
    {
      "cell_type": "code",
      "execution_count": null,
      "metadata": {
        "id": "OME5_uYKbvwL"
      },
      "outputs": [],
      "source": [
        "from transformers import PegasusTokenizer, TFPegasusForConditionalGeneration\n",
        "\n",
        "cnnmodel = TFPegasusForConditionalGeneration.from_pretrained(\"google/pegasus-cnn_dailymail\", from_pt=True)\n",
        "cnntokenizer = PegasusTokenizer.from_pretrained(\"google/pegasus-cnn_dailymail\", from_pt=True)"
      ]
    },
    {
      "cell_type": "markdown",
      "metadata": {
        "id": "jNeNhSWSQCQx"
      },
      "source": [
        "Let's see how this checkpoint is configured by default:"
      ]
    },
    {
      "cell_type": "code",
      "execution_count": null,
      "metadata": {
        "id": "9EOe_hLKLaOR"
      },
      "outputs": [],
      "source": [
        "config = AutoConfig.from_pretrained(\"google/pegasus-cnn_dailymail\")\n",
        "\n",
        "config"
      ]
    },
    {
      "cell_type": "markdown",
      "metadata": {
        "id": "FcedEgr2QCQx"
      },
      "source": [
        "Let's tokenize our input for this checkpoint."
      ]
    },
    {
      "cell_type": "code",
      "execution_count": null,
      "metadata": {
        "id": "FWl1UypibvkS"
      },
      "outputs": [],
      "source": [
        "cnninputs = cnntokenizer(ARTICLE_TO_SUMMARIZE, max_length=1024, truncation=True, return_tensors=\"tf\")"
      ]
    },
    {
      "cell_type": "markdown",
      "metadata": {
        "id": "7HxZ7jOSQCQy"
      },
      "source": [
        "Run the summarizer with the defaults and let's see what it looks like."
      ]
    },
    {
      "cell_type": "code",
      "execution_count": null,
      "metadata": {
        "id": "wx0og8kI3tOE"
      },
      "outputs": [],
      "source": [
        "# Generate Summary\n",
        "summary_ids = cnnmodel.generate(inputs[\"input_ids\"]\n",
        ")\n",
        "\n",
        "pprint(cnntokenizer.batch_decode(summary_ids, skip_special_tokens=True, clean_up_tokenization_spaces=False)[0], compact=True)"
      ]
    },
    {
      "cell_type": "markdown",
      "metadata": {
        "id": "eY8StZx9R1Kx"
      },
      "source": [
        "Let's again experiment with the same set of hyperparameters (but possibly with different values) for the Pegasus system.  It is designed for abstractive summarization and this checkpoint is based on multi-line outputs.  We'll evaluate it against the long reference record.\n",
        "\n",
        "*Your readable multi-line output must have a ROUGE-1 score above 0.25 and a ROUGE-L score above 0.15.*\n",
        "\n",
        "You can use the two cells below to experiment with hyperparameters and generating and scoring your outputs in order to answer questions 3.1 - 3.5 in your answers file.\n",
        "\n",
        "**QUESTION:**\n",
        "\n",
        "3.1 What num_beams value gives you the most readable output that meets the score criteria?\n",
        "\n",
        "3.2 Which no_repeat_ngram_size gives the most readable output that meets the score criteria?\n",
        "\n",
        "3.3 What min_length value gives you the most readable output that meets the score criteria?\n",
        "\n",
        "3.4 Which max_new_tokens value gives you the most readable output that meets the score criteria?\n",
        "\n",
        "3.5 What is the ROUGE-L score associated with your most readable candidate?"
      ]
    },
    {
      "cell_type": "code",
      "execution_count": null,
      "metadata": {
        "id": "UZ3IeglUcpu8"
      },
      "outputs": [],
      "source": [
        "# Generate Summary\n",
        "summary_ids = cnnmodel.generate(cnninputs[\"input_ids\"],\n",
        "### YOUR CODE HERE\n",
        "### END YOUR CODE\n",
        "                             )\n",
        "candidate = cnntokenizer.batch_decode(summary_ids, skip_special_tokens=True, clean_up_tokenization_spaces=False)\n",
        "pprint(candidate[0], compact=True)"
      ]
    },
    {
      "cell_type": "code",
      "execution_count": null,
      "metadata": {
        "id": "wtrDFoIKbvG1"
      },
      "outputs": [],
      "source": [
        "rouge = evaluate.load('rouge')\n",
        "predictions = candidate\n",
        "references = [LONG_REFERENCE]\n",
        "results = rouge.compute(predictions=predictions,\n",
        "                        references=references)\n",
        "print(results)"
      ]
    },
    {
      "cell_type": "markdown",
      "metadata": {
        "id": "G_8izqsFbQU0"
      },
      "source": [
        "Okay, you're done.\n",
        "\n",
        "Which model do you think produced the best summaries keeping in mind that best is in the eye of the reader?"
      ]
    }
  ],
  "metadata": {
    "colab": {
      "provenance": []
    },
    "gpuClass": "standard",
    "kernelspec": {
      "display_name": "Python 3 (ipykernel)",
      "language": "python",
      "name": "python3"
    },
    "language_info": {
      "codemirror_mode": {
        "name": "ipython",
        "version": 3
      },
      "file_extension": ".py",
      "mimetype": "text/x-python",
      "name": "python",
      "nbconvert_exporter": "python",
      "pygments_lexer": "ipython3",
      "version": "3.9.13"
    }
  },
  "nbformat": 4,
  "nbformat_minor": 0
}